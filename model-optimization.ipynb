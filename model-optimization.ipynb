{
  "cells": [
    {
      "cell_type": "markdown",
      "source": [
        "# Model optimization\n",
        "\n",
        "This notebook obtains an aggregate model and a best individual classification for each model in galaxy builder's original 296 subjects, and optimizes the model parameters (leaving position and roll fixed)."
      ],
      "metadata": {}
    },
    {
      "cell_type": "code",
      "source": [
        "%load_ext autoreload\n",
        "%autoreload 2"
      ],
      "outputs": [],
      "execution_count": 1,
      "metadata": {
        "collapsed": false,
        "outputHidden": false,
        "inputHidden": false
      }
    },
    {
      "cell_type": "code",
      "source": [
        "import os\n",
        "import json\n",
        "import numpy as np\n",
        "import pandas as pd\n",
        "from copy import deepcopy\n",
        "import matplotlib.pyplot as plt\n",
        "from tqdm import tqdm\n",
        "import lib.galaxy_utilities as gu\n",
        "import gzbuilder_analysis.parsing as parsing\n",
        "import gzbuilder_analysis.rendering as rendering\n",
        "import gzbuilder_analysis.aggregation as aggregation\n",
        "import gzbuilder_analysis.fitting as fitting\n",
        "from gzbuilder_analysis.fitting.jupyter import UpdatableDisplay\n",
        "from IPython.display import HTML"
      ],
      "outputs": [],
      "execution_count": 2,
      "metadata": {
        "collapsed": false,
        "outputHidden": false,
        "inputHidden": false
      }
    },
    {
      "cell_type": "markdown",
      "source": [
        "Parameters of input (or output) file locations, and some opertational flags"
      ],
      "metadata": {}
    },
    {
      "cell_type": "code",
      "source": [
        "RECALCULATE_AGGREGATE = False\n",
        "AGGREGATE_LOCATION = 'lib/aggregation_results.pickle'\n",
        "RECALCULATE_BEST_INDIVIDUAL = False\n",
        "BEST_INDIVIDUAL_LOCATION = 'lib/best_individual.pickle'\n",
        "FITTED_MODEL_LOCATION = 'lib/fitted_models.pickle'"
      ],
      "outputs": [],
      "execution_count": 3,
      "metadata": {
        "collapsed": false,
        "outputHidden": false,
        "inputHidden": false
      }
    },
    {
      "cell_type": "markdown",
      "source": [
        "Load in the list of subject ids to use"
      ],
      "metadata": {}
    },
    {
      "cell_type": "code",
      "source": [
        "sid_list = np.loadtxt('lib/subject-id-list.csv', dtype='u8')"
      ],
      "outputs": [],
      "execution_count": 4,
      "metadata": {
        "collapsed": false,
        "outputHidden": false,
        "inputHidden": false
      }
    },
    {
      "cell_type": "markdown",
      "source": [
        "## Preparation"
      ],
      "metadata": {}
    },
    {
      "cell_type": "markdown",
      "source": [
        "Define functions to obtain the best individual classification for a galaxy, and its aggregate model"
      ],
      "metadata": {}
    },
    {
      "cell_type": "code",
      "source": [
        "def get_agg_model(subject_id):\n",
        "    gal, angle = gu.get_galaxy_and_angle(subject_id)\n",
        "    diff_data = gu.get_diff_data(subject_id)\n",
        "    size_diff = diff_data['width'] / diff_data['imageWidth']\n",
        "\n",
        "    cls = gu.classifications.query(\n",
        "        'subject_ids == {}'.format(subject_id)\n",
        "    )\n",
        "\n",
        "    model, error, masks, arms = aggregation.make_model(\n",
        "        cls, gal, angle\n",
        "    )\n",
        "    scaled_model = parsing.scale_aggregate_model(model, size_diff=size_diff)\n",
        "    scaled_errors = parsing.scale_model_errors(error, size_diff=size_diff)\n",
        "    return scaled_model, scaled_errors, masks, arms\n",
        "  \n",
        "def get_best_cls(subject_id):\n",
        "    gal, angle = gu.get_galaxy_and_angle(subject_id)\n",
        "    ba = gal['PETRO_BA90']\n",
        "    im = gu.get_image(subject_id)\n",
        "    psf = gu.get_psf(subject_id)\n",
        "    diff_data = gu.get_diff_data(subject_id)\n",
        "    pixel_mask = 1 - np.array(diff_data['mask'])[::-1]\n",
        "    galaxy_data = np.array(diff_data['imageData'])[::-1]\n",
        "    size_diff = diff_data['width'] / diff_data['imageWidth']\n",
        "\n",
        "    query_string = 'subject_ids == {}'.format(subject_id)\n",
        "    cls = gu.classifications.query(query_string)\n",
        "    annotations = cls['annotations'].apply(json.loads)\n",
        "\n",
        "    models = annotations.apply(parsing.parse_annotation, size_diff=size_diff)\n",
        "    rendered = models.apply(\n",
        "        rendering.calculate_model,\n",
        "        image_size=diff_data['imageData'].shape[0],\n",
        "        psf=psf\n",
        "    )\n",
        "    diffs = rendered.apply(\n",
        "        rendering.compare_to_galaxy, args=(galaxy_data,),\n",
        "        pixel_mask=pixel_mask, stretch=False\n",
        "    )\n",
        "    losses = rendered.apply(fitting.loss, args=(galaxy_data,), pixel_mask=pixel_mask)\n",
        "    return losses.idxmin(), models.loc[losses.idxmin()]"
      ],
      "outputs": [],
      "execution_count": 5,
      "metadata": {
        "collapsed": false,
        "outputHidden": false,
        "inputHidden": false
      }
    },
    {
      "cell_type": "markdown",
      "source": [
        "Calculate (or load) the list of aggregate models"
      ],
      "metadata": {}
    },
    {
      "cell_type": "code",
      "source": [
        "if RECALCULATE_AGGREGATE:\n",
        "    tqdm.pandas(desc='Running on all', leave=True)\n",
        "    aggregation_results = pd.Series(\n",
        "        sid_list, index=sid_list\n",
        "    ).progress_apply(get_agg_model)\\\n",
        "        .apply(pd.Series)\n",
        "    aggregation_results.columns = ('Model', 'Errors', 'Masks', 'Arms')\n",
        "    aggregation_results.to_pickle(AGGREGATE_LOCATION)\n",
        "else:\n",
        "    aggregation_results = pd.read_pickle(AGGREGATE_LOCATION)"
      ],
      "outputs": [],
      "execution_count": 6,
      "metadata": {
        "collapsed": false,
        "outputHidden": false,
        "inputHidden": false
      }
    },
    {
      "cell_type": "markdown",
      "source": [
        "Calculate (or load) the list of best individual models"
      ],
      "metadata": {}
    },
    {
      "cell_type": "code",
      "source": [
        "if RECALCULATE_BEST_INDIVIDUAL:\n",
        "    tqdm.pandas(desc='Running on all', leave=True)\n",
        "    best_indiv = pd.Series(sid_list, index=sid_list)\\\n",
        "        .progress_apply(get_best_cls)\\\n",
        "        .apply(pd.Series)\n",
        "    best_indiv.columns = ('Index', 'Model')\n",
        "    best_indiv.to_pickle(BEST_INDIVIDUAL_LOCATION)\n",
        "else:\n",
        "    best_indiv = pd.read_pickle(\n",
        "        BEST_INDIVIDUAL_LOCATION\n",
        "    )"
      ],
      "outputs": [],
      "execution_count": 7,
      "metadata": {
        "collapsed": false,
        "outputHidden": false,
        "inputHidden": false
      }
    },
    {
      "cell_type": "markdown",
      "source": [
        "We make use of `gzbuilder_aggregation.fitting.Model` to perform fitting. Convert all our models from above into instances of this Object:"
      ],
      "metadata": {}
    },
    {
      "cell_type": "code",
      "source": [
        "def make_model(subject_id, m):\n",
        "    psf = gu.get_psf(subject_id)\n",
        "    diff_data = gu.get_diff_data(subject_id)\n",
        "    pixel_mask = 1 - np.array(diff_data['mask'])[::-1]\n",
        "    galaxy_data = np.array(diff_data['imageData'])[::-1]\n",
        "    return fitting.Model(m, galaxy_data, psf=psf, pixel_mask=pixel_mask)"
      ],
      "outputs": [],
      "execution_count": 8,
      "metadata": {
        "collapsed": false,
        "outputHidden": false,
        "inputHidden": false
      }
    },
    {
      "cell_type": "code",
      "source": [
        "agg_models = pd.Series([]).rename('agg_models')\n",
        "with tqdm(\n",
        "  aggregation_results['Model'].items(),\n",
        "  total=len(aggregation_results)\n",
        ") as bar:\n",
        "  for i, model in bar:\n",
        "      agg_models[i] = make_model(i, model)"
      ],
      "outputs": [
        {
          "output_type": "stream",
          "name": "stderr",
          "text": [
            "100%|██████████| 296/296 [01:35<00:00,  4.89it/s]\n"
          ]
        }
      ],
      "execution_count": 9,
      "metadata": {
        "collapsed": false,
        "outputHidden": false,
        "inputHidden": false
      }
    },
    {
      "cell_type": "code",
      "source": [
        "bi_models = pd.Series([]).rename('models')\n",
        "with tqdm(best_indiv['Model'].items(), total=len(best_indiv)) as bar:\n",
        "  for i, model in bar:\n",
        "      bi_models[i] = make_model(i, model)"
      ],
      "outputs": [
        {
          "output_type": "stream",
          "name": "stderr",
          "text": [
            "100%|██████████| 296/296 [01:34<00:00,  4.87it/s]\n"
          ]
        }
      ],
      "execution_count": 10,
      "metadata": {
        "collapsed": false,
        "outputHidden": false,
        "inputHidden": false
      }
    },
    {
      "cell_type": "markdown",
      "source": [
        "## Optimization\n",
        "\n",
        "We now perform fitting on the models created earlier. Parameters fit are\n",
        "\n",
        "|         | $i_0$ | $R_e$ | $e$ | $n$ | $c$ | $W$ | $F$ |\n",
        "|:--------|:------|:------|:----|:----|:----|:----|:----|\n",
        "| Disk    | x     | x     |     |     |     |     |     |\n",
        "| Bulge   | x     | x     |     | x   |     |     |     |\n",
        "| Bar     | x     | x     |     | x   | x   |     |     |\n",
        "| Spirals | x     |       |     |     |     | x   | x   |\n",
        "\n",
        "Where $W$ is the spiral spread and $F$ is spiral falloff (others are parameters of a boxy Sérsic profile).\n",
        "\n",
        "For the aggregate model we first fit without spiral arms, then introduce low-brightness arms and fit fully."
      ],
      "metadata": {}
    },
    {
      "cell_type": "code",
      "source": [
        "from gzbuilder_analysis.config import FIT_PARAMS\n",
        "FIT_PARAMS"
      ],
      "outputs": [
        {
          "output_type": "execute_result",
          "execution_count": 23,
          "data": {
            "text/plain": [
              "{'disk': ('i0', 'rEff'),\n",
              " 'bulge': ('i0', 'rEff', 'n'),\n",
              " 'bar': ('i0', 'rEff', 'n', 'c'),\n",
              " 'spiral': ('i0', 'spread', 'falloff')}"
            ]
          },
          "metadata": {}
        }
      ],
      "execution_count": 23,
      "metadata": {
        "collapsed": false,
        "outputHidden": false,
        "inputHidden": false
      }
    },
    {
      "cell_type": "code",
      "source": [
        "def reset_spiral_intensity(s):\n",
        "    points, params = s\n",
        "    new_params = deepcopy(params)\n",
        "    new_params['i0'] = 0.01\n",
        "    return [points, new_params]"
      ],
      "outputs": [],
      "execution_count": 11,
      "metadata": {
        "collapsed": false,
        "outputHidden": false,
        "inputHidden": false
      }
    },
    {
      "cell_type": "code",
      "source": [
        "fitted_agg_models = pd.Series([]).rename('fitted_agg_models')"
      ],
      "outputs": [],
      "execution_count": 12,
      "metadata": {
        "collapsed": false,
        "outputHidden": false,
        "inputHidden": false
      }
    },
    {
      "cell_type": "code",
      "source": [
        "display(HTML('<br>Fitting models</br>'))\n",
        "v = lambda *a: HTML('{} / {}: {} - {}'.format(*a))\n",
        "d = UpdatableDisplay(v(0, len(sid_list), '', ''))\n",
        "for i, (s, model) in enumerate(agg_models.items()):\n",
        "    if s in fitted_agg_models.index:\n",
        "        continue\n",
        "    d(v(i, len(sid_list), s, '(1/2) Without spirals'))\n",
        "    try:\n",
        "        spirals_removed = deepcopy(model._model['spiral'])\n",
        "        agg_model_nosp = model.copy_with_new_model({\n",
        "          **deepcopy(model._model),\n",
        "          'spiral': np.array([])\n",
        "        })\n",
        "        new_model, res = fitting.fit(agg_model_nosp, progress=True)\n",
        "        if res['success']:\n",
        "            if len(spirals_removed) == 0:\n",
        "                fitted_agg_models[s] = new_model\n",
        "                continue\n",
        "            d(v(i, len(sid_list), s, '(2/2) With spirals'))\n",
        "            agg_model_sp = model.copy_with_new_model({\n",
        "              **deepcopy(new_model),\n",
        "              'spiral': [reset_spiral_intensity(s) for s in spirals_removed],\n",
        "            })\n",
        "            new_model, res = fitting.fit(agg_model_sp, progress=True)\n",
        "            if res['success']:\n",
        "                fitted_agg_models[s] = new_model\n",
        "    except ZeroDivisionError:\n",
        "        pass\n",
        "    except KeyboardInterrupt:\n",
        "        break\n",
        "d(v(i+1, len(sid_list), 'All done', ''))"
      ],
      "outputs": [
        {
          "output_type": "display_data",
          "data": {
            "text/plain": [
              "<IPython.core.display.HTML object>"
            ],
            "text/html": [
              "<br>Fitting models</br>"
            ]
          },
          "metadata": {}
        },
        {
          "output_type": "display_data",
          "data": {
            "text/plain": [
              "<IPython.core.display.HTML object>"
            ],
            "text/html": [
              "152 / 296: All done - "
            ]
          },
          "metadata": {}
        },
        {
          "output_type": "stream",
          "name": "stderr",
          "text": [
            "                                      \r"
          ]
        }
      ],
      "execution_count": 22,
      "metadata": {
        "collapsed": false,
        "outputHidden": false,
        "inputHidden": false
      }
    },
    {
      "cell_type": "markdown",
      "source": [
        "And the same for the best individual classifications"
      ],
      "metadata": {}
    },
    {
      "cell_type": "code",
      "source": [
        "fitted_bi_models = pd.Series([]).rename('fitted_bi_models')"
      ],
      "outputs": [],
      "execution_count": 14,
      "metadata": {
        "collapsed": false,
        "outputHidden": false,
        "inputHidden": false
      }
    },
    {
      "cell_type": "code",
      "source": [
        "display(HTML('<br>Fitting models</br>'))\n",
        "v = lambda *a: HTML('{} / {}: {}'.format(*a))\n",
        "d = UpdatableDisplay(v(0, len(sid_list), ''))\n",
        "for i, (s, model) in enumerate(bi_models.items()):\n",
        "    if s in fitted_bi_models.index:\n",
        "        continue\n",
        "    d(v(i, len(sid_list), s))\n",
        "    try:\n",
        "        new_model, res = fitting.fit(model, progress=True)\n",
        "        if res['success']:\n",
        "            fitted_bi_models[s] = new_model\n",
        "    except ZeroDivisionError:\n",
        "        pass\n",
        "    except KeyboardInterrupt:\n",
        "        break\n",
        "d(v(i+1, len(sid_list), 'All done'))"
      ],
      "outputs": [
        {
          "output_type": "display_data",
          "data": {
            "text/plain": [
              "<IPython.core.display.HTML object>"
            ],
            "text/html": [
              "<br>Fitting models</br>"
            ]
          },
          "metadata": {}
        },
        {
          "output_type": "display_data",
          "data": {
            "text/plain": [
              "<IPython.core.display.HTML object>"
            ],
            "text/html": [
              "296 / 296: All done"
            ]
          },
          "metadata": {}
        },
        {
          "output_type": "stream",
          "name": "stderr",
          "text": [
            "                                      \r                                     \r"
          ]
        }
      ],
      "execution_count": 17,
      "metadata": {
        "collapsed": false,
        "outputHidden": false,
        "inputHidden": false
      }
    },
    {
      "cell_type": "code",
      "source": [
        "fitted_models = pd.concat((\n",
        "    fitted_agg_models,\n",
        "    fitted_bi_models,\n",
        "), axis=1)\n",
        "fitted_models.to_pickle('lib/fitted_models.pickle')"
      ],
      "outputs": [],
      "execution_count": 19,
      "metadata": {
        "collapsed": false,
        "outputHidden": false,
        "inputHidden": false
      }
    }
  ],
  "metadata": {
    "kernel_info": {
      "name": "python3"
    },
    "language_info": {
      "name": "python",
      "version": "3.6.7",
      "mimetype": "text/x-python",
      "codemirror_mode": {
        "name": "ipython",
        "version": 3
      },
      "pygments_lexer": "ipython3",
      "nbconvert_exporter": "python",
      "file_extension": ".py"
    },
    "kernelspec": {
      "name": "python3",
      "language": "python",
      "display_name": "Python 3"
    },
    "nteract": {
      "version": "0.14.3"
    }
  },
  "nbformat": 4,
  "nbformat_minor": 0
}