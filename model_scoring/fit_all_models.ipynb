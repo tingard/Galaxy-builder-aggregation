{
  "cells": [
    {
      "cell_type": "markdown",
      "source": [
        "# Comparison to other photometric fits\n",
        "\n",
        "What do we observe if we compare our optimized models to that obtained by Sandor (we'll throw an assertion error here if we don't have a closer than 1 arcsecond match between our galaxy and anything in his catalog)\n",
        "\n",
        "\n",
        "TODO: make this a hell of a lot more readable"
      ],
      "metadata": {}
    },
    {
      "cell_type": "code",
      "source": [
        "%load_ext autoreload\n",
        "%autoreload 2\n",
        "%matplotlib inline"
      ],
      "outputs": [],
      "execution_count": 1,
      "metadata": {
        "collapsed": false,
        "outputHidden": false,
        "inputHidden": false
      }
    },
    {
      "cell_type": "code",
      "source": [
        "import numpy as np\n",
        "import json\n",
        "import pickle\n",
        "import pandas as pd\n",
        "from copy import deepcopy\n",
        "from astropy.coordinates import SkyCoord\n",
        "import astropy.units as u\n",
        "import matplotlib.pyplot as plt\n",
        "from multiprocessing import Pool\n",
        "import lib.galaxy_utilities as gu\n",
        "import lib.python_model_renderer.render_galaxy as rg\n",
        "import lib.python_model_renderer.parse_annotation as pa\n",
        "from best_individual_classifications import get_best_classification\n",
        "from model_fitting import Model, ModelFitter"
      ],
      "outputs": [],
      "execution_count": 2,
      "metadata": {
        "collapsed": false,
        "outputHidden": false,
        "inputHidden": false
      }
    },
    {
      "cell_type": "code",
      "source": [
        "import warnings\n",
        "from astropy.utils.exceptions import AstropyWarning\n",
        "warnings.simplefilter('ignore', category=AstropyWarning)"
      ],
      "outputs": [],
      "execution_count": 3,
      "metadata": {
        "collapsed": false,
        "outputHidden": false,
        "inputHidden": false
      }
    },
    {
      "cell_type": "code",
      "source": [
        "SHOULD_RECALCULATE = False\n",
        "\n",
        "# only use if you won't interrupt mid-process, as interrupting will cause problems\n",
        "SHOULD_MULTIPROCESS = True"
      ],
      "outputs": [],
      "execution_count": 4,
      "metadata": {
        "collapsed": false,
        "outputHidden": false,
        "inputHidden": false,
        "tags": [
          "parameters"
        ]
      }
    },
    {
      "cell_type": "code",
      "source": [
        "with open('lib/best-classifications.json') as f:\n",
        "    best_cls = json.load(f)"
      ],
      "outputs": [],
      "execution_count": 5,
      "metadata": {
        "collapsed": false,
        "outputHidden": false,
        "inputHidden": false
      }
    },
    {
      "cell_type": "code",
      "source": [
        "to_iter = pd.read_csv('lib/subject-id-list.csv').values[:, 0]"
      ],
      "outputs": [],
      "execution_count": 6,
      "metadata": {
        "collapsed": false,
        "outputHidden": false,
        "inputHidden": false
      }
    },
    {
      "cell_type": "code",
      "source": [
        "sd = pd.read_csv('lib/Kruk2018_Table2_Table3.csv')\n",
        "coords = SkyCoord(ra=sd['ra']*u.degree, dec=sd['dec']*u.degree)\n",
        "s_keys = [\n",
        "  'ra', 'dec', 'Fit_components',\n",
        "  'r_disc', 're_disc', 'ba_disc',\n",
        "  'r_bulge', 're_bulge', 'ba_bulge', 'n_bulge',\n",
        "  'r_bar', 're_bar', 'ba_bar', 'n_bar',\n",
        "]"
      ],
      "outputs": [],
      "execution_count": 7,
      "metadata": {
        "collapsed": false,
        "outputHidden": false,
        "inputHidden": false
      }
    },
    {
      "cell_type": "code",
      "source": [
        "def make_dfs(m, s, pxs=1):\n",
        "    c, _ = m.to_df()\n",
        "    gzb_comps = '+'.join(\n",
        "        i for i, j in zip(\n",
        "            ('disc', 'bar', 'bulge'),\n",
        "            ~np.isnan(c['axRatio'].values)\n",
        "        ) if j\n",
        "    )\n",
        "    c['rEff'] *= pxs / 2\n",
        "    gzb_data = pd.Series([\n",
        "        np.nan, np.nan, gzb_comps,\n",
        "        *c.loc['disk'][['i0', 'rEff', 'axRatio']],\n",
        "        *c.loc['bulge'][['i0', 'rEff', 'axRatio', 'n']],\n",
        "        *c.loc['bar'][['i0', 'rEff', 'axRatio', 'n']],\n",
        "    ], index=s_keys, name='GZB')\n",
        "    return pd.concat((s[s_keys].rename('Sandor_fit'), gzb_data), axis=1, sort=False)"
      ],
      "outputs": [],
      "execution_count": 8,
      "metadata": {
        "collapsed": false,
        "outputHidden": false,
        "inputHidden": false
      }
    },
    {
      "cell_type": "code",
      "source": [
        "def get_optimized_model(subject_id):\n",
        "    gal, angle = gu.get_galaxy_and_angle(subject_id)\n",
        "    sep = coords.separation(SkyCoord(ra=gal['RA']*u.degree, dec=gal['DEC']*u.degree))\n",
        "    idxmin_sep = np.argmin(sep)\n",
        "    if not sep[idxmin_sep] < 1 * u.arcsec:\n",
        "        return None\n",
        "    pic_array, deprojected_image = gu.get_image(gal, subject_id, angle)\n",
        "    psf = gu.get_psf(subject_id)\n",
        "    diff_data = gu.get_image_data(subject_id)\n",
        "    pixel_mask = 1 - np.array(diff_data['mask'])[::-1]\n",
        "    galaxy_data = np.array(diff_data['imageData'])[::-1]\n",
        "    size_diff = diff_data['width'] / diff_data['imageWidth']\n",
        "    # arcseconds per pixel for zooniverse image\n",
        "    pix_size = pic_array.shape[0] / (gal['PETRO_THETA'].iloc[0] * 4)\n",
        "    # arcseconds per pixel for galaxy data\n",
        "    pix_size2 = galaxy_data.shape[0] / (gal['PETRO_THETA'].iloc[0] * 4)\n",
        "    try:\n",
        "        c = gu.classifications.query(\n",
        "            'classification_id == {}'.format(\n",
        "                best_cls[str(subject_id)]\n",
        "            )\n",
        "        ).iloc[0]\n",
        "    except KeyError:\n",
        "        print('Failed: {}'.format(subject_id))\n",
        "        return None\n",
        "    a = json.loads(c['annotations'])\n",
        "    model = pa.parse_annotation(a, size_diff=size_diff)\n",
        "\n",
        "    no_spiral_model = deepcopy(model)\n",
        "    no_spiral_model['spiral'] = []\n",
        "\n",
        "    mf_nosp = ModelFitter(no_spiral_model, galaxy_data, psf, pixel_mask)\n",
        "    md_nosp = mf_nosp.model\n",
        "\n",
        "    new_nosp_model, res = mf_nosp.fit(options={'maxiter': 100})\n",
        "    m0_nosp = Model(no_spiral_model, galaxy_data, psf, pixel_mask)\n",
        "    m1_nosp = Model(new_nosp_model, galaxy_data, psf, pixel_mask)\n",
        "    return (subject_id, m0_nosp, m1_nosp, sd.iloc[idxmin_sep], pix_size2)"
      ],
      "outputs": [],
      "execution_count": 9,
      "metadata": {
        "collapsed": false,
        "outputHidden": false,
        "inputHidden": false
      }
    },
    {
      "cell_type": "code",
      "source": [
        "if SHOULD_RECALCULATE:\n",
        "    if SHOULD_MULTIPROCESS:\n",
        "        p = Pool(4)\n",
        "        try:\n",
        "            out = p.map(get_optimized_model, to_iter)\n",
        "        except KeyboardInterrupt as e:\n",
        "            p.terminate()\n",
        "            raise e\n",
        "        p.close()\n",
        "    else:\n",
        "        out = [get_optimized_model(subject_id) for subject_id in to_iter]\n",
        "    out = [i for i in out if i is not None]\n",
        "    sids = [i[0] for i in out]\n",
        "    out2 = list(map(lambda o: make_dfs(o[2], o[3]), out))\n",
        "    with open('sandor-comparisons.pickle', 'wb') as f:\n",
        "        pickle.dump([sids, out2], f)\n",
        "else:\n",
        "    with open('sandor-comparisons.pickle', 'rb') as f:\n",
        "        sids, out2 = pickle.load(f)"
      ],
      "outputs": [],
      "execution_count": 10,
      "metadata": {
        "collapsed": false,
        "outputHidden": false,
        "inputHidden": false
      }
    },
    {
      "cell_type": "code",
      "source": [
        "df_ba_disc = pd.concat([\n",
        "    df.loc['ba_disc'].rename(sids[i])\n",
        "    for i, df in enumerate(out2)\n",
        "    if not np.any(df.loc['ba_disc'].values == 0)\n",
        "], axis=1, sort=False).transpose()\n",
        "\n",
        "df_ba_bulge = pd.concat([\n",
        "    df.loc['ba_bulge'].rename(sids[i])\n",
        "    for i, df in enumerate(out2)\n",
        "    if not np.any(df.loc['ba_bulge'].values == 0)\n",
        "], axis=1, sort=False).transpose()\n",
        "\n",
        "df_ba_bar = pd.concat([\n",
        "    df.loc['ba_bar'].rename(sids[i])\n",
        "    for i, df in enumerate(out2)\n",
        "    if not np.any(df.loc['ba_bar'].values == 0)\n",
        "], axis=1, sort=False).transpose()"
      ],
      "outputs": [],
      "execution_count": 11,
      "metadata": {
        "collapsed": false,
        "outputHidden": false,
        "inputHidden": false
      }
    },
    {
      "cell_type": "code",
      "source": [
        "df_re_disc = pd.concat([\n",
        "    df.loc['re_disc'].rename(sids[i])\n",
        "    for i, df in enumerate(out2)\n",
        "    if not np.any(df.loc['re_disc'].values == 0)\n",
        "], axis=1, sort=False).transpose()\n",
        "\n",
        "df_re_bulge = pd.concat([\n",
        "    df.loc['re_bulge'].rename(sids[i])\n",
        "    for i, df in enumerate(out2)\n",
        "    if not np.any(df.loc['re_bulge'].values == 0)\n",
        "], axis=1, sort=False).transpose()\n",
        "\n",
        "df_re_bar = pd.concat([\n",
        "    df.loc['re_bar'].rename(sids[i])\n",
        "    for i, df in enumerate(out2)\n",
        "    if not np.any(df.loc['re_bar'].values == 0)\n",
        "], axis=1, sort=False).transpose()"
      ],
      "outputs": [],
      "execution_count": 12,
      "metadata": {
        "collapsed": false,
        "outputHidden": false,
        "inputHidden": false
      }
    },
    {
      "cell_type": "code",
      "source": [
        "plt.figure(figsize=(10, 5))\n",
        "plt.subplot(121)\n",
        "plt.plot(*df_ba_disc.values.T, 'o', markersize=6, label='Disk')\n",
        "plt.plot(*df_ba_bulge.values.T, '*', markersize=8, label='Bulge')\n",
        "plt.plot(*df_ba_bar.values.T, 's', label='Bar')\n",
        "plt.legend()\n",
        "plt.title('Comparison of component axis ratios')\n",
        "plt.xlabel('Kruk (2017) photometric fit')\n",
        "plt.ylabel('Optimized GZB model')\n",
        "l = np.stack((plt.xlim(), plt.ylim())).max()\n",
        "plt.plot([0, l], [0, l], 'k', alpha=0.2)\n",
        "plt.xlim(0, l)\n",
        "plt.ylim(0, l)\n",
        "\n",
        "plt.subplot(122)\n",
        "plt.plot(\n",
        "    *df_re_disc.dropna().values.T,\n",
        "    'o', markersize=6, label='Disk'\n",
        ")\n",
        "plt.plot(\n",
        "    *df_re_bulge.dropna().values.T,\n",
        "    '*', markersize=8, label='Bulge'\n",
        ")\n",
        "plt.plot(\n",
        "    *df_re_bar.dropna().values.T,\n",
        "    's', label='Bar'\n",
        ")\n",
        "plt.legend()\n",
        "plt.title('Comparison of component effective radii')\n",
        "plt.xlabel('Kruk (2017) photometric fit [arcseconds]')\n",
        "plt.ylabel('Optimized GZB model [arcseconds]')\n",
        "# plt.ylabel('Optimized GZB model')\n",
        "l = np.stack((plt.xlim(), plt.ylim())).max()\n",
        "plt.plot([0, l], [0, l], 'k', alpha=0.2, zorder=0)\n",
        "plt.xlim(0, l)\n",
        "plt.ylim(0, l)\n",
        "plt.savefig('method-paper-plots/sd_comp_comparison.pdf', bbox_inches='tight');"
      ],
      "outputs": [
        {
          "output_type": "display_data",
          "data": {
            "text/plain": [
              "<Figure size 720x360 with 2 Axes>"
            ],
            "image/png": "[encoded data removed]"
          },
          "metadata": {
            "needs_background": "light"
          }
        }
      ],
      "execution_count": 15,
      "metadata": {
        "collapsed": false,
        "outputHidden": false,
        "inputHidden": false
      }
    },
    {
      "cell_type": "code",
      "source": [
        "bb = np.array(['bar' in o.loc['Fit_components']['GZB'] for o in out2 if 'bar' in o.loc['Fit_components']['Sandor_fit']])\n",
        "print('Fraction of GZB models with bar: {}/{}'.format(bb.sum(), len(bb)))"
      ],
      "outputs": [
        {
          "output_type": "stream",
          "name": "stdout",
          "text": [
            "Fraction of GZB models with bar: 30/33\n"
          ]
        }
      ],
      "execution_count": 14,
      "metadata": {
        "collapsed": false,
        "outputHidden": false,
        "inputHidden": false
      }
    },
    {
      "cell_type": "code",
      "source": [
        "display(df_re_disc.query('GZB > 45'))\n",
        "out2[sids == 21096935]"
      ],
      "outputs": [
        {
          "output_type": "display_data",
          "data": {
            "text/plain": [
              "         Sandor_fit      GZB\n",
              "20902043      40.54  45.5584\n",
              "21096935      17.68  48.9241"
            ],
            "text/html": [
              "<div>\n",
              "<style scoped>\n",
              "    .dataframe tbody tr th:only-of-type {\n",
              "        vertical-align: middle;\n",
              "    }\n",
              "\n",
              "    .dataframe tbody tr th {\n",
              "        vertical-align: top;\n",
              "    }\n",
              "\n",
              "    .dataframe thead th {\n",
              "        text-align: right;\n",
              "    }\n",
              "</style>\n",
              "<table border=\"1\" class=\"dataframe\">\n",
              "  <thead>\n",
              "    <tr style=\"text-align: right;\">\n",
              "      <th></th>\n",
              "      <th>Sandor_fit</th>\n",
              "      <th>GZB</th>\n",
              "    </tr>\n",
              "  </thead>\n",
              "  <tbody>\n",
              "    <tr>\n",
              "      <th>20902043</th>\n",
              "      <td>40.54</td>\n",
              "      <td>45.5584</td>\n",
              "    </tr>\n",
              "    <tr>\n",
              "      <th>21096935</th>\n",
              "      <td>17.68</td>\n",
              "      <td>48.9241</td>\n",
              "    </tr>\n",
              "  </tbody>\n",
              "</table>\n",
              "</div>"
            ]
          },
          "metadata": {}
        },
        {
          "output_type": "execute_result",
          "execution_count": 21,
          "data": {
            "text/plain": [
              "                    Sandor_fit       GZB\n",
              "ra                     170.444       NaN\n",
              "dec                    25.9716       NaN\n",
              "Fit_components  disc+bar+bulge  disc+bar\n",
              "r_disc                   15.48  0.179528\n",
              "re_disc                  29.71   20.9569\n",
              "ba_disc                   0.58  0.499636\n",
              "r_bulge                  19.17  0.487548\n",
              "re_bulge                   3.7   1.96008\n",
              "ba_bulge                  0.34  0.258618\n",
              "n_bulge                   0.55  0.674174\n",
              "r_bar                    18.27       NaN\n",
              "re_bar                   16.21       NaN\n",
              "ba_bar                    0.21       NaN\n",
              "n_bar                     0.23       NaN"
            ],
            "text/html": [
              "<div>\n",
              "<style scoped>\n",
              "    .dataframe tbody tr th:only-of-type {\n",
              "        vertical-align: middle;\n",
              "    }\n",
              "\n",
              "    .dataframe tbody tr th {\n",
              "        vertical-align: top;\n",
              "    }\n",
              "\n",
              "    .dataframe thead th {\n",
              "        text-align: right;\n",
              "    }\n",
              "</style>\n",
              "<table border=\"1\" class=\"dataframe\">\n",
              "  <thead>\n",
              "    <tr style=\"text-align: right;\">\n",
              "      <th></th>\n",
              "      <th>Sandor_fit</th>\n",
              "      <th>GZB</th>\n",
              "    </tr>\n",
              "  </thead>\n",
              "  <tbody>\n",
              "    <tr>\n",
              "      <th>ra</th>\n",
              "      <td>170.444</td>\n",
              "      <td>NaN</td>\n",
              "    </tr>\n",
              "    <tr>\n",
              "      <th>dec</th>\n",
              "      <td>25.9716</td>\n",
              "      <td>NaN</td>\n",
              "    </tr>\n",
              "    <tr>\n",
              "      <th>Fit_components</th>\n",
              "      <td>disc+bar+bulge</td>\n",
              "      <td>disc+bar</td>\n",
              "    </tr>\n",
              "    <tr>\n",
              "      <th>r_disc</th>\n",
              "      <td>15.48</td>\n",
              "      <td>0.179528</td>\n",
              "    </tr>\n",
              "    <tr>\n",
              "      <th>re_disc</th>\n",
              "      <td>29.71</td>\n",
              "      <td>20.9569</td>\n",
              "    </tr>\n",
              "    <tr>\n",
              "      <th>ba_disc</th>\n",
              "      <td>0.58</td>\n",
              "      <td>0.499636</td>\n",
              "    </tr>\n",
              "    <tr>\n",
              "      <th>r_bulge</th>\n",
              "      <td>19.17</td>\n",
              "      <td>0.487548</td>\n",
              "    </tr>\n",
              "    <tr>\n",
              "      <th>re_bulge</th>\n",
              "      <td>3.7</td>\n",
              "      <td>1.96008</td>\n",
              "    </tr>\n",
              "    <tr>\n",
              "      <th>ba_bulge</th>\n",
              "      <td>0.34</td>\n",
              "      <td>0.258618</td>\n",
              "    </tr>\n",
              "    <tr>\n",
              "      <th>n_bulge</th>\n",
              "      <td>0.55</td>\n",
              "      <td>0.674174</td>\n",
              "    </tr>\n",
              "    <tr>\n",
              "      <th>r_bar</th>\n",
              "      <td>18.27</td>\n",
              "      <td>NaN</td>\n",
              "    </tr>\n",
              "    <tr>\n",
              "      <th>re_bar</th>\n",
              "      <td>16.21</td>\n",
              "      <td>NaN</td>\n",
              "    </tr>\n",
              "    <tr>\n",
              "      <th>ba_bar</th>\n",
              "      <td>0.21</td>\n",
              "      <td>NaN</td>\n",
              "    </tr>\n",
              "    <tr>\n",
              "      <th>n_bar</th>\n",
              "      <td>0.23</td>\n",
              "      <td>NaN</td>\n",
              "    </tr>\n",
              "  </tbody>\n",
              "</table>\n",
              "</div>"
            ]
          },
          "metadata": {}
        }
      ],
      "execution_count": 21,
      "metadata": {
        "collapsed": false,
        "outputHidden": false,
        "inputHidden": false
      }
    }
  ],
  "metadata": {
    "kernel_info": {
      "name": "python3"
    },
    "language_info": {
      "name": "python",
      "version": "3.6.7",
      "mimetype": "text/x-python",
      "codemirror_mode": {
        "name": "ipython",
        "version": 3
      },
      "pygments_lexer": "ipython3",
      "nbconvert_exporter": "python",
      "file_extension": ".py"
    },
    "kernelspec": {
      "name": "python3",
      "language": "python",
      "display_name": "Python 3"
    },
    "nteract": {
      "version": "0.14.0"
    }
  },
  "nbformat": 4,
  "nbformat_minor": 0
}