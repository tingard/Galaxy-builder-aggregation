{
  "cells": [
    {
      "cell_type": "markdown",
      "source": [
        "# Comparison to other photometric fits\n",
        "\n",
        "What do we observe if we compare our optimized models to that obtained by Sandor (we'll throw an assertion error here if we don't have a closer than 1 arcsecond match between our galaxy and anything in his catalog)"
      ],
      "metadata": {}
    },
    {
      "cell_type": "code",
      "source": [
        "%load_ext autoreload\n",
        "%autoreload 2\n",
        "%matplotlib inline"
      ],
      "outputs": [],
      "execution_count": 1,
      "metadata": {
        "collapsed": false,
        "outputHidden": false,
        "inputHidden": false
      }
    },
    {
      "cell_type": "code",
      "source": [
        "import numpy as np\n",
        "import json\n",
        "import pandas as pd\n",
        "from copy import deepcopy\n",
        "from astropy.coordinates import SkyCoord\n",
        "import astropy.units as u\n",
        "import matplotlib.pyplot as plt\n",
        "import lib.galaxy_utilities as gu\n",
        "import lib.python_model_renderer.render_galaxy as rg\n",
        "import lib.python_model_renderer.parse_annotation as pa\n",
        "from best_individual_classifications import get_best_classification\n",
        "from model_fitting import Model, ModelFitter"
      ],
      "outputs": [],
      "execution_count": 2,
      "metadata": {
        "collapsed": false,
        "outputHidden": false,
        "inputHidden": false
      }
    },
    {
      "cell_type": "code",
      "source": [
        "import warnings\n",
        "from astropy.utils.exceptions import AstropyWarning\n",
        "warnings.simplefilter('ignore', category=AstropyWarning)"
      ],
      "outputs": [],
      "execution_count": 3,
      "metadata": {
        "collapsed": false,
        "outputHidden": false,
        "inputHidden": false
      }
    },
    {
      "cell_type": "code",
      "source": [
        "plt.style.use('seaborn-dark')"
      ],
      "outputs": [],
      "execution_count": 4,
      "metadata": {
        "collapsed": false,
        "outputHidden": false,
        "inputHidden": false
      }
    },
    {
      "cell_type": "code",
      "source": [
        "with open('lib/best-classifications.json') as f:\n",
        "    best_cls = json.load(f)"
      ],
      "outputs": [],
      "execution_count": 5,
      "metadata": {
        "collapsed": false,
        "outputHidden": false,
        "inputHidden": false
      }
    },
    {
      "cell_type": "code",
      "source": [
        "to_iter = pd.read_csv('lib/subject-id-list.csv').values[:, 0]"
      ],
      "outputs": [],
      "execution_count": 6,
      "metadata": {
        "collapsed": false,
        "outputHidden": false,
        "inputHidden": false
      }
    },
    {
      "cell_type": "code",
      "source": [
        "sd = pd.read_csv('lib/Kruk2018_Table2_Table3.csv')\n",
        "s_keys = [\n",
        "  'ra', 'dec', 'Fit_components',\n",
        "  'r_disc', 're_disc', 'ba_disc',\n",
        "  'r_bulge', 're_bulge', 'ba_bulge', 'n_bulge',\n",
        "  'r_bar', 're_bar', 'ba_bar', 'n_bar',\n",
        "]"
      ],
      "outputs": [],
      "execution_count": 7,
      "metadata": {
        "collapsed": false,
        "outputHidden": false,
        "inputHidden": false
      }
    },
    {
      "cell_type": "code",
      "source": [
        "sd_gals = []\n",
        "coords = SkyCoord(ra=sd['ra']*u.degree, dec=sd['dec']*u.degree)\n",
        "for subject_id in to_iter:\n",
        "    gal, angle = gu.get_galaxy_and_angle(subject_id)\n",
        "    sep = coords.separation(SkyCoord(ra=gal['RA']*u.degree, dec=gal['DEC']*u.degree))\n",
        "    idxmin_sep = np.argmin(sep)\n",
        "    if sep[idxmin_sep] < 1 * u.arcsec:\n",
        "        sd_gals.append([subject_id, sd.iloc[idxmin_sep]])"
      ],
      "outputs": [],
      "execution_count": 8,
      "metadata": {
        "collapsed": false,
        "outputHidden": false,
        "inputHidden": false
      }
    },
    {
      "cell_type": "code",
      "source": [
        "out = []\n",
        "for subject_id in to_iter:\n",
        "    gal, angle = gu.get_galaxy_and_angle(subject_id)\n",
        "    sep = coords.separation(SkyCoord(ra=gal['RA']*u.degree, dec=gal['DEC']*u.degree))\n",
        "    idxmin_sep = np.argmin(sep)\n",
        "    if not sep[idxmin_sep] < 1 * u.arcsec:\n",
        "        continue\n",
        "    print(subject_id)\n",
        "    pic_array, deprojected_image = gu.get_image(gal, subject_id, angle)\n",
        "    psf = gu.get_psf(subject_id)\n",
        "    diff_data = gu.get_image_data(subject_id)\n",
        "    pixel_mask = 1 - np.array(diff_data['mask'])[::-1]\n",
        "    galaxy_data = np.array(diff_data['imageData'])[::-1]\n",
        "    size_diff = diff_data['width'] / diff_data['imageWidth']\n",
        "    # arcseconds per pixel for zooniverse image\n",
        "    pix_size = pic_array.shape[0] / (gal['PETRO_THETA'].iloc[0] * 4)\n",
        "    # arcseconds per pixel for galaxy data\n",
        "    pix_size2 = galaxy_data.shape[0] / (gal['PETRO_THETA'].iloc[0] * 4)\n",
        "    \n",
        "#     imshow_kwargs = {\n",
        "#         'cmap': 'gray_r', 'origin': 'lower',\n",
        "#         'extent': (\n",
        "#             # left of image in arcseconds from centre\n",
        "#             -pic_array.shape[0]/2 / pix_size,\n",
        "#             pic_array.shape[0]/2 / pix_size,  # right...\n",
        "#             -pic_array.shape[1]/2 / pix_size,  # bottom...\n",
        "#             pic_array.shape[1]/2 / pix_size  # top...\n",
        "#         ),\n",
        "#     }\n",
        "    try:\n",
        "        c = gu.classifications.query(\n",
        "            'classification_id == {}'.format(\n",
        "                best_cls[str(subject_id)]\n",
        "            )\n",
        "        ).iloc[0]\n",
        "    except KeyError:\n",
        "        print('Failed: {}'.format(subject_id))\n",
        "        continue\n",
        "    a = json.loads(c['annotations'])\n",
        "    model = pa.parse_annotation(a, size_diff=size_diff)\n",
        "\n",
        "    no_spiral_model = deepcopy(model)\n",
        "    no_spiral_model['spiral'] = []\n",
        "\n",
        "    mf_nosp = ModelFitter(no_spiral_model, galaxy_data, psf, pixel_mask)\n",
        "    md_nosp = mf_nosp.model\n",
        "\n",
        "    new_nosp_model, res = mf_nosp.fit(options={'maxiter': 100})\n",
        "    m0_nosp = Model(no_spiral_model, galaxy_data, psf, pixel_mask)\n",
        "    m1_nosp = Model(new_nosp_model, galaxy_data, psf, pixel_mask)\n",
        "    out.append([subject_id, m0_nosp, m1_nosp, sd.iloc[idxmin_sep]])\n",
        "#     if len(out) > 10:\n",
        "#         break"
      ],
      "outputs": [
        {
          "output_type": "stream",
          "name": "stdout",
          "text": [
            "20902000\n",
            "20902008\n",
            "20902040\n",
            "20902053\n",
            "20902064\n",
            "20902065\n",
            "20902013\n",
            "20902063\n",
            "20902049\n",
            "20902071\n",
            "20901993\n",
            "20902006\n",
            "20902043\n",
            "20902020\n",
            "20902057\n",
            "20902058\n",
            "21097001\n",
            "21096843\n",
            "21096944\n",
            "21096935\n",
            "21096962\n",
            "21096969\n",
            "21096860\n",
            "21686572\n",
            "21686600\n",
            "Failed: 21686600\n",
            "21686523\n",
            "21686510\n",
            "21686529\n",
            "21686587\n",
            "Failed: 21686587\n",
            "21686542\n",
            "21686592\n",
            "Failed: 21686592\n",
            "21686582\n",
            "21686594\n",
            "Failed: 21686594\n",
            "21686578\n",
            "21686593\n",
            "Failed: 21686593\n",
            "21686549\n",
            "21686569\n",
            "21686499\n",
            "21686586\n",
            "Failed: 21686586\n"
          ]
        }
      ],
      "execution_count": 20,
      "metadata": {
        "collapsed": false,
        "outputHidden": false,
        "inputHidden": false
      }
    },
    {
      "cell_type": "code",
      "source": [
        "def make_dfs(m, s):\n",
        "    c, _ = m.to_df()\n",
        "    gzb_comps = '+'.join(\n",
        "        i for i, j in zip(\n",
        "            ('disc', 'bar', 'bulge'),\n",
        "            ~np.isnan(c['axRatio'].values)\n",
        "        ) if j\n",
        "    )\n",
        "    gzb_data = pd.Series([\n",
        "        np.nan, np.nan, gzb_comps,\n",
        "        *c.loc['disk'][['i0', 'rEff', 'axRatio']],\n",
        "        *c.loc['bulge'][['i0', 'rEff', 'axRatio', 'n']],\n",
        "        *c.loc['bar'][['i0', 'rEff', 'axRatio', 'n']],\n",
        "    ], index=s_keys, name='GZB')\n",
        "    return pd.concat((s[s_keys].rename('Sandor_fit'), gzb_data), axis=1, sort=False)"
      ],
      "outputs": [],
      "execution_count": 22,
      "metadata": {
        "collapsed": false,
        "outputHidden": false,
        "inputHidden": false
      }
    },
    {
      "cell_type": "code",
      "source": [
        "sids = [i[0] for i in out]\n",
        "out2 = list(map(lambda o: make_dfs(o[2], o[3]), out))"
      ],
      "outputs": [],
      "execution_count": 23,
      "metadata": {
        "collapsed": false,
        "outputHidden": false,
        "inputHidden": false
      }
    },
    {
      "cell_type": "code",
      "source": [
        "df_ba_disc = pd.concat([\n",
        "    df.loc['ba_disc'].rename(sids[i])\n",
        "    for i, df in enumerate(out2)\n",
        "    if not np.any(df.loc['ba_disc'].values == 0)\n",
        "], axis=1, sort=False).transpose()\n",
        "\n",
        "df_ba_bulge = pd.concat([\n",
        "    df.loc['ba_bulge'].rename(sids[i])\n",
        "    for i, df in enumerate(out2)\n",
        "    if not np.any(df.loc['ba_bulge'].values == 0)\n",
        "], axis=1, sort=False).transpose()\n",
        "\n",
        "df_ba_bar = pd.concat([\n",
        "    df.loc['ba_bar'].rename(sids[i])\n",
        "    for i, df in enumerate(out2)\n",
        "    if not np.any(df.loc['ba_bar'].values == 0)\n",
        "], axis=1, sort=False).transpose()"
      ],
      "outputs": [],
      "execution_count": 24,
      "metadata": {
        "collapsed": false,
        "outputHidden": false,
        "inputHidden": false
      }
    },
    {
      "cell_type": "code",
      "source": [
        "df_re_disc = pd.concat([\n",
        "    df.loc['re_disc'].rename(sids[i])\n",
        "    for i, df in enumerate(out2)\n",
        "    if not np.any(df.loc['re_disc'].values == 0)\n",
        "], axis=1, sort=False).transpose()\n",
        "\n",
        "df_re_bulge = pd.concat([\n",
        "    df.loc['re_bulge'].rename(sids[i])\n",
        "    for i, df in enumerate(out2)\n",
        "    if not np.any(df.loc['re_bulge'].values == 0)\n",
        "], axis=1, sort=False).transpose()\n",
        "\n",
        "df_re_bar = pd.concat([\n",
        "    df.loc['re_bar'].rename(sids[i])\n",
        "    for i, df in enumerate(out2)\n",
        "    if not np.any(df.loc['re_bar'].values == 0)\n",
        "], axis=1, sort=False).transpose()"
      ],
      "outputs": [],
      "execution_count": 25,
      "metadata": {
        "collapsed": false,
        "outputHidden": false,
        "inputHidden": false
      }
    },
    {
      "cell_type": "code",
      "source": [
        "plt.figure(figsize=(10, 5))\n",
        "plt.subplot(121)\n",
        "plt.plot(*df_ba_disc.values.T, '.', label='Disk')\n",
        "plt.plot(*df_ba_bulge.values.T, '*', label='Bulge')\n",
        "plt.plot(*df_ba_bar.values.T, 's', label='Bar')\n",
        "plt.legend()\n",
        "plt.title('Comparison of component axis ratios');\n",
        "\n",
        "plt.subplot(122)\n",
        "plt.plot(\n",
        "    *df_re_disc.dropna().values.T / df_re_disc.dropna().values.max(),\n",
        "    '.', label='Disk'\n",
        ")\n",
        "plt.plot(\n",
        "    *df_re_bulge.dropna().values.T / df_re_bulge.dropna().values.max(),\n",
        "    '*', label='Bulge'\n",
        ")\n",
        "plt.plot(\n",
        "    *df_re_bar.dropna().values.T / df_re_bar.dropna().values.max(),\n",
        "    's', label='Bar'\n",
        ")\n",
        "plt.legend()\n",
        "plt.title('Comparison of component effective radii (normalised)');"
      ],
      "outputs": [
        {
          "output_type": "display_data",
          "data": {
            "text/plain": [
              "<Figure size 720x360 with 2 Axes>"
            ],
            "image/png": "[encoded data removed]"
          },
          "metadata": {}
        }
      ],
      "execution_count": 30,
      "metadata": {
        "collapsed": false,
        "outputHidden": false,
        "inputHidden": false
      }
    },
    {
      "cell_type": "code",
      "source": [
        "import pickle\n",
        "with open('sandor-comparisons.pickle', 'wb') as f:\n",
        "    pickle.dump([sids, out2], f)"
      ],
      "outputs": [],
      "execution_count": 16,
      "metadata": {
        "collapsed": false,
        "outputHidden": false,
        "inputHidden": false
      }
    },
    {
      "cell_type": "code",
      "source": [
        "len(df_ba_disc), len(df_ba_bulge), len(df_ba_bar)"
      ],
      "outputs": [
        {
          "output_type": "execute_result",
          "execution_count": 29,
          "data": {
            "text/plain": [
              "(33, 15, 33)"
            ]
          },
          "metadata": {}
        }
      ],
      "execution_count": 29,
      "metadata": {
        "collapsed": false,
        "outputHidden": false,
        "inputHidden": false
      }
    }
  ],
  "metadata": {
    "kernel_info": {
      "name": "python3"
    },
    "language_info": {
      "name": "python",
      "version": "3.6.7",
      "mimetype": "text/x-python",
      "codemirror_mode": {
        "name": "ipython",
        "version": 3
      },
      "pygments_lexer": "ipython3",
      "nbconvert_exporter": "python",
      "file_extension": ".py"
    },
    "kernelspec": {
      "name": "python3",
      "language": "python",
      "display_name": "Python 3"
    },
    "nteract": {
      "version": "0.14.0"
    }
  },
  "nbformat": 4,
  "nbformat_minor": 0
}