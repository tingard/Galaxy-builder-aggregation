{
  "cells": [
    {
      "cell_type": "markdown",
      "source": [
        "# Comparison to other photometric fits\n",
        "\n",
        "What do we observe if we compare our optimized models to that obtained by Sandor (we'll throw an assertion error here if we don't have a closer than 1 arcsecond match between our galaxy and anything in his catalog)"
      ],
      "metadata": {}
    },
    {
      "cell_type": "code",
      "source": [
        "%load_ext autoreload\n",
        "%autoreload 2\n",
        "%matplotlib inline"
      ],
      "outputs": [],
      "execution_count": 1,
      "metadata": {
        "collapsed": false,
        "outputHidden": false,
        "inputHidden": false
      }
    },
    {
      "cell_type": "code",
      "source": [
        "SHOULD_RECALCULATE = False"
      ],
      "outputs": [],
      "execution_count": 2,
      "metadata": {
        "collapsed": false,
        "outputHidden": false,
        "inputHidden": false,
        "tags": [
          "parameters"
        ]
      }
    },
    {
      "cell_type": "code",
      "source": [
        "import numpy as np\n",
        "import json\n",
        "import pickle\n",
        "import pandas as pd\n",
        "from copy import deepcopy\n",
        "from astropy.coordinates import SkyCoord\n",
        "import astropy.units as u\n",
        "import matplotlib.pyplot as plt\n",
        "import lib.galaxy_utilities as gu\n",
        "import lib.python_model_renderer.render_galaxy as rg\n",
        "import lib.python_model_renderer.parse_annotation as pa\n",
        "from best_individual_classifications import get_best_classification\n",
        "from model_fitting import Model, ModelFitter"
      ],
      "outputs": [],
      "execution_count": 3,
      "metadata": {
        "collapsed": false,
        "outputHidden": false,
        "inputHidden": false
      }
    },
    {
      "cell_type": "code",
      "source": [
        "import warnings\n",
        "from astropy.utils.exceptions import AstropyWarning\n",
        "warnings.simplefilter('ignore', category=AstropyWarning)"
      ],
      "outputs": [],
      "execution_count": 4,
      "metadata": {
        "collapsed": false,
        "outputHidden": false,
        "inputHidden": false
      }
    },
    {
      "cell_type": "code",
      "source": [
        "with open('lib/best-classifications.json') as f:\n",
        "    best_cls = json.load(f)"
      ],
      "outputs": [],
      "execution_count": 6,
      "metadata": {
        "collapsed": false,
        "outputHidden": false,
        "inputHidden": false
      }
    },
    {
      "cell_type": "code",
      "source": [
        "to_iter = pd.read_csv('lib/subject-id-list.csv').values[:, 0]"
      ],
      "outputs": [],
      "execution_count": 7,
      "metadata": {
        "collapsed": false,
        "outputHidden": false,
        "inputHidden": false
      }
    },
    {
      "cell_type": "code",
      "source": [
        "sd = pd.read_csv('lib/Kruk2018_Table2_Table3.csv')\n",
        "coords = SkyCoord(ra=sd['ra']*u.degree, dec=sd['dec']*u.degree)\n",
        "s_keys = [\n",
        "  'ra', 'dec', 'Fit_components',\n",
        "  'r_disc', 're_disc', 'ba_disc',\n",
        "  'r_bulge', 're_bulge', 'ba_bulge', 'n_bulge',\n",
        "  'r_bar', 're_bar', 'ba_bar', 'n_bar',\n",
        "]"
      ],
      "outputs": [],
      "execution_count": 8,
      "metadata": {
        "collapsed": false,
        "outputHidden": false,
        "inputHidden": false
      }
    },
    {
      "cell_type": "code",
      "source": [
        "def make_dfs(m, s, pxs=1):\n",
        "    c, _ = m.to_df()\n",
        "    gzb_comps = '+'.join(\n",
        "        i for i, j in zip(\n",
        "            ('disc', 'bar', 'bulge'),\n",
        "            ~np.isnan(c['axRatio'].values)\n",
        "        ) if j\n",
        "    )\n",
        "    c['rEff'] *= pxs / 2\n",
        "    gzb_data = pd.Series([\n",
        "        np.nan, np.nan, gzb_comps,\n",
        "        *c.loc['disk'][['i0', 'rEff', 'axRatio']],\n",
        "        *c.loc['bulge'][['i0', 'rEff', 'axRatio', 'n']],\n",
        "        *c.loc['bar'][['i0', 'rEff', 'axRatio', 'n']],\n",
        "    ], index=s_keys, name='GZB')\n",
        "    return pd.concat((s[s_keys].rename('Sandor_fit'), gzb_data), axis=1, sort=False)"
      ],
      "outputs": [],
      "execution_count": 9,
      "metadata": {
        "collapsed": false,
        "outputHidden": false,
        "inputHidden": false
      }
    },
    {
      "cell_type": "code",
      "source": [
        "if SHOULD_RECALCULATE:\n",
        "    out = []\n",
        "    for subject_id in to_iter:\n",
        "        gal, angle = gu.get_galaxy_and_angle(subject_id)\n",
        "        sep = coords.separation(SkyCoord(ra=gal['RA']*u.degree, dec=gal['DEC']*u.degree))\n",
        "        idxmin_sep = np.argmin(sep)\n",
        "        if not sep[idxmin_sep] < 1 * u.arcsec:\n",
        "            continue\n",
        "        print(subject_id)\n",
        "        pic_array, deprojected_image = gu.get_image(gal, subject_id, angle)\n",
        "        psf = gu.get_psf(subject_id)\n",
        "        diff_data = gu.get_image_data(subject_id)\n",
        "        pixel_mask = 1 - np.array(diff_data['mask'])[::-1]\n",
        "        galaxy_data = np.array(diff_data['imageData'])[::-1]\n",
        "        size_diff = diff_data['width'] / diff_data['imageWidth']\n",
        "        # arcseconds per pixel for zooniverse image\n",
        "        pix_size = pic_array.shape[0] / (gal['PETRO_THETA'].iloc[0] * 4)\n",
        "        # arcseconds per pixel for galaxy data\n",
        "        pix_size2 = galaxy_data.shape[0] / (gal['PETRO_THETA'].iloc[0] * 4)\n",
        "        try:\n",
        "            c = gu.classifications.query(\n",
        "                'classification_id == {}'.format(\n",
        "                    best_cls[str(subject_id)]\n",
        "                )\n",
        "            ).iloc[0]\n",
        "        except KeyError:\n",
        "            print('Failed: {}'.format(subject_id))\n",
        "            continue\n",
        "        a = json.loads(c['annotations'])\n",
        "        model = pa.parse_annotation(a, size_diff=size_diff)\n",
        "\n",
        "        no_spiral_model = deepcopy(model)\n",
        "        no_spiral_model['spiral'] = []\n",
        "\n",
        "        mf_nosp = ModelFitter(no_spiral_model, galaxy_data, psf, pixel_mask)\n",
        "        md_nosp = mf_nosp.model\n",
        "\n",
        "        new_nosp_model, res = mf_nosp.fit(options={'maxiter': 50})\n",
        "        m0_nosp = Model(no_spiral_model, galaxy_data, psf, pixel_mask)\n",
        "        m1_nosp = Model(new_nosp_model, galaxy_data, psf, pixel_mask)\n",
        "        out.append([subject_id, m0_nosp, m1_nosp, sd.iloc[idxmin_sep], pix_size2])\n",
        "    #     if len(out) > 10:\n",
        "    #         break\n",
        "    \n",
        "    sids = [i[0] for i in out]\n",
        "    out2 = list(map(lambda o: make_dfs(o[2], o[3]), out))\n",
        "    with open('sandor-comparisons.pickle', 'wb') as f:\n",
        "        pickle.dump([sids, out2], f)\n",
        "else:\n",
        "    with open('sandor-comparisons.pickle') as f:\n",
        "        sids, out2 = pickle.load(f)"
      ],
      "outputs": [
        {
          "output_type": "stream",
          "name": "stdout",
          "text": [
            "20902000\n",
            "20902008\n",
            "20902040\n",
            "20902053\n",
            "20902064\n",
            "20902065\n",
            "20902013\n",
            "20902063\n",
            "20902049\n",
            "20902071\n",
            "20901993\n",
            "20902006\n",
            "20902043\n",
            "20902020\n",
            "20902057\n",
            "20902058\n",
            "21097001\n",
            "21096843\n",
            "21096944\n",
            "21096935\n",
            "21096962\n",
            "21096969\n",
            "21096860\n",
            "21686572\n",
            "21686600\n",
            "Failed: 21686600\n",
            "21686523\n",
            "21686510\n",
            "21686529\n",
            "21686587\n",
            "Failed: 21686587\n",
            "21686542\n",
            "21686592\n",
            "Failed: 21686592\n",
            "21686582\n",
            "21686594\n",
            "Failed: 21686594\n",
            "21686578\n",
            "21686593\n",
            "Failed: 21686593\n",
            "21686549\n",
            "21686569\n",
            "21686499\n",
            "21686586\n",
            "Failed: 21686586\n"
          ]
        }
      ],
      "execution_count": 10,
      "metadata": {
        "collapsed": false,
        "outputHidden": false,
        "inputHidden": false
      }
    },
    {
      "cell_type": "code",
      "source": [
        "df_ba_disc = pd.concat([\n",
        "    df.loc['ba_disc'].rename(sids[i])\n",
        "    for i, df in enumerate(out2)\n",
        "    if not np.any(df.loc['ba_disc'].values == 0)\n",
        "], axis=1, sort=False).transpose()\n",
        "\n",
        "df_ba_bulge = pd.concat([\n",
        "    df.loc['ba_bulge'].rename(sids[i])\n",
        "    for i, df in enumerate(out2)\n",
        "    if not np.any(df.loc['ba_bulge'].values == 0)\n",
        "], axis=1, sort=False).transpose()\n",
        "\n",
        "df_ba_bar = pd.concat([\n",
        "    df.loc['ba_bar'].rename(sids[i])\n",
        "    for i, df in enumerate(out2)\n",
        "    if not np.any(df.loc['ba_bar'].values == 0)\n",
        "], axis=1, sort=False).transpose()"
      ],
      "outputs": [],
      "execution_count": 13,
      "metadata": {
        "collapsed": false,
        "outputHidden": false,
        "inputHidden": false
      }
    },
    {
      "cell_type": "code",
      "source": [
        "df_re_disc = pd.concat([\n",
        "    df.loc['re_disc'].rename(sids[i])\n",
        "    for i, df in enumerate(out2)\n",
        "    if not np.any(df.loc['re_disc'].values == 0)\n",
        "], axis=1, sort=False).transpose()\n",
        "\n",
        "df_re_bulge = pd.concat([\n",
        "    df.loc['re_bulge'].rename(sids[i])\n",
        "    for i, df in enumerate(out2)\n",
        "    if not np.any(df.loc['re_bulge'].values == 0)\n",
        "], axis=1, sort=False).transpose()\n",
        "\n",
        "df_re_bar = pd.concat([\n",
        "    df.loc['re_bar'].rename(sids[i])\n",
        "    for i, df in enumerate(out2)\n",
        "    if not np.any(df.loc['re_bar'].values == 0)\n",
        "], axis=1, sort=False).transpose()"
      ],
      "outputs": [],
      "execution_count": 14,
      "metadata": {
        "collapsed": false,
        "outputHidden": false,
        "inputHidden": false
      }
    },
    {
      "cell_type": "code",
      "source": [
        "plt.figure(figsize=(10, 5))\n",
        "plt.subplot(121)\n",
        "plt.plot(*df_ba_disc.values.T, 'o', markersize=6, label='Disk')\n",
        "plt.plot(*df_ba_bulge.values.T, '*', markersize=8, label='Bulge')\n",
        "plt.plot(*df_ba_bar.values.T, 's', label='Bar')\n",
        "plt.legend()\n",
        "plt.title('Comparison of component axis ratios')\n",
        "plt.xlabel('Kruk (2017) photometric fit')\n",
        "plt.ylabel('Optimized GZB model')\n",
        "l = np.stack((plt.xlim(), plt.ylim())).max()\n",
        "plt.plot([0, l], [0, l], 'k', alpha=0.2)\n",
        "plt.xlim(0, l)\n",
        "plt.ylim(0, l)\n",
        "\n",
        "plt.subplot(122)\n",
        "plt.plot(\n",
        "    *df_re_disc.dropna().values.T,\n",
        "    'o', markersize=6, label='Disk'\n",
        ")\n",
        "plt.plot(\n",
        "    *df_re_bulge.dropna().values.T,\n",
        "    '*', markersize=8, label='Bulge'\n",
        ")\n",
        "plt.plot(\n",
        "    *df_re_bar.dropna().values.T,\n",
        "    's', label='Bar'\n",
        ")\n",
        "plt.legend()\n",
        "plt.title('Comparison of component effective radii')\n",
        "plt.xlabel('Kruk (2017) photometric fit [arcseconds]')\n",
        "plt.ylabel('Optimized GZB model [arcseconds]')\n",
        "# plt.ylabel('Optimized GZB model')\n",
        "l = np.stack((plt.xlim(), plt.ylim())).max()\n",
        "plt.plot([0, l], [0, l], 'k', alpha=0.2)\n",
        "plt.xlim(0, l)\n",
        "plt.ylim(0, l)\n",
        "plt.savefig('method-paper-plots/sd_comp_comparison.pdf', bbox_inches='tight');"
      ],
      "outputs": [
        {
          "output_type": "display_data",
          "data": {
            "text/plain": [
              "<Figure size 720x360 with 2 Axes>"
            ],
            "image/png": "[encoded data removed]"
          },
          "metadata": {}
        }
      ],
      "execution_count": 31,
      "metadata": {
        "collapsed": false,
        "outputHidden": false,
        "inputHidden": false
      }
    },
    {
      "cell_type": "code",
      "source": [
        "bb = np.array(['bar' in o.loc['Fit_components']['GZB'] for o in out2 if 'bar' in o.loc['Fit_components']['Sandor_fit']])\n",
        "print('Fraction of GZB models with bar: {}/{}'.format(bb.sum(), len(bb)))"
      ],
      "outputs": [
        {
          "output_type": "stream",
          "name": "stdout",
          "text": [
            "Fraction of GZB models with bar: 30/33\n"
          ]
        }
      ],
      "execution_count": 17,
      "metadata": {
        "collapsed": false,
        "outputHidden": false,
        "inputHidden": false
      }
    }
  ],
  "metadata": {
    "kernel_info": {
      "name": "python3"
    },
    "language_info": {
      "name": "python",
      "version": "3.6.7",
      "mimetype": "text/x-python",
      "codemirror_mode": {
        "name": "ipython",
        "version": 3
      },
      "pygments_lexer": "ipython3",
      "nbconvert_exporter": "python",
      "file_extension": ".py"
    },
    "kernelspec": {
      "name": "python3",
      "language": "python",
      "display_name": "Python 3"
    },
    "nteract": {
      "version": "0.14.0"
    }
  },
  "nbformat": 4,
  "nbformat_minor": 0
}