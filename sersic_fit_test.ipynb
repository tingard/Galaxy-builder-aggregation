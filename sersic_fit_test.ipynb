{
  "cells": [
    {
      "cell_type": "code",
      "source": [
        "%load_ext autoreload\n",
        "%autoreload 2"
      ],
      "outputs": [],
      "execution_count": 1,
      "metadata": {
        "collapsed": false,
        "outputHidden": false,
        "inputHidden": false
      }
    },
    {
      "cell_type": "code",
      "source": [
        "import numpy as np\n",
        "import pandas as pd\n",
        "import matplotlib.pyplot as plt\n",
        "from scipy.signal import convolve2d\n",
        "from scipy.optimize import minimize\n",
        "from scipy.special import gamma\n",
        "import scipy.stats as st\n",
        "from sklearn.metrics import mean_squared_error\n",
        "from gzbuilder_analysis.parsing import sanitize_param_dict\n",
        "import gzbuilder_analysis.rendering as rendering\n",
        "from gzbuilder_analysis.rendering.sersic import sersic2d, oversampled_sersic_component, _b\n",
        "from gzbuilder_analysis.fitting.jupyter import UpdatableDisplay\n",
        "import lib.galaxy_utilities as gu\n",
        "from tqdm import tqdm\n",
        "from numba import jit, prange, vectorize"
      ],
      "outputs": [],
      "execution_count": 2,
      "metadata": {
        "collapsed": false,
        "outputHidden": false,
        "inputHidden": false
      }
    },
    {
      "cell_type": "code",
      "source": [
        "sid_list = np.loadtxt('lib/subject-id-list.csv', dtype='u8')\n",
        "simard_df = pd.read_csv('lib/simard-catalog.csv', index_col=0)\n",
        "best_models = pd.read_pickle('lib/best_individual.pickle')"
      ],
      "outputs": [],
      "execution_count": 3,
      "metadata": {
        "collapsed": false,
        "outputHidden": false,
        "inputHidden": false
      }
    },
    {
      "cell_type": "code",
      "source": [
        "PARAMS = np.array(('roll', 'rEff', 'axRatio', 'i0'))\n",
        "def comp_to_p(d):\n",
        "  mu = np.array(d['mu'])\n",
        "  return np.concatenate((mu, [d[k] for k in PARAMS]))\n",
        "\n",
        "def comp_from_p(p):\n",
        "  return dict(mu=p[:2], **{k: v for k, v in zip(PARAMS, p[2:])})"
      ],
      "outputs": [],
      "execution_count": 4,
      "metadata": {
        "collapsed": false,
        "outputHidden": false,
        "inputHidden": false
      }
    },
    {
      "cell_type": "code",
      "source": [
        "s0 = 'float32('+('float32,'*9)+')'\n",
        "s1 = 'float64('+('float64,'*9)+')'\n",
        "@vectorize([s0, s1], target='parallel')\n",
        "def _sersic_func(x, y, mux, muy, roll, rEff, axRatio, i0, n):\n",
        "  out = 0.0\n",
        "  ds = [-0.4, -0.2, 0.0, 0.2, 0.4]\n",
        "  for dx in ds:\n",
        "    for dy in ds:\n",
        "      out += sersic2d(\n",
        "        x + dx, y + dy,\n",
        "        mu=(mux, muy), roll=roll, rEff=rEff,\n",
        "        axRatio=axRatio, i0=i0, c=2, \n",
        "        n=n\n",
        "      ) / 25\n",
        "  return out\n"
      ],
      "outputs": [],
      "execution_count": 5,
      "metadata": {
        "collapsed": false,
        "outputHidden": false,
        "inputHidden": false
      }
    },
    {
      "cell_type": "code",
      "source": [
        "def bulge_disk_model(p, cx, cy):\n",
        "    disk = _sersic_func(cx, cy, *p[:6], 1)\n",
        "    bulge = _sersic_func(cx, cy, *p[6:12], 4)\n",
        "#     disk = sersic2d(cx, cy, mu=p[:2], roll=p[2], rEff=p[3],\n",
        "#                     axRatio=p[4], c=2, i0=p[5], n=1.0)\n",
        "#     bulge = sersic2d(cx, cy, mu=p[6:8], roll=p[8], rEff=p[9],\n",
        "#                      axRatio=p[10], c=2, i0=p[11], n=4.0)\n",
        "    return disk + bulge"
      ],
      "outputs": [],
      "execution_count": 25,
      "metadata": {
        "collapsed": false,
        "outputHidden": false,
        "inputHidden": false
      }
    },
    {
      "cell_type": "code",
      "source": [
        "def f(p, target, cx, cy, psf=np.ones((1,1)), pixel_mask=np.ones(1),\n",
        "      loss=mean_squared_error):\n",
        "  im = bulge_disk_model(p, cx, cy)\n",
        "  im_psf = convolve2d(\n",
        "    im, psf, mode='same', boundary='symm'\n",
        "  )\n",
        "  return loss(target * pixel_mask, im_psf * pixel_mask)"
      ],
      "outputs": [],
      "execution_count": 26,
      "metadata": {
        "collapsed": false,
        "outputHidden": false,
        "inputHidden": false
      }
    },
    {
      "cell_type": "code",
      "source": [
        "display(_m)\n",
        "display(p0)"
      ],
      "outputs": [
        {
          "output_type": "display_data",
          "data": {
            "text/plain": [
              "{'disk': {'mu': array([32.53491211, 32.5390625 ]),\n",
              "  'roll': -0.025635408521677425,\n",
              "  'rEff': 25.90694972290857,\n",
              "  'axRatio': 0.6071298668687596,\n",
              "  'i0': 0.12,\n",
              "  'c': 2,\n",
              "  'n': 1},\n",
              " 'bulge': {'mu': array([35.05834961, 33.0703125 ]),\n",
              "  'roll': 0.08314123188844122,\n",
              "  'rEff': 5.8334124206994575,\n",
              "  'axRatio': 0.48698760942986274,\n",
              "  'i0': 0.71,\n",
              "  'c': 2,\n",
              "  'n': 0.5},\n",
              " 'bar': None,\n",
              " 'spiral': array([], dtype=float64)}"
            ]
          },
          "metadata": {}
        },
        {
          "output_type": "display_data",
          "data": {
            "text/plain": [
              "array([ 3.25349121e+01,  3.25390625e+01, -2.56354085e-02,  2.59069497e+01,\n",
              "        6.07129867e-01,  1.20000000e-01,  3.50583496e+01,  3.30703125e+01,\n",
              "        8.31412319e-02,  5.83341242e+00,  4.86987609e-01,  7.10000000e-01])"
            ]
          },
          "metadata": {}
        }
      ],
      "execution_count": 29,
      "metadata": {
        "collapsed": false,
        "outputHidden": false,
        "inputHidden": false
      }
    },
    {
      "cell_type": "code",
      "source": [
        "plt.imshow(oversampled_sersic_component(m['disk'], image_size))"
      ],
      "outputs": [
        {
          "output_type": "execute_result",
          "execution_count": 32,
          "data": {
            "text/plain": [
              "<matplotlib.image.AxesImage at 0x12c6b6fd0>"
            ]
          },
          "metadata": {}
        },
        {
          "output_type": "display_data",
          "data": {
            "text/plain": [
              "<Figure size 432x288 with 1 Axes>"
            ],
            "image/png": "[encoded data removed]"
          },
          "metadata": {
            "needs_background": "light"
          }
        }
      ],
      "execution_count": 32,
      "metadata": {
        "collapsed": false,
        "outputHidden": false,
        "inputHidden": false
      }
    },
    {
      "cell_type": "code",
      "source": [
        "i = best_models.index[0]\n",
        "m = best_models.loc[i]['Model']\n",
        "p0 = np.concatenate((comp_to_p(m['disk']), comp_to_p(m['bulge'])))\n",
        "_m = {'disk': dict(m['disk']), 'bulge': dict(m['bulge']), 'bar': None, 'spiral': np.array([])}\n",
        "_m['bulge']['n'] = 4\n",
        "image_size = gu.get_diff_data(i)['width']\n",
        "psf = gu.get_psf(i)\n",
        "cx, cy = np.mgrid[0:image_size, 0:image_size]\n",
        "\n",
        "im = bulge_disk_model(p0, cy, cx)\n",
        "\n",
        "im2 = rendering.calculate_model(\n",
        "   _m, psf=None, image_size=image_size\n",
        ")\n",
        "f, ax = plt.subplots(ncols=3, figsize=(20, 5))\n",
        "ax[0].imshow(im)\n",
        "ax[1].imshow(im2)\n",
        "c = ax[2].imshow(im - im2)\n",
        "plt.colorbar(c, ax=ax)"
      ],
      "outputs": [
        {
          "output_type": "execute_result",
          "execution_count": 44,
          "data": {
            "text/plain": [
              "<matplotlib.colorbar.Colorbar at 0x12f4565f8>"
            ]
          },
          "metadata": {}
        },
        {
          "output_type": "display_data",
          "data": {
            "text/plain": [
              "<Figure size 1440x360 with 4 Axes>"
            ],
            "image/png": "[encoded data removed]"
          },
          "metadata": {
            "needs_background": "light"
          }
        }
      ],
      "execution_count": 44,
      "metadata": {
        "collapsed": false,
        "outputHidden": false,
        "inputHidden": false
      }
    },
    {
      "cell_type": "code",
      "source": [
        "BOUNDS = [\n",
        "  (0, 512), (0, 512),  # mux, muy\n",
        "  (-np.inf, np.inf), (-np.inf, np.inf), # roll, rEff\n",
        "  (0, np.inf),  # axRatio\n",
        "  (0, np.inf), # i0\n",
        "] * 2"
      ],
      "outputs": [],
      "execution_count": null,
      "metadata": {
        "collapsed": false,
        "outputHidden": false,
        "inputHidden": false
      }
    },
    {
      "cell_type": "code",
      "source": [
        "def get_fitted_bd_model(subject_id, progress=True):\n",
        "  psf = gu.get_psf(subject_id)\n",
        "  diff_data = gu.get_diff_data(subject_id)\n",
        "  pixel_mask = 1 - np.array(diff_data['mask'])[::-1]\n",
        "  galaxy_data = np.array(diff_data['imageData'])[::-1]\n",
        "\n",
        "  m = best_models.loc[subject_id]['Model']\n",
        "  if m['disk'] is None or m['bulge'] is None:\n",
        "    return None\n",
        "  p0 = comp_to_p(m['disk']) + comp_to_p(m['bulge'])\n",
        "  image_size = galaxy_data.shape[0]\n",
        "  cx, cy = np.mgrid[0:image_size, 0:image_size]\n",
        "  if progress:\n",
        "    with tqdm(desc='Fitting model', leave=False) as pbar:\n",
        "      def update_bar(p):\n",
        "        pbar.update(1)\n",
        "      res = minimize(\n",
        "        f, p0, callback=update_bar,\n",
        "        args=(galaxy_data, cx, cy, psf, pixel_mask),\n",
        "        bounds=BOUNDS\n",
        "      )\n",
        "  else:\n",
        "    res = minimize(\n",
        "      f, p0, callback=update_bar,\n",
        "      args=(galaxy_data, cx, cy, psf, pixel_mask)\n",
        "    )\n",
        "  fit_disk = sanitize_param_dict(\n",
        "    comp_from_p(res['x'][:6].tolist())\n",
        "  )\n",
        "  fit_bulge = sanitize_param_dict(\n",
        "    comp_from_p(res['x'][6:].tolist())\n",
        "  )\n",
        "  return fit_disk, fit_bulge, res"
      ],
      "outputs": [],
      "execution_count": null,
      "metadata": {
        "collapsed": false,
        "outputHidden": false,
        "inputHidden": false
      }
    },
    {
      "cell_type": "code",
      "source": [
        "out = pd.Series([]).rename('fit_results')"
      ],
      "outputs": [],
      "execution_count": null,
      "metadata": {
        "collapsed": false,
        "outputHidden": false,
        "inputHidden": false
      }
    },
    {
      "cell_type": "code",
      "source": [
        "d = UpdatableDisplay('')\n",
        "for i, subject_id in enumerate(sid_list):\n",
        "  d('{} / {} : {}'.format(i, len(sid_list), subject_id))\n",
        "  if subject_id in out.index:\n",
        "    continue\n",
        "  try:\n",
        "    out[subject_id] = get_fitted_bd_model(subject_id)\n",
        "  except KeyboardInterrupt:\n",
        "    break"
      ],
      "outputs": [],
      "execution_count": null,
      "metadata": {
        "collapsed": false,
        "outputHidden": false,
        "inputHidden": false
      }
    },
    {
      "cell_type": "markdown",
      "source": [
        "Calculate bulge to total fractions:"
      ],
      "metadata": {}
    },
    {
      "cell_type": "code",
      "source": [
        "def get_flux(**comp):\n",
        "  re = comp['rEff'] / 3\n",
        "  Se = comp['i0'] / 2\n",
        "  n = comp['n']\n",
        "  k = _b(n)\n",
        "  q = comp['axRatio']\n",
        "  return 2 * np.pi * re**2 * Se * np.exp(k) * n * k**(-2*n) * gamma(2*n) / q\n",
        "\n",
        "def get_bt(disk, bulge):\n",
        "  b = get_flux(n=4, **bulge)\n",
        "  t = b + get_flux(n=1, **disk)\n",
        "  return b / t"
      ],
      "outputs": [],
      "execution_count": null,
      "metadata": {
        "collapsed": false,
        "outputHidden": false,
        "inputHidden": false
      }
    },
    {
      "cell_type": "code",
      "source": [
        "bt = out.dropna().apply(lambda r: get_bt(r[0], r[1]))"
      ],
      "outputs": [],
      "execution_count": null,
      "metadata": {
        "collapsed": false,
        "outputHidden": false,
        "inputHidden": false
      }
    },
    {
      "cell_type": "code",
      "source": [
        "st.pearsonr(bt, simard_df['__B_T_r'].loc[bt.index])"
      ],
      "outputs": [],
      "execution_count": null,
      "metadata": {
        "collapsed": false,
        "outputHidden": false,
        "inputHidden": false
      }
    },
    {
      "cell_type": "code",
      "source": [
        "plt.figure(figsize=(6, 6), dpi=75)\n",
        "plt.plot(simard_df['__B_T_r'].loc[bt.index], bt, '.')\n",
        "plt.gca().add_artist(plt.Line2D((0, 1), (0, 1), color='k', alpha=0.2))\n",
        "plt.axis('equal')\n",
        "plt.xlim(0, .9)\n",
        "plt.ylim(0, .9)\n",
        "plt.tight_layout()"
      ],
      "outputs": [],
      "execution_count": null,
      "metadata": {
        "collapsed": false,
        "outputHidden": false,
        "inputHidden": false
      }
    },
    {
      "cell_type": "code",
      "source": [
        "plt.figure(figsize=(10, 8), dpi=100)\n",
        "subject_id = np.random.choice(out.dropna().index)\n",
        "psf = gu.get_psf(subject_id)\n",
        "diff_data = gu.get_diff_data(subject_id)\n",
        "pixel_mask = 1 - np.array(diff_data['mask'])[::-1]\n",
        "galaxy_data = np.array(diff_data['imageData'])[::-1]\n",
        "r = comp_to_p(out.loc[subject_id][0]) + comp_to_p(out.loc[subject_id][1])\n",
        "image_size = galaxy_data.shape[0]\n",
        "cx, cy = np.mgrid[0:image_size, 0:image_size]\n",
        "im_psf = convolve2d(\n",
        "  bulge_disk_model(r, cx, cy), psf, mode='same', boundary='symm'\n",
        ")\n",
        "plt.subplot(231)\n",
        "plt.imshow(galaxy_data, vmin=0, vmax=1)\n",
        "plt.subplot(232)\n",
        "s = mean_squared_error(galaxy_data * pixel_mask, im_psf * pixel_mask)\n",
        "plt.title('{}: {:.4f}'.format(subject_id, s))\n",
        "plt.imshow(im_psf, vmin=0, vmax=1)\n",
        "plt.subplot(233)\n",
        "full_model = rendering.calculate_model(\n",
        "    best_models.loc[subject_id]['Model'],\n",
        "    psf=gu.get_psf(subject_id),\n",
        "    image_size=gu.get_diff_data(subject_id)['width'],\n",
        ")\n",
        "s2 = mean_squared_error(galaxy_data * pixel_mask, full_model * pixel_mask / 0.8)\n",
        "plt.title(s2)\n",
        "plt.imshow(full_model, vmin=0, vmax=1)\n",
        "plt.subplot(235)\n",
        "d = galaxy_data * pixel_mask - im_psf * pixel_mask\n",
        "plt.imshow(d / 0.8, cmap='RdGy', vmin=-np.abs(d).max(), vmax=np.abs(d).max())\n",
        "plt.subplot(236)\n",
        "d2 = rendering.compare_to_galaxy(\n",
        "    full_model, galaxy_data, psf=None, pixel_mask=pixel_mask, stretch=False\n",
        ")\n",
        "plt.imshow(d2, cmap='RdGy', vmin=-np.abs(d).max(), vmax=np.abs(d).max())"
      ],
      "outputs": [],
      "execution_count": null,
      "metadata": {
        "collapsed": false,
        "outputHidden": false,
        "inputHidden": false
      }
    },
    {
      "cell_type": "code",
      "source": [
        "out.loc[subject_id][2]"
      ],
      "outputs": [],
      "execution_count": null,
      "metadata": {
        "collapsed": false,
        "outputHidden": false,
        "inputHidden": false
      }
    },
    {
      "cell_type": "code",
      "source": [
        "best_models.loc[20902040]"
      ],
      "outputs": [],
      "execution_count": null,
      "metadata": {
        "collapsed": false,
        "outputHidden": false,
        "inputHidden": false
      }
    },
    {
      "cell_type": "code",
      "source": [
        "simard_df.loc[subject_id].keys()"
      ],
      "outputs": [],
      "execution_count": null,
      "metadata": {
        "collapsed": false,
        "outputHidden": false,
        "inputHidden": false
      }
    },
    {
      "cell_type": "code",
      "source": [
        "simard_df.loc[subject_id]['__B_T_r']"
      ],
      "outputs": [],
      "execution_count": null,
      "metadata": {
        "collapsed": false,
        "outputHidden": false,
        "inputHidden": false
      }
    },
    {
      "cell_type": "code",
      "source": [
        "sanitize_param_dict(fit_disk)['axRatio'], 1 / np.arctan(simard_df.loc[subject_id]['i'])"
      ],
      "outputs": [],
      "execution_count": null,
      "metadata": {
        "collapsed": false,
        "outputHidden": false,
        "inputHidden": false
      }
    },
    {
      "cell_type": "code",
      "source": [
        "sanitize_param_dict(fit_bulge)['axRatio'], 1 - simard_df.loc[subject_id]['e']"
      ],
      "outputs": [],
      "execution_count": null,
      "metadata": {
        "collapsed": false,
        "outputHidden": false,
        "inputHidden": false
      }
    }
  ],
  "metadata": {
    "kernel_info": {
      "name": "python3"
    },
    "language_info": {
      "name": "python",
      "version": "3.6.7",
      "mimetype": "text/x-python",
      "codemirror_mode": {
        "name": "ipython",
        "version": 3
      },
      "pygments_lexer": "ipython3",
      "nbconvert_exporter": "python",
      "file_extension": ".py"
    },
    "kernelspec": {
      "name": "python3",
      "language": "python",
      "display_name": "Python 3"
    },
    "nteract": {
      "version": "0.14.3"
    }
  },
  "nbformat": 4,
  "nbformat_minor": 0
}