{
  "cells": [
    {
      "cell_type": "code",
      "source": [
        "%load_ext autoreload\n",
        "%autoreload 2"
      ],
      "outputs": [],
      "execution_count": 1,
      "metadata": {
        "collapsed": false,
        "outputHidden": false,
        "inputHidden": false
      }
    },
    {
      "cell_type": "code",
      "source": [
        "import numpy as np\n",
        "import matplotlib.pyplot as plt\n",
        "import pandas as pd\n",
        "from astropy.io import fits\n",
        "from IPython.display import display"
      ],
      "outputs": [],
      "execution_count": 2,
      "metadata": {
        "collapsed": false,
        "outputHidden": false,
        "inputHidden": false
      }
    },
    {
      "cell_type": "code",
      "source": [
        "# %run make_pitch_angle_dataframes.py"
      ],
      "outputs": [],
      "execution_count": 29,
      "metadata": {
        "collapsed": false,
        "outputHidden": false,
        "inputHidden": false
      }
    },
    {
      "cell_type": "code",
      "source": [
        "pa_df = pd.read_pickle('pitch_angle_comparisons.pkl')\n",
        "sf_df = pd.read_pickle('sparcfire_pitch_angles.pkl')\n",
        "arm_df = pd.read_pickle('arm_pitch_angles.pkl')\n",
        "\n",
        "shared_keys = sf_df.index.values[\n",
        "    np.isin(sf_df.index.values, pa_df.index.values)\n",
        "]"
      ],
      "outputs": [],
      "execution_count": 4,
      "metadata": {
        "collapsed": false,
        "outputHidden": false,
        "inputHidden": false
      }
    },
    {
      "cell_type": "code",
      "source": [
        "pa_sf_df = pa_df.loc[shared_keys]\n",
        "pa_sf_df['SF pitch angle'] = sf_df['pa']\n",
        "pa_sf_df['SF sigma'] = sf_df['sigma_pa']\n",
        "\n",
        "print('For a galaxy average')\n",
        "display(pa_sf_df.head(3))\n",
        "print('For individual arms:')\n",
        "display(arm_df.head(3))"
      ],
      "outputs": [
        {
          "output_type": "stream",
          "name": "stdout",
          "text": [
            "For a galaxy average\n"
          ]
        },
        {
          "output_type": "display_data",
          "data": {
            "text/plain": [
              "          Hart pitch angle  GZB pitch angle  GZB sigma  SF pitch angle  \\\n",
              "20902081         13.843782         6.257303   1.945106       17.100268   \n",
              "21096878         18.526741        14.326583   0.522030       20.511005   \n",
              "20902064         21.677171        27.968106   0.345265       26.914451   \n",
              "\n",
              "           SF sigma  \n",
              "20902081   9.233085  \n",
              "21096878   9.220849  \n",
              "20902064  11.459259  "
            ],
            "text/html": [
              "<div>\n",
              "<style scoped>\n",
              "    .dataframe tbody tr th:only-of-type {\n",
              "        vertical-align: middle;\n",
              "    }\n",
              "\n",
              "    .dataframe tbody tr th {\n",
              "        vertical-align: top;\n",
              "    }\n",
              "\n",
              "    .dataframe thead th {\n",
              "        text-align: right;\n",
              "    }\n",
              "</style>\n",
              "<table border=\"1\" class=\"dataframe\">\n",
              "  <thead>\n",
              "    <tr style=\"text-align: right;\">\n",
              "      <th></th>\n",
              "      <th>Hart pitch angle</th>\n",
              "      <th>GZB pitch angle</th>\n",
              "      <th>GZB sigma</th>\n",
              "      <th>SF pitch angle</th>\n",
              "      <th>SF sigma</th>\n",
              "    </tr>\n",
              "  </thead>\n",
              "  <tbody>\n",
              "    <tr>\n",
              "      <th>20902081</th>\n",
              "      <td>13.843782</td>\n",
              "      <td>6.257303</td>\n",
              "      <td>1.945106</td>\n",
              "      <td>17.100268</td>\n",
              "      <td>9.233085</td>\n",
              "    </tr>\n",
              "    <tr>\n",
              "      <th>21096878</th>\n",
              "      <td>18.526741</td>\n",
              "      <td>14.326583</td>\n",
              "      <td>0.522030</td>\n",
              "      <td>20.511005</td>\n",
              "      <td>9.220849</td>\n",
              "    </tr>\n",
              "    <tr>\n",
              "      <th>20902064</th>\n",
              "      <td>21.677171</td>\n",
              "      <td>27.968106</td>\n",
              "      <td>0.345265</td>\n",
              "      <td>26.914451</td>\n",
              "      <td>11.459259</td>\n",
              "    </tr>\n",
              "  </tbody>\n",
              "</table>\n",
              "</div>"
            ]
          },
          "metadata": {}
        },
        {
          "output_type": "stream",
          "name": "stdout",
          "text": [
            "For individual arms:\n"
          ]
        },
        {
          "output_type": "display_data",
          "data": {
            "text/plain": [
              "   subject_id         pa  sigma_pa    length    hart_pa\n",
              "0    21096909  26.903561  1.558496  0.316670  20.066538\n",
              "1    21096909  14.844489  3.231209  0.654809  20.066538\n",
              "2    21096909  26.076264  1.709857  0.611535  20.066538"
            ],
            "text/html": [
              "<div>\n",
              "<style scoped>\n",
              "    .dataframe tbody tr th:only-of-type {\n",
              "        vertical-align: middle;\n",
              "    }\n",
              "\n",
              "    .dataframe tbody tr th {\n",
              "        vertical-align: top;\n",
              "    }\n",
              "\n",
              "    .dataframe thead th {\n",
              "        text-align: right;\n",
              "    }\n",
              "</style>\n",
              "<table border=\"1\" class=\"dataframe\">\n",
              "  <thead>\n",
              "    <tr style=\"text-align: right;\">\n",
              "      <th></th>\n",
              "      <th>subject_id</th>\n",
              "      <th>pa</th>\n",
              "      <th>sigma_pa</th>\n",
              "      <th>length</th>\n",
              "      <th>hart_pa</th>\n",
              "    </tr>\n",
              "  </thead>\n",
              "  <tbody>\n",
              "    <tr>\n",
              "      <th>0</th>\n",
              "      <td>21096909</td>\n",
              "      <td>26.903561</td>\n",
              "      <td>1.558496</td>\n",
              "      <td>0.316670</td>\n",
              "      <td>20.066538</td>\n",
              "    </tr>\n",
              "    <tr>\n",
              "      <th>1</th>\n",
              "      <td>21096909</td>\n",
              "      <td>14.844489</td>\n",
              "      <td>3.231209</td>\n",
              "      <td>0.654809</td>\n",
              "      <td>20.066538</td>\n",
              "    </tr>\n",
              "    <tr>\n",
              "      <th>2</th>\n",
              "      <td>21096909</td>\n",
              "      <td>26.076264</td>\n",
              "      <td>1.709857</td>\n",
              "      <td>0.611535</td>\n",
              "      <td>20.066538</td>\n",
              "    </tr>\n",
              "  </tbody>\n",
              "</table>\n",
              "</div>"
            ]
          },
          "metadata": {}
        }
      ],
      "execution_count": 5,
      "metadata": {
        "collapsed": false,
        "outputHidden": false,
        "inputHidden": false
      }
    },
    {
      "cell_type": "code",
      "source": [
        "pa_hart = pa_df['Hart pitch angle']\n",
        "pa_gzb = pa_df['GZB pitch angle']\n",
        "a = np.argsort(pa_hart)\n",
        "x = pa_hart.iloc[a]\n",
        "\n",
        "plt.plot(x, pa_hart.iloc[a])\n",
        "plt.errorbar(x, pa_gzb.iloc[a], pa_df['GZB sigma'].iloc[a],\n",
        "             capsize=1, fmt='.', linewidth=1)\n",
        "plt.fill_between(x, pa_hart.iloc[a] - 14,\n",
        "                 pa_hart.iloc[a]+14, color='C0', alpha=0.1)\n",
        "\n",
        "plt.fill_between(x, pa_hart.iloc[a] - 7,\n",
        "                 pa_hart.iloc[a]+7, color='C0', alpha=0.1)\n",
        "\n",
        "plt.ylabel('$\\Psi$ [degrees]')\n",
        "plt.xlabel('$\\Psi_\\mathrm{Hart}$ [degrees]')\n",
        "plt.legend()\n",
        "plt.savefig('method-paper-plots/pitch-angle-comparison.pdf', bbox_inches='tight')\n",
        "plt.savefig('method-paper-plots/pitch-angle-comparison.png', bbox_inches='tight');"
      ],
      "outputs": [
        {
          "output_type": "display_data",
          "data": {
            "text/plain": [
              "<Figure size 432x288 with 1 Axes>"
            ],
            "image/png": "[encoded data removed]"
          },
          "metadata": {
            "needs_background": "light"
          }
        }
      ],
      "execution_count": 6,
      "metadata": {
        "collapsed": false,
        "outputHidden": false,
        "inputHidden": false
      }
    },
    {
      "cell_type": "code",
      "source": [
        "b = np.argsort(pa_sf_df['Hart pitch angle'])\n",
        "x = pa_sf_df['Hart pitch angle'].iloc[b]\n",
        "\n",
        "plt.plot(x, pa_sf_df['Hart pitch angle'].iloc[b], c='C0')\n",
        "plt.fill_between(\n",
        "    x,\n",
        "    pa_sf_df['Hart pitch angle'].iloc[b] - 7,\n",
        "    pa_sf_df['Hart pitch angle'].iloc[b] + 7,\n",
        "    alpha=0.1, color='C0',\n",
        ")\n",
        "\n",
        "plt.errorbar(x, pa_sf_df['SF pitch angle'].iloc[b],\n",
        "             pa_sf_df['SF sigma'].iloc[b], color='C1', fmt='x',\n",
        "             capsize=3, alpha=0.9)\n",
        "\n",
        "plt.errorbar(x, pa_sf_df['GZB pitch angle'].iloc[b],\n",
        "             pa_sf_df['GZB sigma'].iloc[b], fmt='.', color='C2',\n",
        "             capsize=3, alpha=0.9)\n",
        "\n",
        "plt.ylabel('$\\Psi$ [degrees]')\n",
        "plt.xlabel('$\\Psi_\\mathrm{Hart}$ [degrees]')\n",
        "plt.legend()\n",
        "plt.savefig('method-paper-plots/pitch-angle-comparison2.pdf', bbox_inches='tight')\n",
        "plt.savefig('method-paper-plots/pitch-angle-comparison2.png', bbox_inches='tight')"
      ],
      "outputs": [
        {
          "output_type": "display_data",
          "data": {
            "text/plain": [
              "<Figure size 432x288 with 1 Axes>"
            ],
            "image/png": "[encoded data removed]"
          },
          "metadata": {
            "needs_background": "light"
          }
        }
      ],
      "execution_count": 7,
      "metadata": {
        "collapsed": false,
        "outputHidden": false,
        "inputHidden": false
      }
    },
    {
      "cell_type": "code",
      "source": [
        "arm_dispersion_df = pd.concat((\n",
        "    pa_df['GZB pitch angle'].rename('gzb_pa'),\n",
        "    arm_df.groupby('subject_id')['pa'].std().rename('sigma_pa'),\n",
        "    pa_df['Hart pitch angle'].rename('hart_pa'),\n",
        "), axis=1)\n",
        "arm_dispersion_df.head(3)"
      ],
      "outputs": [
        {
          "output_type": "execute_result",
          "execution_count": 8,
          "data": {
            "text/plain": [
              "             gzb_pa  sigma_pa    hart_pa\n",
              "20901990  24.745800       NaN  20.730790\n",
              "20901993  14.163900       NaN  16.786885\n",
              "20901995  13.696389       NaN  18.533995"
            ],
            "text/html": [
              "<div>\n",
              "<style scoped>\n",
              "    .dataframe tbody tr th:only-of-type {\n",
              "        vertical-align: middle;\n",
              "    }\n",
              "\n",
              "    .dataframe tbody tr th {\n",
              "        vertical-align: top;\n",
              "    }\n",
              "\n",
              "    .dataframe thead th {\n",
              "        text-align: right;\n",
              "    }\n",
              "</style>\n",
              "<table border=\"1\" class=\"dataframe\">\n",
              "  <thead>\n",
              "    <tr style=\"text-align: right;\">\n",
              "      <th></th>\n",
              "      <th>gzb_pa</th>\n",
              "      <th>sigma_pa</th>\n",
              "      <th>hart_pa</th>\n",
              "    </tr>\n",
              "  </thead>\n",
              "  <tbody>\n",
              "    <tr>\n",
              "      <th>20901990</th>\n",
              "      <td>24.745800</td>\n",
              "      <td>NaN</td>\n",
              "      <td>20.730790</td>\n",
              "    </tr>\n",
              "    <tr>\n",
              "      <th>20901993</th>\n",
              "      <td>14.163900</td>\n",
              "      <td>NaN</td>\n",
              "      <td>16.786885</td>\n",
              "    </tr>\n",
              "    <tr>\n",
              "      <th>20901995</th>\n",
              "      <td>13.696389</td>\n",
              "      <td>NaN</td>\n",
              "      <td>18.533995</td>\n",
              "    </tr>\n",
              "  </tbody>\n",
              "</table>\n",
              "</div>"
            ]
          },
          "metadata": {}
        }
      ],
      "execution_count": 8,
      "metadata": {
        "collapsed": false,
        "outputHidden": false,
        "inputHidden": false
      }
    },
    {
      "cell_type": "code",
      "source": [
        "plt.errorbar(arm_dispersion_df['hart_pa'], arm_dispersion_df['gzb_pa'],\n",
        "             arm_dispersion_df['sigma_pa'], fmt='.', alpha=0.3)\n",
        "\n",
        "plt.plot(arm_dispersion_df['hart_pa'], arm_dispersion_df['gzb_pa'],\n",
        "         '.', c='C0')\n",
        "\n",
        "lims = np.array(plt.gca().get_xlim())\n",
        "plt.plot(lims, lims)\n",
        "plt.fill_between(lims, lims-14, lims+14, color='C1', alpha=0.1)\n",
        "plt.fill_between(lims, lims-7, lims+7, color='C1', alpha=0.1)\n",
        "plt.ylabel('$\\Psi$ [degrees]')\n",
        "plt.xlabel('$\\Psi_\\mathrm{Hart}$ [degrees]');\n",
        "plt.savefig('method-paper-plots/pitch-angle-comparison3.pdf', bbox_inches='tight')\n",
        "plt.savefig('method-paper-plots/pitch-angle-comparison3.png', bbox_inches='tight');"
      ],
      "outputs": [
        {
          "output_type": "display_data",
          "data": {
            "text/plain": [
              "<Figure size 432x288 with 1 Axes>"
            ],
            "image/png": "[encoded data removed]"
          },
          "metadata": {
            "needs_background": "light"
          }
        }
      ],
      "execution_count": 27,
      "metadata": {
        "collapsed": false,
        "outputHidden": false,
        "inputHidden": false
      }
    }
  ],
  "metadata": {
    "kernel_info": {
      "name": "python3"
    },
    "language_info": {
      "name": "python",
      "version": "3.6.7",
      "mimetype": "text/x-python",
      "codemirror_mode": {
        "name": "ipython",
        "version": 3
      },
      "pygments_lexer": "ipython3",
      "nbconvert_exporter": "python",
      "file_extension": ".py"
    },
    "kernelspec": {
      "name": "python3",
      "language": "python",
      "display_name": "Python 3"
    },
    "nteract": {
      "version": "0.12.3"
    }
  },
  "nbformat": 4,
  "nbformat_minor": 4
}