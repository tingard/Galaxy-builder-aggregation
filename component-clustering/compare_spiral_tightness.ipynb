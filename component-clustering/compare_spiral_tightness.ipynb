{
  "cells": [
    {
      "cell_type": "code",
      "source": [
        "%load_ext autoreload\n",
        "%autoreload 2"
      ],
      "outputs": [],
      "execution_count": 1,
      "metadata": {
        "collapsed": false,
        "outputHidden": false,
        "inputHidden": false
      }
    },
    {
      "cell_type": "code",
      "source": [
        "import numpy as np\n",
        "import matplotlib.pyplot as plt\n",
        "import pandas as pd\n",
        "from astropy.io import fits\n",
        "from IPython.display import display"
      ],
      "outputs": [],
      "execution_count": 2,
      "metadata": {
        "collapsed": false,
        "outputHidden": false,
        "inputHidden": false
      }
    },
    {
      "cell_type": "code",
      "source": [
        "%run make_pitch_angle_dataframes.py"
      ],
      "outputs": [
        {
          "output_type": "stream",
          "name": "stdout",
          "text": [
            "0\n",
            "50\n",
            "100\n",
            "150\n",
            "200\n",
            "250\n"
          ]
        }
      ],
      "execution_count": 3,
      "metadata": {
        "collapsed": false,
        "outputHidden": false,
        "inputHidden": false
      }
    },
    {
      "cell_type": "code",
      "source": [
        "pa_df = pd.read_pickle('pitch_angle_comparisons.pkl')\n",
        "sf_df = pd.read_pickle('sparcfire_pitch_angles.pkl')\n",
        "arm_df = pd.read_pickle('arm_pitch_angles.pkl')\n",
        "\n",
        "shared_keys = sf_df.index.values[\n",
        "    np.isin(sf_df.index.values, pa_df.index.values)\n",
        "]"
      ],
      "outputs": [],
      "execution_count": 4,
      "metadata": {
        "collapsed": false,
        "outputHidden": false,
        "inputHidden": false
      }
    },
    {
      "cell_type": "code",
      "source": [
        "pa_sf_df = pa_df.loc[shared_keys]\n",
        "pa_sf_df['SF pitch angle'] = sf_df['pa']\n",
        "pa_sf_df['SF sigma'] = sf_df['sigma_pa']\n",
        "\n",
        "print('For a galaxy average')\n",
        "display(pa_sf_df.head(3))\n",
        "print('For individual arms:')\n",
        "display(arm_df.head(3))"
      ],
      "outputs": [
        {
          "output_type": "stream",
          "name": "stdout",
          "text": [
            "For a galaxy average\n"
          ]
        },
        {
          "output_type": "display_data",
          "data": {
            "text/plain": [
              "            Hart pitch angle  GZB pitch angle  GZB sigma  SF pitch angle  \\\n",
              "subject_id                                                                 \n",
              "20902081           13.843782        10.663819   0.932829       17.100268   \n",
              "21096878           18.526741        15.131112   0.407863       20.511005   \n",
              "20902064           21.677171        27.803074   0.542762       26.914451   \n",
              "\n",
              "             SF sigma  \n",
              "subject_id             \n",
              "20902081     9.233085  \n",
              "21096878     9.220849  \n",
              "20902064    11.459259  "
            ],
            "text/html": [
              "<div>\n",
              "<style scoped>\n",
              "    .dataframe tbody tr th:only-of-type {\n",
              "        vertical-align: middle;\n",
              "    }\n",
              "\n",
              "    .dataframe tbody tr th {\n",
              "        vertical-align: top;\n",
              "    }\n",
              "\n",
              "    .dataframe thead th {\n",
              "        text-align: right;\n",
              "    }\n",
              "</style>\n",
              "<table border=\"1\" class=\"dataframe\">\n",
              "  <thead>\n",
              "    <tr style=\"text-align: right;\">\n",
              "      <th></th>\n",
              "      <th>Hart pitch angle</th>\n",
              "      <th>GZB pitch angle</th>\n",
              "      <th>GZB sigma</th>\n",
              "      <th>SF pitch angle</th>\n",
              "      <th>SF sigma</th>\n",
              "    </tr>\n",
              "    <tr>\n",
              "      <th>subject_id</th>\n",
              "      <th></th>\n",
              "      <th></th>\n",
              "      <th></th>\n",
              "      <th></th>\n",
              "      <th></th>\n",
              "    </tr>\n",
              "  </thead>\n",
              "  <tbody>\n",
              "    <tr>\n",
              "      <th>20902081</th>\n",
              "      <td>13.843782</td>\n",
              "      <td>10.663819</td>\n",
              "      <td>0.932829</td>\n",
              "      <td>17.100268</td>\n",
              "      <td>9.233085</td>\n",
              "    </tr>\n",
              "    <tr>\n",
              "      <th>21096878</th>\n",
              "      <td>18.526741</td>\n",
              "      <td>15.131112</td>\n",
              "      <td>0.407863</td>\n",
              "      <td>20.511005</td>\n",
              "      <td>9.220849</td>\n",
              "    </tr>\n",
              "    <tr>\n",
              "      <th>20902064</th>\n",
              "      <td>21.677171</td>\n",
              "      <td>27.803074</td>\n",
              "      <td>0.542762</td>\n",
              "      <td>26.914451</td>\n",
              "      <td>11.459259</td>\n",
              "    </tr>\n",
              "  </tbody>\n",
              "</table>\n",
              "</div>"
            ]
          },
          "metadata": {}
        },
        {
          "output_type": "stream",
          "name": "stdout",
          "text": [
            "For individual arms:\n"
          ]
        },
        {
          "output_type": "display_data",
          "data": {
            "text/plain": [
              "   subject_id         pa  sigma_pa      length    hart_pa\n",
              "0  20902000.0   4.910154  0.994989  217.657472  15.305479\n",
              "1  20902007.0  16.639632  0.522475  200.913598  15.034615\n",
              "2  20902007.0  26.910985  0.624200  125.403448  15.034615"
            ],
            "text/html": [
              "<div>\n",
              "<style scoped>\n",
              "    .dataframe tbody tr th:only-of-type {\n",
              "        vertical-align: middle;\n",
              "    }\n",
              "\n",
              "    .dataframe tbody tr th {\n",
              "        vertical-align: top;\n",
              "    }\n",
              "\n",
              "    .dataframe thead th {\n",
              "        text-align: right;\n",
              "    }\n",
              "</style>\n",
              "<table border=\"1\" class=\"dataframe\">\n",
              "  <thead>\n",
              "    <tr style=\"text-align: right;\">\n",
              "      <th></th>\n",
              "      <th>subject_id</th>\n",
              "      <th>pa</th>\n",
              "      <th>sigma_pa</th>\n",
              "      <th>length</th>\n",
              "      <th>hart_pa</th>\n",
              "    </tr>\n",
              "  </thead>\n",
              "  <tbody>\n",
              "    <tr>\n",
              "      <th>0</th>\n",
              "      <td>20902000.0</td>\n",
              "      <td>4.910154</td>\n",
              "      <td>0.994989</td>\n",
              "      <td>217.657472</td>\n",
              "      <td>15.305479</td>\n",
              "    </tr>\n",
              "    <tr>\n",
              "      <th>1</th>\n",
              "      <td>20902007.0</td>\n",
              "      <td>16.639632</td>\n",
              "      <td>0.522475</td>\n",
              "      <td>200.913598</td>\n",
              "      <td>15.034615</td>\n",
              "    </tr>\n",
              "    <tr>\n",
              "      <th>2</th>\n",
              "      <td>20902007.0</td>\n",
              "      <td>26.910985</td>\n",
              "      <td>0.624200</td>\n",
              "      <td>125.403448</td>\n",
              "      <td>15.034615</td>\n",
              "    </tr>\n",
              "  </tbody>\n",
              "</table>\n",
              "</div>"
            ]
          },
          "metadata": {}
        }
      ],
      "execution_count": 5,
      "metadata": {
        "collapsed": false,
        "outputHidden": false,
        "inputHidden": false
      }
    },
    {
      "cell_type": "code",
      "source": [
        "pa_hart = pa_df['Hart pitch angle']\n",
        "pa_gzb = pa_df['GZB pitch angle']\n",
        "a = np.argsort(pa_hart.values)\n",
        "x = pa_hart.iloc[a]\n",
        "\n",
        "plt.plot(x, pa_hart.iloc[a])\n",
        "plt.errorbar(x, pa_gzb.iloc[a], pa_df['GZB sigma'].iloc[a],\n",
        "             capsize=1, fmt='.', linewidth=1)\n",
        "plt.fill_between(x, pa_hart.iloc[a] - 14,\n",
        "                 pa_hart.iloc[a]+14, color='C0', alpha=0.1)\n",
        "\n",
        "plt.fill_between(x, pa_hart.iloc[a] - 7,\n",
        "                 pa_hart.iloc[a]+7, color='C0', alpha=0.1)\n",
        "\n",
        "plt.ylabel('$\\Psi$ [degrees]')\n",
        "plt.xlabel('$\\Psi_\\mathrm{Hart}$ [degrees]')\n",
        "plt.legend()\n",
        "plt.savefig('method-paper-plots/pitch-angle-comparison.pdf', bbox_inches='tight')\n",
        "plt.savefig('method-paper-plots/pitch-angle-comparison.png', bbox_inches='tight');"
      ],
      "outputs": [
        {
          "output_type": "display_data",
          "data": {
            "text/plain": [
              "<Figure size 432x288 with 1 Axes>"
            ],
            "image/png": "[encoded data removed]"
          },
          "metadata": {
            "needs_background": "light"
          }
        }
      ],
      "execution_count": 11,
      "metadata": {
        "collapsed": false,
        "outputHidden": false,
        "inputHidden": false
      }
    },
    {
      "cell_type": "code",
      "source": [
        "arm_dispersion_df = pd.concat((\n",
        "    pa_df['GZB pitch angle'].rename('gzb_pa'),\n",
        "    arm_df.groupby('subject_id')['pa'].std().rename('sigma_pa'),\n",
        "    pa_df['Hart pitch angle'].rename('hart_pa'),\n",
        "), axis=1)\n",
        "arm_dispersion_df.dropna().head(3)"
      ],
      "outputs": [
        {
          "output_type": "execute_result",
          "execution_count": 12,
          "data": {
            "text/plain": [
              "               gzb_pa  sigma_pa    hart_pa\n",
              "subject_id                                \n",
              "20901990    24.639915  8.191022  20.730790\n",
              "20901993    17.380952  1.710549  16.786885\n",
              "20901998    35.705029  1.852470  18.627955"
            ],
            "text/html": [
              "<div>\n",
              "<style scoped>\n",
              "    .dataframe tbody tr th:only-of-type {\n",
              "        vertical-align: middle;\n",
              "    }\n",
              "\n",
              "    .dataframe tbody tr th {\n",
              "        vertical-align: top;\n",
              "    }\n",
              "\n",
              "    .dataframe thead th {\n",
              "        text-align: right;\n",
              "    }\n",
              "</style>\n",
              "<table border=\"1\" class=\"dataframe\">\n",
              "  <thead>\n",
              "    <tr style=\"text-align: right;\">\n",
              "      <th></th>\n",
              "      <th>gzb_pa</th>\n",
              "      <th>sigma_pa</th>\n",
              "      <th>hart_pa</th>\n",
              "    </tr>\n",
              "    <tr>\n",
              "      <th>subject_id</th>\n",
              "      <th></th>\n",
              "      <th></th>\n",
              "      <th></th>\n",
              "    </tr>\n",
              "  </thead>\n",
              "  <tbody>\n",
              "    <tr>\n",
              "      <th>20901990</th>\n",
              "      <td>24.639915</td>\n",
              "      <td>8.191022</td>\n",
              "      <td>20.730790</td>\n",
              "    </tr>\n",
              "    <tr>\n",
              "      <th>20901993</th>\n",
              "      <td>17.380952</td>\n",
              "      <td>1.710549</td>\n",
              "      <td>16.786885</td>\n",
              "    </tr>\n",
              "    <tr>\n",
              "      <th>20901998</th>\n",
              "      <td>35.705029</td>\n",
              "      <td>1.852470</td>\n",
              "      <td>18.627955</td>\n",
              "    </tr>\n",
              "  </tbody>\n",
              "</table>\n",
              "</div>"
            ]
          },
          "metadata": {}
        }
      ],
      "execution_count": 12,
      "metadata": {
        "collapsed": false,
        "outputHidden": false,
        "inputHidden": false
      }
    },
    {
      "cell_type": "code",
      "source": [
        "plt.figure(figsize=(7, 7))\n",
        "plt.plot((5, 40), (5, 40), 'k', alpha=0.4)\n",
        "\n",
        "b = np.argsort(pa_sf_df['Hart pitch angle'])\n",
        "x = pa_sf_df['Hart pitch angle'].iloc[b]\n",
        "\n",
        "# plt.errorbar(x, pa_sf_df['SF pitch angle'].iloc[b],\n",
        "#              pa_sf_df['SF sigma'].iloc[b], color='C2', fmt='x',\n",
        "#              capsize=3, alpha=0.9, label='SpArcFiRe pitch angle')\n",
        "\n",
        "plt.errorbar(pa_sf_df['SF pitch angle'].iloc[b],\n",
        "             pa_sf_df['GZB pitch angle'].iloc[b],\n",
        "             xerr=pa_sf_df['SF sigma'].iloc[b], yerr=arm_dispersion_df['sigma_pa'].iloc[b],\n",
        "             fmt='.', color='C1', markersize=10, capsize=2,\n",
        "             label='Galaxy Builder pitch angle')\n",
        "\n",
        "plt.ylabel('Galaxy Zoo Builder $\\Psi$ [degrees]')\n",
        "plt.xlabel('SpAarFiRe $\\Psi$ [degrees]')\n",
        "plt.legend()\n",
        "plt.savefig('method-paper-plots/pitch-angle-comparison2.pdf', bbox_inches='tight')\n",
        "plt.savefig('method-paper-plots/pitch-angle-comparison2.png', bbox_inches='tight')"
      ],
      "outputs": [
        {
          "output_type": "display_data",
          "data": {
            "text/plain": [
              "<Figure size 504x504 with 1 Axes>"
            ],
            "image/png": "[encoded data removed]"
          },
          "metadata": {
            "needs_background": "light"
          }
        }
      ],
      "execution_count": 15,
      "metadata": {
        "collapsed": false,
        "outputHidden": false,
        "inputHidden": false
      }
    },
    {
      "cell_type": "code",
      "source": [
        "lims = np.array((\n",
        "    np.min(arm_dispersion_df['hart_pa']),\n",
        "    np.max(arm_dispersion_df['hart_pa']),\n",
        "))\n",
        "plt.plot(lims, lims)\n",
        "plt.fill_between(lims, lims-14, lims+14, color='C0', alpha=0.1)\n",
        "plt.fill_between(lims, lims-7, lims+7, color='C0', alpha=0.1)\n",
        "plt.errorbar(arm_dispersion_df['hart_pa'], arm_dispersion_df['gzb_pa'],\n",
        "             arm_dispersion_df['sigma_pa'], fmt='.', alpha=0.3, color='C1')\n",
        "\n",
        "plt.plot(arm_dispersion_df['hart_pa'], arm_dispersion_df['gzb_pa'],\n",
        "         '.', c='C1')\n",
        "\n",
        "plt.ylabel('$\\Psi$ [degrees]')\n",
        "plt.xlabel('$\\Psi_\\mathrm{Hart}$ [degrees]')\n",
        "plt.savefig('method-paper-plots/pitch-angle-comparison3.pdf', bbox_inches='tight')\n",
        "plt.savefig('method-paper-plots/pitch-angle-comparison3.png', bbox_inches='tight');"
      ],
      "outputs": [
        {
          "output_type": "display_data",
          "data": {
            "text/plain": [
              "<Figure size 432x288 with 1 Axes>"
            ],
            "image/png": "[encoded data removed]"
          },
          "metadata": {
            "needs_background": "light"
          }
        }
      ],
      "execution_count": 9,
      "metadata": {
        "collapsed": false,
        "outputHidden": false,
        "inputHidden": false
      }
    }
  ],
  "metadata": {
    "kernel_info": {
      "name": "python3"
    },
    "language_info": {
      "name": "python",
      "version": "3.6.7",
      "mimetype": "text/x-python",
      "codemirror_mode": {
        "name": "ipython",
        "version": 3
      },
      "pygments_lexer": "ipython3",
      "nbconvert_exporter": "python",
      "file_extension": ".py"
    },
    "kernelspec": {
      "name": "python3",
      "language": "python",
      "display_name": "Python 3"
    },
    "nteract": {
      "version": "0.12.3"
    }
  },
  "nbformat": 4,
  "nbformat_minor": 4
}