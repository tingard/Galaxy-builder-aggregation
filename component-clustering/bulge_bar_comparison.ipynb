{
  "cells": [
    {
      "cell_type": "code",
      "source": [
        "%load_ext autoreload\n",
        "%autoreload 2"
      ],
      "outputs": [],
      "execution_count": 1,
      "metadata": {
        "collapsed": false,
        "outputHidden": false,
        "inputHidden": false
      }
    },
    {
      "cell_type": "code",
      "source": [
        "import numpy as np\n",
        "import pandas as pd\n",
        "import matplotlib.pyplot as plt\n",
        "from IPython.display import display\n",
        "import os\n",
        "from scipy.stats import ttest_ind\n",
        "import json\n",
        "import lib.galaxy_utilities as gu\n",
        "from astropy.io import fits\n",
        "import requests"
      ],
      "outputs": [],
      "execution_count": 2,
      "metadata": {
        "collapsed": false,
        "outputHidden": false,
        "inputHidden": false
      }
    },
    {
      "cell_type": "code",
      "source": [
        "# %run make_bulge_bar_dataframes.py"
      ],
      "outputs": [],
      "execution_count": 3,
      "metadata": {
        "collapsed": false,
        "outputHidden": false,
        "inputHidden": false
      }
    },
    {
      "cell_type": "code",
      "source": [
        "bulge_df = pd.read_pickle('bulge_fractions.pkl').dropna()\n",
        "bar_df = pd.read_pickle('bar_fractions.pkl').dropna()\n",
        "bar_length_df = pd.read_pickle('bar_lengths.pkl')\n",
        "display(bulge_df.head(3))\n",
        "display(bar_df.head(3))\n",
        "display(bar_length_df.head(3))"
      ],
      "outputs": [
        {
          "output_type": "display_data",
          "data": {
            "text/plain": [
              "            GZB fraction GZ2 bulge dominated\n",
              "subject_id                                  \n",
              "20902000        0.571429                True\n",
              "20902007        0.937500                True\n",
              "20902059        0.705882               False"
            ],
            "text/html": [
              "<div>\n",
              "<style scoped>\n",
              "    .dataframe tbody tr th:only-of-type {\n",
              "        vertical-align: middle;\n",
              "    }\n",
              "\n",
              "    .dataframe tbody tr th {\n",
              "        vertical-align: top;\n",
              "    }\n",
              "\n",
              "    .dataframe thead th {\n",
              "        text-align: right;\n",
              "    }\n",
              "</style>\n",
              "<table border=\"1\" class=\"dataframe\">\n",
              "  <thead>\n",
              "    <tr style=\"text-align: right;\">\n",
              "      <th></th>\n",
              "      <th>GZB fraction</th>\n",
              "      <th>GZ2 bulge dominated</th>\n",
              "    </tr>\n",
              "    <tr>\n",
              "      <th>subject_id</th>\n",
              "      <th></th>\n",
              "      <th></th>\n",
              "    </tr>\n",
              "  </thead>\n",
              "  <tbody>\n",
              "    <tr>\n",
              "      <th>20902000</th>\n",
              "      <td>0.571429</td>\n",
              "      <td>True</td>\n",
              "    </tr>\n",
              "    <tr>\n",
              "      <th>20902007</th>\n",
              "      <td>0.937500</td>\n",
              "      <td>True</td>\n",
              "    </tr>\n",
              "    <tr>\n",
              "      <th>20902059</th>\n",
              "      <td>0.705882</td>\n",
              "      <td>False</td>\n",
              "    </tr>\n",
              "  </tbody>\n",
              "</table>\n",
              "</div>"
            ]
          },
          "metadata": {}
        },
        {
          "output_type": "display_data",
          "data": {
            "text/plain": [
              "            GZB fraction  GZ2 bar fraction  Strongly barred  No bar\n",
              "subject_id                                                         \n",
              "20902000        0.428571          0.736751             True   False\n",
              "20902007        0.312500          0.072191            False    True\n",
              "20902059        0.235294          0.212000            False   False"
            ],
            "text/html": [
              "<div>\n",
              "<style scoped>\n",
              "    .dataframe tbody tr th:only-of-type {\n",
              "        vertical-align: middle;\n",
              "    }\n",
              "\n",
              "    .dataframe tbody tr th {\n",
              "        vertical-align: top;\n",
              "    }\n",
              "\n",
              "    .dataframe thead th {\n",
              "        text-align: right;\n",
              "    }\n",
              "</style>\n",
              "<table border=\"1\" class=\"dataframe\">\n",
              "  <thead>\n",
              "    <tr style=\"text-align: right;\">\n",
              "      <th></th>\n",
              "      <th>GZB fraction</th>\n",
              "      <th>GZ2 bar fraction</th>\n",
              "      <th>Strongly barred</th>\n",
              "      <th>No bar</th>\n",
              "    </tr>\n",
              "    <tr>\n",
              "      <th>subject_id</th>\n",
              "      <th></th>\n",
              "      <th></th>\n",
              "      <th></th>\n",
              "      <th></th>\n",
              "    </tr>\n",
              "  </thead>\n",
              "  <tbody>\n",
              "    <tr>\n",
              "      <th>20902000</th>\n",
              "      <td>0.428571</td>\n",
              "      <td>0.736751</td>\n",
              "      <td>True</td>\n",
              "      <td>False</td>\n",
              "    </tr>\n",
              "    <tr>\n",
              "      <th>20902007</th>\n",
              "      <td>0.312500</td>\n",
              "      <td>0.072191</td>\n",
              "      <td>False</td>\n",
              "      <td>True</td>\n",
              "    </tr>\n",
              "    <tr>\n",
              "      <th>20902059</th>\n",
              "      <td>0.235294</td>\n",
              "      <td>0.212000</td>\n",
              "      <td>False</td>\n",
              "      <td>False</td>\n",
              "    </tr>\n",
              "  </tbody>\n",
              "</table>\n",
              "</div>"
            ]
          },
          "metadata": {}
        },
        {
          "output_type": "display_data",
          "data": {
            "text/plain": [
              "            GZB bar length  GZ2 bar fraction  GZB fraction\n",
              "subject_id                                                \n",
              "20902000               NaN          0.736751      0.428571\n",
              "20902007               NaN          0.072191      0.312500\n",
              "20902059             75.75          0.212000      0.235294"
            ],
            "text/html": [
              "<div>\n",
              "<style scoped>\n",
              "    .dataframe tbody tr th:only-of-type {\n",
              "        vertical-align: middle;\n",
              "    }\n",
              "\n",
              "    .dataframe tbody tr th {\n",
              "        vertical-align: top;\n",
              "    }\n",
              "\n",
              "    .dataframe thead th {\n",
              "        text-align: right;\n",
              "    }\n",
              "</style>\n",
              "<table border=\"1\" class=\"dataframe\">\n",
              "  <thead>\n",
              "    <tr style=\"text-align: right;\">\n",
              "      <th></th>\n",
              "      <th>GZB bar length</th>\n",
              "      <th>GZ2 bar fraction</th>\n",
              "      <th>GZB fraction</th>\n",
              "    </tr>\n",
              "    <tr>\n",
              "      <th>subject_id</th>\n",
              "      <th></th>\n",
              "      <th></th>\n",
              "      <th></th>\n",
              "    </tr>\n",
              "  </thead>\n",
              "  <tbody>\n",
              "    <tr>\n",
              "      <th>20902000</th>\n",
              "      <td>NaN</td>\n",
              "      <td>0.736751</td>\n",
              "      <td>0.428571</td>\n",
              "    </tr>\n",
              "    <tr>\n",
              "      <th>20902007</th>\n",
              "      <td>NaN</td>\n",
              "      <td>0.072191</td>\n",
              "      <td>0.312500</td>\n",
              "    </tr>\n",
              "    <tr>\n",
              "      <th>20902059</th>\n",
              "      <td>75.75</td>\n",
              "      <td>0.212000</td>\n",
              "      <td>0.235294</td>\n",
              "    </tr>\n",
              "  </tbody>\n",
              "</table>\n",
              "</div>"
            ]
          },
          "metadata": {}
        }
      ],
      "execution_count": 4,
      "metadata": {
        "collapsed": false,
        "outputHidden": false,
        "inputHidden": false
      }
    },
    {
      "cell_type": "code",
      "source": [
        "len(bulge_df), len(bar_df), len(bar_length_df)"
      ],
      "outputs": [
        {
          "output_type": "execute_result",
          "execution_count": 5,
          "data": {
            "text/plain": [
              "(170, 170, 171)"
            ]
          },
          "metadata": {}
        }
      ],
      "execution_count": 5,
      "metadata": {
        "collapsed": false,
        "outputHidden": false,
        "inputHidden": false
      }
    },
    {
      "cell_type": "markdown",
      "source": [
        "## How frequently do people draw bulges relative to GZ2 pBulge?"
      ],
      "metadata": {
        "collapsed": false,
        "outputHidden": false,
        "inputHidden": false
      }
    },
    {
      "cell_type": "code",
      "source": [
        "gzb_bulge_mean = bulge_df['GZB fraction'].mean()\n",
        "gzb_bulge_std = bulge_df['GZB fraction'].std()\n",
        "print('\\nGZB bulge fraction = {:.4f} ± {:.5f}\\n'.format(\n",
        "    gzb_bulge_mean, gzb_bulge_std\n",
        "))\n",
        "bulge_groups = bulge_df.groupby('GZ2 bulge dominated')\n",
        "display(pd.DataFrame(\n",
        "    np.hstack((bulge_groups.mean(), bulge_groups.std())),\n",
        "    columns=('mean', 'std'),\n",
        "    index=bulge_groups.mean().index\n",
        "))\n",
        "\n",
        "ttest_result = ttest_ind(\n",
        "    bulge_df[bulge_df['GZ2 bulge dominated']]['GZB fraction'].values,\n",
        "    bulge_df[~bulge_df['GZ2 bulge dominated']]['GZB fraction'].values\n",
        ")\n",
        "print('Probability samples are the same: {:%}'.format(ttest_result.pvalue))"
      ],
      "outputs": [
        {
          "output_type": "stream",
          "name": "stdout",
          "text": [
            "\n",
            "GZB bulge fraction = 0.7480 ± 0.09403\n",
            "\n"
          ]
        },
        {
          "output_type": "display_data",
          "data": {
            "text/plain": [
              "                         mean       std\n",
              "GZ2 bulge dominated                    \n",
              "False                0.735828  0.087282\n",
              "True                 0.753767  0.096917"
            ],
            "text/html": [
              "<div>\n",
              "<style scoped>\n",
              "    .dataframe tbody tr th:only-of-type {\n",
              "        vertical-align: middle;\n",
              "    }\n",
              "\n",
              "    .dataframe tbody tr th {\n",
              "        vertical-align: top;\n",
              "    }\n",
              "\n",
              "    .dataframe thead th {\n",
              "        text-align: right;\n",
              "    }\n",
              "</style>\n",
              "<table border=\"1\" class=\"dataframe\">\n",
              "  <thead>\n",
              "    <tr style=\"text-align: right;\">\n",
              "      <th></th>\n",
              "      <th>mean</th>\n",
              "      <th>std</th>\n",
              "    </tr>\n",
              "    <tr>\n",
              "      <th>GZ2 bulge dominated</th>\n",
              "      <th></th>\n",
              "      <th></th>\n",
              "    </tr>\n",
              "  </thead>\n",
              "  <tbody>\n",
              "    <tr>\n",
              "      <th>False</th>\n",
              "      <td>0.735828</td>\n",
              "      <td>0.087282</td>\n",
              "    </tr>\n",
              "    <tr>\n",
              "      <th>True</th>\n",
              "      <td>0.753767</td>\n",
              "      <td>0.096917</td>\n",
              "    </tr>\n",
              "  </tbody>\n",
              "</table>\n",
              "</div>"
            ]
          },
          "metadata": {}
        },
        {
          "output_type": "stream",
          "name": "stdout",
          "text": [
            "Probability samples are the same: 24.569421%\n"
          ]
        }
      ],
      "execution_count": 6,
      "metadata": {
        "collapsed": false,
        "outputHidden": false,
        "inputHidden": false
      }
    },
    {
      "cell_type": "markdown",
      "source": [
        "## How frequently do people draw bars relative to GZ2 pBar?"
      ],
      "metadata": {
        "collapsed": false,
        "outputHidden": false,
        "inputHidden": false
      }
    },
    {
      "cell_type": "code",
      "source": [
        "bar_df['type'] = pd.cut(bar_df['GZ2 bar fraction'], (-1, 0.2, 0.5, 2), labels=('No bar', 'Weak bar', 'Strong bar'))\n",
        "bar_df.groupby('type')['GZB fraction'].describe()"
      ],
      "outputs": [
        {
          "output_type": "execute_result",
          "execution_count": 7,
          "data": {
            "text/plain": [
              "            count      mean       std       min       25%       50%       75%  \\\n",
              "type                                                                            \n",
              "No bar       76.0  0.279610  0.119497  0.000000  0.198387  0.272222  0.352941   \n",
              "Weak bar     56.0  0.374978  0.127934  0.086957  0.294118  0.351471  0.487903   \n",
              "Strong bar   38.0  0.465824  0.185284  0.062500  0.301087  0.470175  0.611538   \n",
              "\n",
              "                 max  \n",
              "type                  \n",
              "No bar      0.705882  \n",
              "Weak bar    0.588235  \n",
              "Strong bar  0.823529  "
            ],
            "text/html": [
              "<div>\n",
              "<style scoped>\n",
              "    .dataframe tbody tr th:only-of-type {\n",
              "        vertical-align: middle;\n",
              "    }\n",
              "\n",
              "    .dataframe tbody tr th {\n",
              "        vertical-align: top;\n",
              "    }\n",
              "\n",
              "    .dataframe thead th {\n",
              "        text-align: right;\n",
              "    }\n",
              "</style>\n",
              "<table border=\"1\" class=\"dataframe\">\n",
              "  <thead>\n",
              "    <tr style=\"text-align: right;\">\n",
              "      <th></th>\n",
              "      <th>count</th>\n",
              "      <th>mean</th>\n",
              "      <th>std</th>\n",
              "      <th>min</th>\n",
              "      <th>25%</th>\n",
              "      <th>50%</th>\n",
              "      <th>75%</th>\n",
              "      <th>max</th>\n",
              "    </tr>\n",
              "    <tr>\n",
              "      <th>type</th>\n",
              "      <th></th>\n",
              "      <th></th>\n",
              "      <th></th>\n",
              "      <th></th>\n",
              "      <th></th>\n",
              "      <th></th>\n",
              "      <th></th>\n",
              "      <th></th>\n",
              "    </tr>\n",
              "  </thead>\n",
              "  <tbody>\n",
              "    <tr>\n",
              "      <th>No bar</th>\n",
              "      <td>76.0</td>\n",
              "      <td>0.279610</td>\n",
              "      <td>0.119497</td>\n",
              "      <td>0.000000</td>\n",
              "      <td>0.198387</td>\n",
              "      <td>0.272222</td>\n",
              "      <td>0.352941</td>\n",
              "      <td>0.705882</td>\n",
              "    </tr>\n",
              "    <tr>\n",
              "      <th>Weak bar</th>\n",
              "      <td>56.0</td>\n",
              "      <td>0.374978</td>\n",
              "      <td>0.127934</td>\n",
              "      <td>0.086957</td>\n",
              "      <td>0.294118</td>\n",
              "      <td>0.351471</td>\n",
              "      <td>0.487903</td>\n",
              "      <td>0.588235</td>\n",
              "    </tr>\n",
              "    <tr>\n",
              "      <th>Strong bar</th>\n",
              "      <td>38.0</td>\n",
              "      <td>0.465824</td>\n",
              "      <td>0.185284</td>\n",
              "      <td>0.062500</td>\n",
              "      <td>0.301087</td>\n",
              "      <td>0.470175</td>\n",
              "      <td>0.611538</td>\n",
              "      <td>0.823529</td>\n",
              "    </tr>\n",
              "  </tbody>\n",
              "</table>\n",
              "</div>"
            ]
          },
          "metadata": {}
        }
      ],
      "execution_count": 7,
      "metadata": {
        "collapsed": false,
        "outputHidden": false,
        "inputHidden": false
      }
    },
    {
      "cell_type": "code",
      "source": [
        "print('GZB bar fraction = {:.4f} ± {:.5f}\\n'.format(\n",
        "    bar_df['GZB fraction'].mean(),\n",
        "    bar_df['GZB fraction'].std()\n",
        "))\n",
        "\n",
        "print('P(model has bar | Strongly barred) = {:.4f} ± {:.4f}%'.format(\n",
        "    bar_df.groupby('Strongly barred')['GZB fraction'].mean().loc[True],\n",
        "    bar_df.groupby('Strongly barred')['GZB fraction'].std().loc[True],\n",
        "))\n",
        "\n",
        "print('P(model has bar | No bar)          = {:.4f} ± {:.4f}%'.format(\n",
        "    bar_df.groupby('No bar')['GZB fraction'].mean().loc[True],\n",
        "    bar_df.groupby('No bar')['GZB fraction'].std().loc[True],\n",
        "))\n",
        "\n",
        "ttest_result = ttest_ind(\n",
        "    bar_df[bar_df['Strongly barred']]['GZB fraction'].values,\n",
        "    bar_df[bar_df['No bar']]['GZB fraction'].values\n",
        ")\n",
        "print('\\nProbability samples are the same: {:%}'.format(ttest_result.pvalue))"
      ],
      "outputs": [
        {
          "output_type": "stream",
          "name": "stdout",
          "text": [
            "GZB bar fraction = 0.3526 ± 0.15692\n",
            "\n",
            "P(model has bar | Strongly barred) = 0.4658 ± 0.1853%\n",
            "P(model has bar | No bar)          = 0.2796 ± 0.1195%\n",
            "\n",
            "Probability samples are the same: 0.000000%\n"
          ]
        }
      ],
      "execution_count": 8,
      "metadata": {
        "collapsed": false,
        "outputHidden": false,
        "inputHidden": false
      }
    },
    {
      "cell_type": "markdown",
      "source": [
        "## How does pbar stack up against aggregate bar length?"
      ],
      "metadata": {
        "collapsed": false,
        "outputHidden": false,
        "inputHidden": false
      }
    },
    {
      "cell_type": "code",
      "source": [
        "# bar_length_df.plot.scatter(x='GZ2 bar fraction', y='GZB bar length')\n",
        "print('Spearman correlation:')\n",
        "display(bar_length_df.corr('spearman'))\n",
        "pd.plotting.scatter_matrix(bar_length_df);"
      ],
      "outputs": [
        {
          "output_type": "stream",
          "name": "stdout",
          "text": [
            "Spearman correlation:\n"
          ]
        },
        {
          "output_type": "display_data",
          "data": {
            "text/plain": [
              "                  GZB bar length  GZ2 bar fraction  GZB fraction\n",
              "GZB bar length          1.000000          0.341346      0.073900\n",
              "GZ2 bar fraction        0.341346          1.000000      0.485514\n",
              "GZB fraction            0.073900          0.485514      1.000000"
            ],
            "text/html": [
              "<div>\n",
              "<style scoped>\n",
              "    .dataframe tbody tr th:only-of-type {\n",
              "        vertical-align: middle;\n",
              "    }\n",
              "\n",
              "    .dataframe tbody tr th {\n",
              "        vertical-align: top;\n",
              "    }\n",
              "\n",
              "    .dataframe thead th {\n",
              "        text-align: right;\n",
              "    }\n",
              "</style>\n",
              "<table border=\"1\" class=\"dataframe\">\n",
              "  <thead>\n",
              "    <tr style=\"text-align: right;\">\n",
              "      <th></th>\n",
              "      <th>GZB bar length</th>\n",
              "      <th>GZ2 bar fraction</th>\n",
              "      <th>GZB fraction</th>\n",
              "    </tr>\n",
              "  </thead>\n",
              "  <tbody>\n",
              "    <tr>\n",
              "      <th>GZB bar length</th>\n",
              "      <td>1.000000</td>\n",
              "      <td>0.341346</td>\n",
              "      <td>0.073900</td>\n",
              "    </tr>\n",
              "    <tr>\n",
              "      <th>GZ2 bar fraction</th>\n",
              "      <td>0.341346</td>\n",
              "      <td>1.000000</td>\n",
              "      <td>0.485514</td>\n",
              "    </tr>\n",
              "    <tr>\n",
              "      <th>GZB fraction</th>\n",
              "      <td>0.073900</td>\n",
              "      <td>0.485514</td>\n",
              "      <td>1.000000</td>\n",
              "    </tr>\n",
              "  </tbody>\n",
              "</table>\n",
              "</div>"
            ]
          },
          "metadata": {}
        },
        {
          "output_type": "display_data",
          "data": {
            "text/plain": [
              "<Figure size 432x288 with 9 Axes>"
            ],
            "image/png": "[encoded data removed]"
          },
          "metadata": {
            "needs_background": "light"
          }
        }
      ],
      "execution_count": 9,
      "metadata": {
        "collapsed": false,
        "outputHidden": false,
        "inputHidden": false
      }
    },
    {
      "cell_type": "code",
      "source": [
        "bar_length_df[bar_length_df['GZB bar length'] > 150]"
      ],
      "outputs": [
        {
          "output_type": "execute_result",
          "execution_count": 10,
          "data": {
            "text/plain": [
              "            GZB bar length  GZ2 bar fraction  GZB fraction\n",
              "subject_id                                                \n",
              "20902079        173.969952          0.308534      0.301587\n",
              "20902080        153.494141          0.076164      0.288889\n",
              "21096787        160.200000          0.226558      0.545455"
            ],
            "text/html": [
              "<div>\n",
              "<style scoped>\n",
              "    .dataframe tbody tr th:only-of-type {\n",
              "        vertical-align: middle;\n",
              "    }\n",
              "\n",
              "    .dataframe tbody tr th {\n",
              "        vertical-align: top;\n",
              "    }\n",
              "\n",
              "    .dataframe thead th {\n",
              "        text-align: right;\n",
              "    }\n",
              "</style>\n",
              "<table border=\"1\" class=\"dataframe\">\n",
              "  <thead>\n",
              "    <tr style=\"text-align: right;\">\n",
              "      <th></th>\n",
              "      <th>GZB bar length</th>\n",
              "      <th>GZ2 bar fraction</th>\n",
              "      <th>GZB fraction</th>\n",
              "    </tr>\n",
              "    <tr>\n",
              "      <th>subject_id</th>\n",
              "      <th></th>\n",
              "      <th></th>\n",
              "      <th></th>\n",
              "    </tr>\n",
              "  </thead>\n",
              "  <tbody>\n",
              "    <tr>\n",
              "      <th>20902079</th>\n",
              "      <td>173.969952</td>\n",
              "      <td>0.308534</td>\n",
              "      <td>0.301587</td>\n",
              "    </tr>\n",
              "    <tr>\n",
              "      <th>20902080</th>\n",
              "      <td>153.494141</td>\n",
              "      <td>0.076164</td>\n",
              "      <td>0.288889</td>\n",
              "    </tr>\n",
              "    <tr>\n",
              "      <th>21096787</th>\n",
              "      <td>160.200000</td>\n",
              "      <td>0.226558</td>\n",
              "      <td>0.545455</td>\n",
              "    </tr>\n",
              "  </tbody>\n",
              "</table>\n",
              "</div>"
            ]
          },
          "metadata": {}
        }
      ],
      "execution_count": 10,
      "metadata": {
        "collapsed": false,
        "outputHidden": false,
        "inputHidden": false
      }
    },
    {
      "cell_type": "code",
      "source": [
        "sandor_bars = pd.read_csv('Kruk2018_Table2_Table3.csv')\n",
        "sandor_bars.info()"
      ],
      "outputs": [
        {
          "output_type": "stream",
          "name": "stdout",
          "text": [
            "<class 'pandas.core.frame.DataFrame'>\n",
            "RangeIndex: 3461 entries, 0 to 3460\n",
            "Data columns (total 57 columns):\n",
            "SDSS_dr8objid     3461 non-null int64\n",
            "ra                3461 non-null float64\n",
            "dec               3461 non-null float64\n",
            "Fit_components    3461 non-null object\n",
            "u_disc            3461 non-null float64\n",
            "g_disc            3461 non-null float64\n",
            "r_disc            3461 non-null float64\n",
            "i_disc            3461 non-null float64\n",
            "z_disc            3461 non-null float64\n",
            "n_disc            3461 non-null float64\n",
            "re_disc           3461 non-null float64\n",
            "ba_disc           3461 non-null float64\n",
            "u_bar             3461 non-null float64\n",
            "g_bar             3461 non-null float64\n",
            "r_bar             3461 non-null float64\n",
            "i_bar             3461 non-null float64\n",
            "z_bar             3461 non-null float64\n",
            "n_bar             3461 non-null float64\n",
            "re_bar            3461 non-null float64\n",
            "ba_bar            3461 non-null float64\n",
            "u_bulge           3461 non-null float64\n",
            "g_bulge           3461 non-null float64\n",
            "r_bulge           3461 non-null float64\n",
            "i_bulge           3461 non-null float64\n",
            "z_bulge           3461 non-null float64\n",
            "n_bulge           3461 non-null float64\n",
            "re_bulge          3461 non-null float64\n",
            "ba_bulge          3461 non-null float64\n",
            "redshift          3461 non-null float64\n",
            "PETROMAG_MR       3461 non-null float64\n",
            "MASS_AVG          3461 non-null float64\n",
            "p_bar             3461 non-null float64\n",
            "DT_u              3461 non-null float64\n",
            "DT_g              3461 non-null float64\n",
            "DT_r              3461 non-null float64\n",
            "DT_i              3461 non-null float64\n",
            "DT_z              3461 non-null float64\n",
            "BarT_u            3461 non-null float64\n",
            "BarT_g            3461 non-null float64\n",
            "BarT_r            3461 non-null float64\n",
            "BarT_i            3461 non-null float64\n",
            "BarT_z            3461 non-null float64\n",
            "BT_u              3461 non-null float64\n",
            "BT_g              3461 non-null float64\n",
            "BT_r              3461 non-null float64\n",
            "BT_i              3461 non-null float64\n",
            "BT_z              3461 non-null float64\n",
            "(u-r)_disc        3461 non-null float64\n",
            "(u-r)_bar         3461 non-null float64\n",
            "(u-r)_bulge       3461 non-null float64\n",
            "(g-i)_disc        3461 non-null float64\n",
            "(g-i)_bar         3461 non-null float64\n",
            "(g-i)_bulge       3461 non-null float64\n",
            "(r-z)_disc        3461 non-null float64\n",
            "(r-z)_bar         3461 non-null float64\n",
            "(r-z)_bulge       3461 non-null float64\n",
            "chi2              3461 non-null float64\n",
            "dtypes: float64(55), int64(1), object(1)\n",
            "memory usage: 1.5+ MB\n"
          ]
        }
      ],
      "execution_count": 57,
      "metadata": {
        "collapsed": false,
        "outputHidden": false,
        "inputHidden": false
      }
    },
    {
      "cell_type": "code",
      "source": [
        "skyserver_url = '/'.join((\n",
        "    'http://skyserver.sdss.org',\n",
        "    'dr13', 'en','tools', 'search',\n",
        "    'x_results.aspx'\n",
        "))\n",
        "\n",
        "def get_dr8_id(dr7id_list):\n",
        "    dr7id_list = json.dumps(dr7id_list).replace('[', '(').replace(']', ')')\n",
        "    cmd = 'SELECT {} FROM {} WHERE dr7objid IN {}'.format(\n",
        "        'dr7objid, dr8objid',\n",
        "        'PhotoObjDR7',\n",
        "        dr7id_list\n",
        "    )\n",
        "    payload = {\n",
        "        'searchtool': 'SQL',\n",
        "        'TaskName': 'Skyserver.Search.SQL',\n",
        "        'syntax': 'NoSyntax',\n",
        "        'cmd': cmd,\n",
        "        'format': 'json',\n",
        "        'TableName': '',\n",
        "    }\n",
        "    r = requests.get(\n",
        "        skyserver_url,\n",
        "        params=payload,\n",
        "    )\n",
        "    try:\n",
        "        return r.json()[0]['Rows']\n",
        "    except json.JSONDecodeError:\n",
        "        print('Could not parse JSON')\n",
        "        return []"
      ],
      "outputs": [],
      "execution_count": 12,
      "metadata": {
        "collapsed": false,
        "outputHidden": false,
        "inputHidden": false
      }
    },
    {
      "cell_type": "code",
      "source": [
        "dr7objids = pd.DataFrame(\n",
        "    list(zip(\n",
        "        map(\n",
        "            np.int64,\n",
        "            (gu.meta_map[subject_id]['SDSS dr7 id']\n",
        "             for subject_id in bar_length_df.index.values)\n",
        "        ),\n",
        "        bar_length_df.index.values\n",
        "    )),\n",
        "    columns=('dr7objid', 'subject_id')\n",
        ")\n",
        "dr7objids.head(3)"
      ],
      "outputs": [
        {
          "output_type": "execute_result",
          "execution_count": 13,
          "data": {
            "text/plain": [
              "             dr7objid  subject_id\n",
              "0  587741600952615088    20902000\n",
              "1  587742573223542941    20902007\n",
              "2  587741600410632336    20902059"
            ],
            "text/html": [
              "<div>\n",
              "<style scoped>\n",
              "    .dataframe tbody tr th:only-of-type {\n",
              "        vertical-align: middle;\n",
              "    }\n",
              "\n",
              "    .dataframe tbody tr th {\n",
              "        vertical-align: top;\n",
              "    }\n",
              "\n",
              "    .dataframe thead th {\n",
              "        text-align: right;\n",
              "    }\n",
              "</style>\n",
              "<table border=\"1\" class=\"dataframe\">\n",
              "  <thead>\n",
              "    <tr style=\"text-align: right;\">\n",
              "      <th></th>\n",
              "      <th>dr7objid</th>\n",
              "      <th>subject_id</th>\n",
              "    </tr>\n",
              "  </thead>\n",
              "  <tbody>\n",
              "    <tr>\n",
              "      <th>0</th>\n",
              "      <td>587741600952615088</td>\n",
              "      <td>20902000</td>\n",
              "    </tr>\n",
              "    <tr>\n",
              "      <th>1</th>\n",
              "      <td>587742573223542941</td>\n",
              "      <td>20902007</td>\n",
              "    </tr>\n",
              "    <tr>\n",
              "      <th>2</th>\n",
              "      <td>587741600410632336</td>\n",
              "      <td>20902059</td>\n",
              "    </tr>\n",
              "  </tbody>\n",
              "</table>\n",
              "</div>"
            ]
          },
          "metadata": {}
        }
      ],
      "execution_count": 13,
      "metadata": {
        "collapsed": false,
        "outputHidden": false,
        "inputHidden": false
      }
    },
    {
      "cell_type": "code",
      "source": [
        "objid_table = pd.DataFrame(get_dr8_id(dr7objids['dr7objid'].values.tolist()))"
      ],
      "outputs": [],
      "execution_count": 14,
      "metadata": {
        "collapsed": false,
        "outputHidden": false,
        "inputHidden": false
      }
    },
    {
      "cell_type": "code",
      "source": [
        "out = []\n",
        "for i in range(len(dr7objids)):\n",
        "    subject_id = dr7objids['subject_id'].iloc[i]\n",
        "    dr7id = dr7objids['dr7objid'].iloc[i]\n",
        "    poss_dr8ids = objid_table['dr8objid'][objid_table['dr7objid'] == dr7id]\n",
        "    for dr8id in poss_dr8ids:\n",
        "        out.append((subject_id, dr8id))\n",
        "dr8objids = pd.DataFrame(out, columns=('subject_id', 'dr8objid'))\n",
        "dr8objids.head()"
      ],
      "outputs": [
        {
          "output_type": "execute_result",
          "execution_count": 15,
          "data": {
            "text/plain": [
              "   subject_id             dr8objid\n",
              "0    20902000  1237667322177519773\n",
              "1    20902007  1237668294448447638\n",
              "2    20902059  1237667321635537067\n",
              "3    20902062  1237662640660021320\n",
              "4    20902073  1237668603144569057"
            ],
            "text/html": [
              "<div>\n",
              "<style scoped>\n",
              "    .dataframe tbody tr th:only-of-type {\n",
              "        vertical-align: middle;\n",
              "    }\n",
              "\n",
              "    .dataframe tbody tr th {\n",
              "        vertical-align: top;\n",
              "    }\n",
              "\n",
              "    .dataframe thead th {\n",
              "        text-align: right;\n",
              "    }\n",
              "</style>\n",
              "<table border=\"1\" class=\"dataframe\">\n",
              "  <thead>\n",
              "    <tr style=\"text-align: right;\">\n",
              "      <th></th>\n",
              "      <th>subject_id</th>\n",
              "      <th>dr8objid</th>\n",
              "    </tr>\n",
              "  </thead>\n",
              "  <tbody>\n",
              "    <tr>\n",
              "      <th>0</th>\n",
              "      <td>20902000</td>\n",
              "      <td>1237667322177519773</td>\n",
              "    </tr>\n",
              "    <tr>\n",
              "      <th>1</th>\n",
              "      <td>20902007</td>\n",
              "      <td>1237668294448447638</td>\n",
              "    </tr>\n",
              "    <tr>\n",
              "      <th>2</th>\n",
              "      <td>20902059</td>\n",
              "      <td>1237667321635537067</td>\n",
              "    </tr>\n",
              "    <tr>\n",
              "      <th>3</th>\n",
              "      <td>20902062</td>\n",
              "      <td>1237662640660021320</td>\n",
              "    </tr>\n",
              "    <tr>\n",
              "      <th>4</th>\n",
              "      <td>20902073</td>\n",
              "      <td>1237668603144569057</td>\n",
              "    </tr>\n",
              "  </tbody>\n",
              "</table>\n",
              "</div>"
            ]
          },
          "metadata": {}
        }
      ],
      "execution_count": 15,
      "metadata": {
        "collapsed": false,
        "outputHidden": false,
        "inputHidden": false
      }
    },
    {
      "cell_type": "markdown",
      "source": [
        "Now to link Sandor's table to a GZB subject id!"
      ],
      "metadata": {
        "collapsed": false,
        "outputHidden": false,
        "inputHidden": false
      }
    },
    {
      "cell_type": "code",
      "source": [
        "out = [[0, 0]]\n",
        "for i, gal in sandor_bars.iterrows():\n",
        "    m = dr8objids['dr8objid'] == gal['SDSS_dr8objid']\n",
        "    if np.any(m):\n",
        "        sids = dr8objids[m]['subject_id'].values\n",
        "        new = np.stack(\n",
        "            (sids, np.tile(gal['SDSS_dr8objid'], len(sids))),\n",
        "            axis=1,\n",
        "        )\n",
        "        out = np.concatenate((\n",
        "            out,\n",
        "            new\n",
        "        ))\n",
        "out = out[1:]"
      ],
      "outputs": [],
      "execution_count": 16,
      "metadata": {
        "collapsed": false,
        "outputHidden": false,
        "inputHidden": false
      }
    },
    {
      "cell_type": "markdown",
      "source": [
        "And now link these subject ids to Sandor's classification!"
      ],
      "metadata": {
        "collapsed": false,
        "outputHidden": false,
        "inputHidden": false
      }
    },
    {
      "cell_type": "code",
      "source": [
        "gzb_sandor = pd.DataFrame({\n",
        "    'subject_id': out[:, 0],\n",
        "    'sandor_bar_length': sandor_bars.set_index(\n",
        "        'SDSS_dr8objid'\n",
        "    ).loc[out[:, 1]]['re_bar'].values,\n",
        "    'gzb_bar_length': bar_length_df.loc[out[:, 0]]['GZB bar length']\n",
        "}).set_index('subject_id')"
      ],
      "outputs": [
        {
          "output_type": "execute_result",
          "execution_count": 72,
          "data": {
            "text/plain": [
              "            sandor_bar_length  gzb_bar_length\n",
              "subject_id                                   \n",
              "20902064                13.68      110.358061\n",
              "21686593                13.68      128.819024\n",
              "21686549                11.09       75.166667"
            ],
            "text/html": [
              "<div>\n",
              "<style scoped>\n",
              "    .dataframe tbody tr th:only-of-type {\n",
              "        vertical-align: middle;\n",
              "    }\n",
              "\n",
              "    .dataframe tbody tr th {\n",
              "        vertical-align: top;\n",
              "    }\n",
              "\n",
              "    .dataframe thead th {\n",
              "        text-align: right;\n",
              "    }\n",
              "</style>\n",
              "<table border=\"1\" class=\"dataframe\">\n",
              "  <thead>\n",
              "    <tr style=\"text-align: right;\">\n",
              "      <th></th>\n",
              "      <th>sandor_bar_length</th>\n",
              "      <th>gzb_bar_length</th>\n",
              "    </tr>\n",
              "    <tr>\n",
              "      <th>subject_id</th>\n",
              "      <th></th>\n",
              "      <th></th>\n",
              "    </tr>\n",
              "  </thead>\n",
              "  <tbody>\n",
              "    <tr>\n",
              "      <th>20902064</th>\n",
              "      <td>13.68</td>\n",
              "      <td>110.358061</td>\n",
              "    </tr>\n",
              "    <tr>\n",
              "      <th>21686593</th>\n",
              "      <td>13.68</td>\n",
              "      <td>128.819024</td>\n",
              "    </tr>\n",
              "    <tr>\n",
              "      <th>21686549</th>\n",
              "      <td>11.09</td>\n",
              "      <td>75.166667</td>\n",
              "    </tr>\n",
              "  </tbody>\n",
              "</table>\n",
              "</div>"
            ]
          },
          "metadata": {}
        }
      ],
      "execution_count": 72,
      "metadata": {
        "collapsed": false,
        "outputHidden": false,
        "inputHidden": false
      }
    },
    {
      "cell_type": "code",
      "source": [
        "display(gzb_sandor.corr('pearson'))\n",
        "pd.plotting.scatter_matrix(gzb_sandor);"
      ],
      "outputs": [
        {
          "output_type": "display_data",
          "data": {
            "text/plain": [
              "                   sandor_bar_length  gzb_bar_length\n",
              "sandor_bar_length           1.000000        0.867288\n",
              "gzb_bar_length              0.867288        1.000000"
            ],
            "text/html": [
              "<div>\n",
              "<style scoped>\n",
              "    .dataframe tbody tr th:only-of-type {\n",
              "        vertical-align: middle;\n",
              "    }\n",
              "\n",
              "    .dataframe tbody tr th {\n",
              "        vertical-align: top;\n",
              "    }\n",
              "\n",
              "    .dataframe thead th {\n",
              "        text-align: right;\n",
              "    }\n",
              "</style>\n",
              "<table border=\"1\" class=\"dataframe\">\n",
              "  <thead>\n",
              "    <tr style=\"text-align: right;\">\n",
              "      <th></th>\n",
              "      <th>sandor_bar_length</th>\n",
              "      <th>gzb_bar_length</th>\n",
              "    </tr>\n",
              "  </thead>\n",
              "  <tbody>\n",
              "    <tr>\n",
              "      <th>sandor_bar_length</th>\n",
              "      <td>1.000000</td>\n",
              "      <td>0.867288</td>\n",
              "    </tr>\n",
              "    <tr>\n",
              "      <th>gzb_bar_length</th>\n",
              "      <td>0.867288</td>\n",
              "      <td>1.000000</td>\n",
              "    </tr>\n",
              "  </tbody>\n",
              "</table>\n",
              "</div>"
            ]
          },
          "metadata": {}
        },
        {
          "output_type": "display_data",
          "data": {
            "text/plain": [
              "<Figure size 432x288 with 4 Axes>"
            ],
            "image/png": "[encoded data removed]"
          },
          "metadata": {
            "needs_background": "light"
          }
        }
      ],
      "execution_count": 77,
      "metadata": {
        "collapsed": false,
        "outputHidden": false,
        "inputHidden": false
      }
    }
  ],
  "metadata": {
    "kernel_info": {
      "name": "python3"
    },
    "language_info": {
      "name": "python",
      "version": "3.6.7",
      "mimetype": "text/x-python",
      "codemirror_mode": {
        "name": "ipython",
        "version": 3
      },
      "pygments_lexer": "ipython3",
      "nbconvert_exporter": "python",
      "file_extension": ".py"
    },
    "kernelspec": {
      "name": "python3",
      "language": "python",
      "display_name": "Python 3"
    },
    "nteract": {
      "version": "0.12.3"
    }
  },
  "nbformat": 4,
  "nbformat_minor": 4
}