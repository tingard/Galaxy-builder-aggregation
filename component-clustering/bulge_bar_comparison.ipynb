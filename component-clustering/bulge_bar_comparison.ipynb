{
  "cells": [
    {
      "cell_type": "code",
      "source": [
        "%load_ext autoreload\n",
        "%autoreload 2"
      ],
      "outputs": [],
      "execution_count": 1,
      "metadata": {
        "collapsed": false,
        "outputHidden": false,
        "inputHidden": false
      }
    },
    {
      "cell_type": "code",
      "source": [
        "import numpy as np\n",
        "import pandas as pd\n",
        "import matplotlib.pyplot as plt\n",
        "from IPython.display import display\n",
        "import os\n",
        "from scipy.stats import ttest_ind\n",
        "import json\n",
        "import lib.galaxy_utilities as gu\n",
        "from astropy.io import fits"
      ],
      "outputs": [],
      "execution_count": 2,
      "metadata": {
        "collapsed": false,
        "outputHidden": false,
        "inputHidden": false
      }
    },
    {
      "cell_type": "code",
      "source": [
        "%run make_bulge_bar_dataframes.py"
      ],
      "outputs": [
        {
          "output_type": "error",
          "ename": "FileNotFoundError",
          "evalue": "[Errno 2] No such file or directory: 'cluster-output/20902000.json'",
          "traceback": [
            "\u001b[0;31m---------------------------------------------------------------------------\u001b[0m",
            "\u001b[0;31mFileNotFoundError\u001b[0m                         Traceback (most recent call last)",
            "\u001b[0;32m~/PhD/galaxy-builder/data-aggregation/component-clustering/make_bulge_bar_dataframes.py\u001b[0m in \u001b[0;36m<module>\u001b[0;34m\u001b[0m\n\u001b[1;32m     61\u001b[0m \u001b[0;34m\u001b[0m\u001b[0m\n\u001b[1;32m     62\u001b[0m     \u001b[0mbar_fraction\u001b[0m \u001b[0;34m=\u001b[0m \u001b[0mget_bar_fraction\u001b[0m\u001b[0;34m(\u001b[0m\u001b[0mgal\u001b[0m\u001b[0;34m[\u001b[0m\u001b[0;36m0\u001b[0m\u001b[0;34m]\u001b[0m\u001b[0;34m)\u001b[0m\u001b[0;34m\u001b[0m\u001b[0;34m\u001b[0m\u001b[0m\n\u001b[0;32m---> 63\u001b[0;31m     \u001b[0;32mwith\u001b[0m \u001b[0mopen\u001b[0m\u001b[0;34m(\u001b[0m\u001b[0;34m'cluster-output/{}.json'\u001b[0m\u001b[0;34m.\u001b[0m\u001b[0mformat\u001b[0m\u001b[0;34m(\u001b[0m\u001b[0msubject_id\u001b[0m\u001b[0;34m)\u001b[0m\u001b[0;34m)\u001b[0m \u001b[0;32mas\u001b[0m \u001b[0mf\u001b[0m\u001b[0;34m:\u001b[0m\u001b[0;34m\u001b[0m\u001b[0;34m\u001b[0m\u001b[0m\n\u001b[0m\u001b[1;32m     64\u001b[0m         \u001b[0mmodel\u001b[0m \u001b[0;34m=\u001b[0m \u001b[0mjson\u001b[0m\u001b[0;34m.\u001b[0m\u001b[0mload\u001b[0m\u001b[0;34m(\u001b[0m\u001b[0mf\u001b[0m\u001b[0;34m)\u001b[0m\u001b[0;34m\u001b[0m\u001b[0;34m\u001b[0m\u001b[0m\n\u001b[1;32m     65\u001b[0m     \u001b[0;32mif\u001b[0m \u001b[0mmodel\u001b[0m\u001b[0;34m[\u001b[0m\u001b[0;34m'bar'\u001b[0m\u001b[0;34m]\u001b[0m \u001b[0;32mis\u001b[0m \u001b[0;32mnot\u001b[0m \u001b[0;32mNone\u001b[0m\u001b[0;34m:\u001b[0m\u001b[0;34m\u001b[0m\u001b[0;34m\u001b[0m\u001b[0m\n",
            "\u001b[0;31mFileNotFoundError\u001b[0m: [Errno 2] No such file or directory: 'cluster-output/20902000.json'"
          ]
        }
      ],
      "execution_count": 3,
      "metadata": {
        "collapsed": false,
        "outputHidden": false,
        "inputHidden": false
      }
    },
    {
      "cell_type": "code",
      "source": [
        "bulge_df = pd.read_pickle('bulge_fractions.pkl')\n",
        "bar_df = pd.read_pickle('bar_fractions.pkl')\n",
        "bar_length_df = pd.read_pickle('bar_lengths.pkl')"
      ],
      "outputs": [],
      "execution_count": 4,
      "metadata": {
        "collapsed": false,
        "outputHidden": false,
        "inputHidden": false
      }
    },
    {
      "cell_type": "markdown",
      "source": [
        "## How frequently do people draw bulges relative to GZ2 pBulge?"
      ],
      "metadata": {
        "collapsed": false,
        "outputHidden": false,
        "inputHidden": false
      }
    },
    {
      "cell_type": "code",
      "source": [
        "gzb_bulge_mean = bulge_df['GZB fraction'].mean()\n",
        "gzb_bulge_std = bulge_df['GZB fraction'].std()\n",
        "print('\\nGZB bulge fraction = {:.4f} ± {:.5f}\\n'.format(\n",
        "    gzb_bulge_mean, gzb_bulge_std\n",
        "))\n",
        "bulge_groups = bulge_df.groupby('GZ2 bulge dominated')\n",
        "display(pd.DataFrame(\n",
        "    np.hstack((bulge_groups.mean(), bulge_groups.std())),\n",
        "    columns=('mean', 'std'),\n",
        "    index=bulge_groups.mean().index\n",
        "))\n",
        "\n",
        "ttest_result = ttest_ind(\n",
        "    bulge_df[bulge_df['GZ2 bulge dominated']]['GZB fraction'].values,\n",
        "    bulge_df[~bulge_df['GZ2 bulge dominated']]['GZB fraction'].values\n",
        ")\n",
        "print('Probability samples are the same: {:%}'.format(ttest_result.pvalue))"
      ],
      "outputs": [
        {
          "output_type": "stream",
          "name": "stdout",
          "text": [
            "\n",
            "GZB bulge fraction = 0.7579 ± 0.08141\n",
            "\n"
          ]
        },
        {
          "output_type": "display_data",
          "data": {
            "text/plain": [
              "                         mean       std\n",
              "GZ2 bulge dominated                    \n",
              "False                0.729296  0.078066\n",
              "True                 0.770702  0.080579"
            ],
            "text/html": [
              "<div>\n",
              "<style scoped>\n",
              "    .dataframe tbody tr th:only-of-type {\n",
              "        vertical-align: middle;\n",
              "    }\n",
              "\n",
              "    .dataframe tbody tr th {\n",
              "        vertical-align: top;\n",
              "    }\n",
              "\n",
              "    .dataframe thead th {\n",
              "        text-align: right;\n",
              "    }\n",
              "</style>\n",
              "<table border=\"1\" class=\"dataframe\">\n",
              "  <thead>\n",
              "    <tr style=\"text-align: right;\">\n",
              "      <th></th>\n",
              "      <th>mean</th>\n",
              "      <th>std</th>\n",
              "    </tr>\n",
              "    <tr>\n",
              "      <th>GZ2 bulge dominated</th>\n",
              "      <th></th>\n",
              "      <th></th>\n",
              "    </tr>\n",
              "  </thead>\n",
              "  <tbody>\n",
              "    <tr>\n",
              "      <th>False</th>\n",
              "      <td>0.729296</td>\n",
              "      <td>0.078066</td>\n",
              "    </tr>\n",
              "    <tr>\n",
              "      <th>True</th>\n",
              "      <td>0.770702</td>\n",
              "      <td>0.080579</td>\n",
              "    </tr>\n",
              "  </tbody>\n",
              "</table>\n",
              "</div>"
            ]
          },
          "metadata": {}
        },
        {
          "output_type": "stream",
          "name": "stdout",
          "text": [
            "Probability samples are the same: 8.120599%\n"
          ]
        }
      ],
      "execution_count": 5,
      "metadata": {
        "collapsed": false,
        "outputHidden": false,
        "inputHidden": false
      }
    },
    {
      "cell_type": "markdown",
      "source": [
        "## How frequently do people draw bars relative to GZ2 pBar?"
      ],
      "metadata": {
        "collapsed": false,
        "outputHidden": false,
        "inputHidden": false
      }
    },
    {
      "cell_type": "code",
      "source": [
        "print('GZB bar fraction = {:.4f} ± {:.5f}\\n'.format(\n",
        "    bar_df['GZB fraction'].mean(),\n",
        "    bar_df['GZB fraction'].std()\n",
        "))\n",
        "\n",
        "print('P(model has bar | Strongly barred) = {:.4f} ± {:.4f}%'.format(\n",
        "    bar_df.groupby('Strongly barred')['GZB fraction'].mean().loc[True],\n",
        "    bar_df.groupby('Strongly barred')['GZB fraction'].std().loc[True],\n",
        "))\n",
        "\n",
        "print('P(model has bar | No bar)          = {:.4f} ± {:.4f}%'.format(\n",
        "    bar_df.groupby('No bar')['GZB fraction'].mean().loc[True],\n",
        "    bar_df.groupby('No bar')['GZB fraction'].std().loc[True],\n",
        "))\n",
        "\n",
        "ttest_result = ttest_ind(\n",
        "    bar_df[bar_df['Strongly barred']]['GZB fraction'].values,\n",
        "    bar_df[bar_df['No bar']]['GZB fraction'].values\n",
        ")\n",
        "print('\\nProbability samples are the same: {:%}'.format(ttest_result.pvalue))"
      ],
      "outputs": [
        {
          "output_type": "stream",
          "name": "stdout",
          "text": [
            "GZB bar fraction = 0.4150 ± 0.15172\n",
            "\n",
            "P(model has bar | Strongly barred) = 0.5713 ± 0.1549%\n",
            "P(model has bar | No bar)          = 0.3074 ± 0.0878%\n",
            "\n",
            "Probability samples are the same: 0.000017%\n"
          ]
        }
      ],
      "execution_count": 6,
      "metadata": {
        "collapsed": false,
        "outputHidden": false,
        "inputHidden": false
      }
    },
    {
      "cell_type": "markdown",
      "source": [
        "## How does pbar stack up against aggregate bar length?"
      ],
      "metadata": {
        "collapsed": false,
        "outputHidden": false,
        "inputHidden": false
      }
    },
    {
      "cell_type": "code",
      "source": [
        "# bar_length_df.plot.scatter(x='GZ2 bar fraction', y='GZB bar length')\n",
        "pd.plotting.scatter_matrix(bar_length_df);\n",
        "print('Spearman correlation:')\n",
        "print(bar_length_df.corr('spearman'))"
      ],
      "outputs": [
        {
          "output_type": "stream",
          "name": "stdout",
          "text": [
            "Spearman correlation:\n",
            "                  GZB bar length  GZ2 bar fraction  GZB fraction\n",
            "GZB bar length           1.00000          0.420490      0.315280\n",
            "GZ2 bar fraction         0.42049          1.000000      0.750577\n",
            "GZB fraction             0.31528          0.750577      1.000000\n"
          ]
        },
        {
          "output_type": "display_data",
          "data": {
            "text/plain": [
              "<Figure size 432x288 with 9 Axes>"
            ],
            "image/png": "[encoded data removed]"
          },
          "metadata": {
            "needs_background": "light"
          }
        }
      ],
      "execution_count": 7,
      "metadata": {
        "collapsed": false,
        "outputHidden": false,
        "inputHidden": false
      }
    }
  ],
  "metadata": {
    "kernel_info": {
      "name": "python3"
    },
    "language_info": {
      "name": "python",
      "version": "3.6.7",
      "mimetype": "text/x-python",
      "codemirror_mode": {
        "name": "ipython",
        "version": 3
      },
      "pygments_lexer": "ipython3",
      "nbconvert_exporter": "python",
      "file_extension": ".py"
    },
    "kernelspec": {
      "name": "python3",
      "language": "python",
      "display_name": "Python 3"
    },
    "nteract": {
      "version": "0.12.3"
    }
  },
  "nbformat": 4,
  "nbformat_minor": 4
}