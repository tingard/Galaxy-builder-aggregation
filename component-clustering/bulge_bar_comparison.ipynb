{
  "cells": [
    {
      "cell_type": "code",
      "source": [
        "%load_ext autoreload\n",
        "%autoreload 2"
      ],
      "outputs": [],
      "execution_count": 1,
      "metadata": {
        "collapsed": false,
        "outputHidden": false,
        "inputHidden": false
      }
    },
    {
      "cell_type": "code",
      "source": [
        "import numpy as np\n",
        "import pandas as pd\n",
        "import matplotlib.pyplot as plt\n",
        "from IPython.display import display\n",
        "import os\n",
        "import scipy.stats as st\n",
        "import json\n",
        "import lib.galaxy_utilities as gu\n",
        "import lib.python_model_renderer.parse_annotation as pa"
      ],
      "outputs": [],
      "execution_count": 2,
      "metadata": {
        "collapsed": false,
        "outputHidden": false,
        "inputHidden": false
      }
    },
    {
      "cell_type": "code",
      "source": [
        "# %run make_bulge_bar_dataframes.py"
      ],
      "outputs": [],
      "execution_count": 3,
      "metadata": {
        "collapsed": false,
        "outputHidden": false,
        "inputHidden": false
      }
    },
    {
      "cell_type": "code",
      "source": [
        "bulge_df = pd.read_pickle('bulge_fractions.pkl').dropna()\n",
        "bar_df = pd.read_pickle('bar_fractions.pkl').dropna()\n",
        "bar_length_df = pd.read_pickle('bar_lengths.pkl')\n",
        "display(bulge_df.head(3))\n",
        "display(bar_df.head(3))\n",
        "display(bar_length_df.dropna().head(3))"
      ],
      "outputs": [
        {
          "output_type": "display_data",
          "data": {
            "text/plain": [
              "            GZB fraction GZ2 bulge dominated  GZ2 no bulge\n",
              "subject_id                                                \n",
              "20902000        0.709677               False      0.068850\n",
              "20902007        0.806452               False      0.062377\n",
              "20902023        0.774194               False      0.000000"
            ],
            "text/html": [
              "<div>\n",
              "<style scoped>\n",
              "    .dataframe tbody tr th:only-of-type {\n",
              "        vertical-align: middle;\n",
              "    }\n",
              "\n",
              "    .dataframe tbody tr th {\n",
              "        vertical-align: top;\n",
              "    }\n",
              "\n",
              "    .dataframe thead th {\n",
              "        text-align: right;\n",
              "    }\n",
              "</style>\n",
              "<table border=\"1\" class=\"dataframe\">\n",
              "  <thead>\n",
              "    <tr style=\"text-align: right;\">\n",
              "      <th></th>\n",
              "      <th>GZB fraction</th>\n",
              "      <th>GZ2 bulge dominated</th>\n",
              "      <th>GZ2 no bulge</th>\n",
              "    </tr>\n",
              "    <tr>\n",
              "      <th>subject_id</th>\n",
              "      <th></th>\n",
              "      <th></th>\n",
              "      <th></th>\n",
              "    </tr>\n",
              "  </thead>\n",
              "  <tbody>\n",
              "    <tr>\n",
              "      <th>20902000</th>\n",
              "      <td>0.709677</td>\n",
              "      <td>False</td>\n",
              "      <td>0.068850</td>\n",
              "    </tr>\n",
              "    <tr>\n",
              "      <th>20902007</th>\n",
              "      <td>0.806452</td>\n",
              "      <td>False</td>\n",
              "      <td>0.062377</td>\n",
              "    </tr>\n",
              "    <tr>\n",
              "      <th>20902023</th>\n",
              "      <td>0.774194</td>\n",
              "      <td>False</td>\n",
              "      <td>0.000000</td>\n",
              "    </tr>\n",
              "  </tbody>\n",
              "</table>\n",
              "</div>"
            ]
          },
          "metadata": {}
        },
        {
          "output_type": "display_data",
          "data": {
            "text/plain": [
              "            GZB fraction  GZ2 bar fraction  Strongly barred  No bar\n",
              "subject_id                                                         \n",
              "20902000        0.354839          0.736751             True   False\n",
              "20902007        0.322581          0.072191            False    True\n",
              "20902023        0.096774          0.022762            False    True"
            ],
            "text/html": [
              "<div>\n",
              "<style scoped>\n",
              "    .dataframe tbody tr th:only-of-type {\n",
              "        vertical-align: middle;\n",
              "    }\n",
              "\n",
              "    .dataframe tbody tr th {\n",
              "        vertical-align: top;\n",
              "    }\n",
              "\n",
              "    .dataframe thead th {\n",
              "        text-align: right;\n",
              "    }\n",
              "</style>\n",
              "<table border=\"1\" class=\"dataframe\">\n",
              "  <thead>\n",
              "    <tr style=\"text-align: right;\">\n",
              "      <th></th>\n",
              "      <th>GZB fraction</th>\n",
              "      <th>GZ2 bar fraction</th>\n",
              "      <th>Strongly barred</th>\n",
              "      <th>No bar</th>\n",
              "    </tr>\n",
              "    <tr>\n",
              "      <th>subject_id</th>\n",
              "      <th></th>\n",
              "      <th></th>\n",
              "      <th></th>\n",
              "      <th></th>\n",
              "    </tr>\n",
              "  </thead>\n",
              "  <tbody>\n",
              "    <tr>\n",
              "      <th>20902000</th>\n",
              "      <td>0.354839</td>\n",
              "      <td>0.736751</td>\n",
              "      <td>True</td>\n",
              "      <td>False</td>\n",
              "    </tr>\n",
              "    <tr>\n",
              "      <th>20902007</th>\n",
              "      <td>0.322581</td>\n",
              "      <td>0.072191</td>\n",
              "      <td>False</td>\n",
              "      <td>True</td>\n",
              "    </tr>\n",
              "    <tr>\n",
              "      <th>20902023</th>\n",
              "      <td>0.096774</td>\n",
              "      <td>0.022762</td>\n",
              "      <td>False</td>\n",
              "      <td>True</td>\n",
              "    </tr>\n",
              "  </tbody>\n",
              "</table>\n",
              "</div>"
            ]
          },
          "metadata": {}
        },
        {
          "output_type": "display_data",
          "data": {
            "text/plain": [
              "            GZB bar length  GZ2 bar fraction  GZB fraction\n",
              "subject_id                                                \n",
              "20902008         16.999998          0.834784      0.516129\n",
              "20902040         18.134869          0.747899      0.531250\n",
              "20902053         20.588576          0.873468      0.709677"
            ],
            "text/html": [
              "<div>\n",
              "<style scoped>\n",
              "    .dataframe tbody tr th:only-of-type {\n",
              "        vertical-align: middle;\n",
              "    }\n",
              "\n",
              "    .dataframe tbody tr th {\n",
              "        vertical-align: top;\n",
              "    }\n",
              "\n",
              "    .dataframe thead th {\n",
              "        text-align: right;\n",
              "    }\n",
              "</style>\n",
              "<table border=\"1\" class=\"dataframe\">\n",
              "  <thead>\n",
              "    <tr style=\"text-align: right;\">\n",
              "      <th></th>\n",
              "      <th>GZB bar length</th>\n",
              "      <th>GZ2 bar fraction</th>\n",
              "      <th>GZB fraction</th>\n",
              "    </tr>\n",
              "    <tr>\n",
              "      <th>subject_id</th>\n",
              "      <th></th>\n",
              "      <th></th>\n",
              "      <th></th>\n",
              "    </tr>\n",
              "  </thead>\n",
              "  <tbody>\n",
              "    <tr>\n",
              "      <th>20902008</th>\n",
              "      <td>16.999998</td>\n",
              "      <td>0.834784</td>\n",
              "      <td>0.516129</td>\n",
              "    </tr>\n",
              "    <tr>\n",
              "      <th>20902040</th>\n",
              "      <td>18.134869</td>\n",
              "      <td>0.747899</td>\n",
              "      <td>0.531250</td>\n",
              "    </tr>\n",
              "    <tr>\n",
              "      <th>20902053</th>\n",
              "      <td>20.588576</td>\n",
              "      <td>0.873468</td>\n",
              "      <td>0.709677</td>\n",
              "    </tr>\n",
              "  </tbody>\n",
              "</table>\n",
              "</div>"
            ]
          },
          "metadata": {}
        }
      ],
      "execution_count": 4,
      "metadata": {
        "collapsed": false,
        "outputHidden": false,
        "inputHidden": false
      }
    },
    {
      "cell_type": "code",
      "source": [
        "len(bulge_df), len(bar_df), len(bar_length_df)"
      ],
      "outputs": [
        {
          "output_type": "execute_result",
          "execution_count": 5,
          "data": {
            "text/plain": [
              "(288, 288, 295)"
            ]
          },
          "metadata": {}
        }
      ],
      "execution_count": 5,
      "metadata": {
        "collapsed": false,
        "outputHidden": false,
        "inputHidden": false
      }
    },
    {
      "cell_type": "markdown",
      "source": [
        "## How frequently do people draw bulges relative to GZ2 pBulge?"
      ],
      "metadata": {
        "collapsed": false,
        "outputHidden": false,
        "inputHidden": false
      }
    },
    {
      "cell_type": "code",
      "source": [
        "gzb_bulge_mean = bulge_df['GZB fraction'].mean()\n",
        "gzb_bulge_std = bulge_df['GZB fraction'].std()\n",
        "print('\\nGZB bulge fraction = {:.4f} ± {:.5f}\\n'.format(\n",
        "    gzb_bulge_mean, gzb_bulge_std\n",
        "))\n",
        "bulge_groups = bulge_df.groupby('GZ2 bulge dominated')\n",
        "display(pd.DataFrame(\n",
        "    np.hstack((bulge_groups.mean(), bulge_groups.std()))[:, :2],\n",
        "    columns=('mean', 'std'),\n",
        "#     index=bulge_groups.mean().index\n",
        "))\n",
        "\n",
        "ttest_result = st.ttest_ind(\n",
        "    bulge_df[bulge_df['GZ2 bulge dominated']]['GZB fraction'].values,\n",
        "    bulge_df[~bulge_df['GZ2 bulge dominated']]['GZB fraction'].values\n",
        ")\n",
        "print('Probability samples are the same: {:%}'.format(ttest_result.pvalue))"
      ],
      "outputs": [
        {
          "output_type": "stream",
          "name": "stdout",
          "text": [
            "\n",
            "GZB bulge fraction = 0.7520 ± 0.07967\n",
            "\n"
          ]
        },
        {
          "output_type": "display_data",
          "data": {
            "text/plain": [
              "       mean       std\n",
              "0  0.751365  0.143952\n",
              "1  0.755107  0.021487"
            ],
            "text/html": [
              "<div>\n",
              "<style scoped>\n",
              "    .dataframe tbody tr th:only-of-type {\n",
              "        vertical-align: middle;\n",
              "    }\n",
              "\n",
              "    .dataframe tbody tr th {\n",
              "        vertical-align: top;\n",
              "    }\n",
              "\n",
              "    .dataframe thead th {\n",
              "        text-align: right;\n",
              "    }\n",
              "</style>\n",
              "<table border=\"1\" class=\"dataframe\">\n",
              "  <thead>\n",
              "    <tr style=\"text-align: right;\">\n",
              "      <th></th>\n",
              "      <th>mean</th>\n",
              "      <th>std</th>\n",
              "    </tr>\n",
              "  </thead>\n",
              "  <tbody>\n",
              "    <tr>\n",
              "      <th>0</th>\n",
              "      <td>0.751365</td>\n",
              "      <td>0.143952</td>\n",
              "    </tr>\n",
              "    <tr>\n",
              "      <th>1</th>\n",
              "      <td>0.755107</td>\n",
              "      <td>0.021487</td>\n",
              "    </tr>\n",
              "  </tbody>\n",
              "</table>\n",
              "</div>"
            ]
          },
          "metadata": {}
        },
        {
          "output_type": "stream",
          "name": "stdout",
          "text": [
            "Probability samples are the same: 76.698805%\n"
          ]
        }
      ],
      "execution_count": 6,
      "metadata": {
        "collapsed": false,
        "outputHidden": false,
        "inputHidden": false
      }
    },
    {
      "cell_type": "markdown",
      "source": [
        "Is there a negative correlation between the number of people flagging the galaxy as bulgeless, and the number of people using a bulge in their model?"
      ],
      "metadata": {
        "collapsed": false,
        "outputHidden": false,
        "inputHidden": false
      }
    },
    {
      "cell_type": "code",
      "source": [
        "bulge_df.plot('GZ2 no bulge', 'GZB fraction', kind='scatter')"
      ],
      "outputs": [
        {
          "output_type": "execute_result",
          "execution_count": 7,
          "data": {
            "text/plain": [
              "<matplotlib.axes._subplots.AxesSubplot at 0x1c264110f0>"
            ]
          },
          "metadata": {}
        },
        {
          "output_type": "display_data",
          "data": {
            "text/plain": [
              "<Figure size 432x288 with 1 Axes>"
            ],
            "image/png": "[encoded data removed]"
          },
          "metadata": {
            "needs_background": "light"
          }
        }
      ],
      "execution_count": 7,
      "metadata": {
        "collapsed": false,
        "outputHidden": false,
        "inputHidden": false
      }
    },
    {
      "cell_type": "markdown",
      "source": [
        "## How frequently do people draw bars relative to GZ2 pBar?"
      ],
      "metadata": {
        "collapsed": false,
        "outputHidden": false,
        "inputHidden": false
      }
    },
    {
      "cell_type": "code",
      "source": [
        "bar_df['type'] = pd.cut(bar_df['GZ2 bar fraction'], (-1, 0.2, 0.5, 2), labels=('No bar', 'Weak bar', 'Strong bar'))\n",
        "bar_df.groupby('type')['GZB fraction'].describe()"
      ],
      "outputs": [
        {
          "output_type": "execute_result",
          "execution_count": 8,
          "data": {
            "text/plain": [
              "            count      mean       std       min       25%       50%       75%  \\\n",
              "type                                                                            \n",
              "No bar      136.0  0.295095  0.105353  0.096774  0.231452  0.285786  0.354839   \n",
              "Weak bar     91.0  0.385346  0.120350  0.129032  0.300000  0.387097  0.466667   \n",
              "Strong bar   61.0  0.472846  0.142678  0.151515  0.375000  0.466667  0.566667   \n",
              "\n",
              "                 max  \n",
              "type                  \n",
              "No bar      0.633333  \n",
              "Weak bar    0.677419  \n",
              "Strong bar  0.733333  "
            ],
            "text/html": [
              "<div>\n",
              "<style scoped>\n",
              "    .dataframe tbody tr th:only-of-type {\n",
              "        vertical-align: middle;\n",
              "    }\n",
              "\n",
              "    .dataframe tbody tr th {\n",
              "        vertical-align: top;\n",
              "    }\n",
              "\n",
              "    .dataframe thead th {\n",
              "        text-align: right;\n",
              "    }\n",
              "</style>\n",
              "<table border=\"1\" class=\"dataframe\">\n",
              "  <thead>\n",
              "    <tr style=\"text-align: right;\">\n",
              "      <th></th>\n",
              "      <th>count</th>\n",
              "      <th>mean</th>\n",
              "      <th>std</th>\n",
              "      <th>min</th>\n",
              "      <th>25%</th>\n",
              "      <th>50%</th>\n",
              "      <th>75%</th>\n",
              "      <th>max</th>\n",
              "    </tr>\n",
              "    <tr>\n",
              "      <th>type</th>\n",
              "      <th></th>\n",
              "      <th></th>\n",
              "      <th></th>\n",
              "      <th></th>\n",
              "      <th></th>\n",
              "      <th></th>\n",
              "      <th></th>\n",
              "      <th></th>\n",
              "    </tr>\n",
              "  </thead>\n",
              "  <tbody>\n",
              "    <tr>\n",
              "      <th>No bar</th>\n",
              "      <td>136.0</td>\n",
              "      <td>0.295095</td>\n",
              "      <td>0.105353</td>\n",
              "      <td>0.096774</td>\n",
              "      <td>0.231452</td>\n",
              "      <td>0.285786</td>\n",
              "      <td>0.354839</td>\n",
              "      <td>0.633333</td>\n",
              "    </tr>\n",
              "    <tr>\n",
              "      <th>Weak bar</th>\n",
              "      <td>91.0</td>\n",
              "      <td>0.385346</td>\n",
              "      <td>0.120350</td>\n",
              "      <td>0.129032</td>\n",
              "      <td>0.300000</td>\n",
              "      <td>0.387097</td>\n",
              "      <td>0.466667</td>\n",
              "      <td>0.677419</td>\n",
              "    </tr>\n",
              "    <tr>\n",
              "      <th>Strong bar</th>\n",
              "      <td>61.0</td>\n",
              "      <td>0.472846</td>\n",
              "      <td>0.142678</td>\n",
              "      <td>0.151515</td>\n",
              "      <td>0.375000</td>\n",
              "      <td>0.466667</td>\n",
              "      <td>0.566667</td>\n",
              "      <td>0.733333</td>\n",
              "    </tr>\n",
              "  </tbody>\n",
              "</table>\n",
              "</div>"
            ]
          },
          "metadata": {}
        }
      ],
      "execution_count": 8,
      "metadata": {
        "collapsed": false,
        "outputHidden": false,
        "inputHidden": false
      }
    },
    {
      "cell_type": "code",
      "source": [
        "print('GZB bar fraction = {:.4f} ± {:.5f}\\n'.format(\n",
        "    bar_df['GZB fraction'].mean(),\n",
        "    bar_df['GZB fraction'].std()\n",
        "))\n",
        "\n",
        "print('P(model has bar | Strongly barred) = {:.4f} ± {:.4f}%'.format(\n",
        "    bar_df.groupby('Strongly barred')['GZB fraction'].mean().loc[True],\n",
        "    bar_df.groupby('Strongly barred')['GZB fraction'].std().loc[True],\n",
        "))\n",
        "\n",
        "print('P(model has bar | No bar)          = {:.4f} ± {:.4f}%'.format(\n",
        "    bar_df.groupby('No bar')['GZB fraction'].mean().loc[True],\n",
        "    bar_df.groupby('No bar')['GZB fraction'].std().loc[True],\n",
        "))\n",
        "\n",
        "ttest_result = ttest_ind(\n",
        "    bar_df[bar_df['Strongly barred']]['GZB fraction'].values,\n",
        "    bar_df[bar_df['No bar']]['GZB fraction'].values\n",
        ")\n",
        "print('\\nProbability samples are the same: {:%}'.format(ttest_result.pvalue))"
      ],
      "outputs": [
        {
          "output_type": "stream",
          "name": "stdout",
          "text": [
            "GZB bar fraction = 0.3613 ± 0.13756\n",
            "\n",
            "P(model has bar | Strongly barred) = 0.4728 ± 0.1427%\n",
            "P(model has bar | No bar)          = 0.2951 ± 0.1054%\n"
          ]
        },
        {
          "output_type": "error",
          "ename": "NameError",
          "evalue": "name 'ttest_ind' is not defined",
          "traceback": [
            "\u001b[0;31m---------------------------------------------------------------------------\u001b[0m",
            "\u001b[0;31mNameError\u001b[0m                                 Traceback (most recent call last)",
            "\u001b[0;32m<ipython-input-9-fbd6d85d1f00>\u001b[0m in \u001b[0;36m<module>\u001b[0;34m\u001b[0m\n\u001b[1;32m     14\u001b[0m ))\n\u001b[1;32m     15\u001b[0m \u001b[0;34m\u001b[0m\u001b[0m\n\u001b[0;32m---> 16\u001b[0;31m ttest_result = ttest_ind(\n\u001b[0m\u001b[1;32m     17\u001b[0m     \u001b[0mbar_df\u001b[0m\u001b[0;34m[\u001b[0m\u001b[0mbar_df\u001b[0m\u001b[0;34m[\u001b[0m\u001b[0;34m'Strongly barred'\u001b[0m\u001b[0;34m]\u001b[0m\u001b[0;34m]\u001b[0m\u001b[0;34m[\u001b[0m\u001b[0;34m'GZB fraction'\u001b[0m\u001b[0;34m]\u001b[0m\u001b[0;34m.\u001b[0m\u001b[0mvalues\u001b[0m\u001b[0;34m,\u001b[0m\u001b[0;34m\u001b[0m\u001b[0;34m\u001b[0m\u001b[0m\n\u001b[1;32m     18\u001b[0m     \u001b[0mbar_df\u001b[0m\u001b[0;34m[\u001b[0m\u001b[0mbar_df\u001b[0m\u001b[0;34m[\u001b[0m\u001b[0;34m'No bar'\u001b[0m\u001b[0;34m]\u001b[0m\u001b[0;34m]\u001b[0m\u001b[0;34m[\u001b[0m\u001b[0;34m'GZB fraction'\u001b[0m\u001b[0;34m]\u001b[0m\u001b[0;34m.\u001b[0m\u001b[0mvalues\u001b[0m\u001b[0;34m\u001b[0m\u001b[0;34m\u001b[0m\u001b[0m\n",
            "\u001b[0;31mNameError\u001b[0m: name 'ttest_ind' is not defined"
          ]
        }
      ],
      "execution_count": 9,
      "metadata": {
        "collapsed": false,
        "outputHidden": false,
        "inputHidden": false
      }
    },
    {
      "cell_type": "code",
      "source": [
        "bulge_df.sample(5)"
      ],
      "outputs": [
        {
          "output_type": "execute_result",
          "execution_count": 10,
          "data": {
            "text/plain": [
              "            GZB fraction GZ2 bulge dominated  GZ2 no bulge\n",
              "subject_id                                                \n",
              "21096912        0.800000               False      0.165479\n",
              "21686535        0.566667               False      0.291107\n",
              "20901992        0.656250               False      0.025016\n",
              "20902053        0.741935                True      0.018201\n",
              "21096850        0.838710               False      0.123053"
            ],
            "text/html": [
              "<div>\n",
              "<style scoped>\n",
              "    .dataframe tbody tr th:only-of-type {\n",
              "        vertical-align: middle;\n",
              "    }\n",
              "\n",
              "    .dataframe tbody tr th {\n",
              "        vertical-align: top;\n",
              "    }\n",
              "\n",
              "    .dataframe thead th {\n",
              "        text-align: right;\n",
              "    }\n",
              "</style>\n",
              "<table border=\"1\" class=\"dataframe\">\n",
              "  <thead>\n",
              "    <tr style=\"text-align: right;\">\n",
              "      <th></th>\n",
              "      <th>GZB fraction</th>\n",
              "      <th>GZ2 bulge dominated</th>\n",
              "      <th>GZ2 no bulge</th>\n",
              "    </tr>\n",
              "    <tr>\n",
              "      <th>subject_id</th>\n",
              "      <th></th>\n",
              "      <th></th>\n",
              "      <th></th>\n",
              "    </tr>\n",
              "  </thead>\n",
              "  <tbody>\n",
              "    <tr>\n",
              "      <th>21096912</th>\n",
              "      <td>0.800000</td>\n",
              "      <td>False</td>\n",
              "      <td>0.165479</td>\n",
              "    </tr>\n",
              "    <tr>\n",
              "      <th>21686535</th>\n",
              "      <td>0.566667</td>\n",
              "      <td>False</td>\n",
              "      <td>0.291107</td>\n",
              "    </tr>\n",
              "    <tr>\n",
              "      <th>20901992</th>\n",
              "      <td>0.656250</td>\n",
              "      <td>False</td>\n",
              "      <td>0.025016</td>\n",
              "    </tr>\n",
              "    <tr>\n",
              "      <th>20902053</th>\n",
              "      <td>0.741935</td>\n",
              "      <td>True</td>\n",
              "      <td>0.018201</td>\n",
              "    </tr>\n",
              "    <tr>\n",
              "      <th>21096850</th>\n",
              "      <td>0.838710</td>\n",
              "      <td>False</td>\n",
              "      <td>0.123053</td>\n",
              "    </tr>\n",
              "  </tbody>\n",
              "</table>\n",
              "</div>"
            ]
          },
          "metadata": {}
        }
      ],
      "execution_count": 10,
      "metadata": {
        "collapsed": false,
        "outputHidden": false,
        "inputHidden": false
      }
    },
    {
      "cell_type": "code",
      "source": [
        "plt.figure(figsize=(12, 5))\n",
        "plt.subplot(121)\n",
        "res = bulge_df.groupby('GZ2 bulge dominated')\n",
        "plt.hist(bulge_df.loc[res.groups[False]]['GZB fraction'], bins='scott',\n",
        "         alpha=0.7, label='Disc dominated', density=True)\n",
        "plt.hist(bulge_df.loc[res.groups[True]]['GZB fraction'], bins='scott',\n",
        "         alpha=0.7, label='Bulge dominated', density=True)\n",
        "plt.title('')\n",
        "plt.legend()\n",
        "plt.xlabel('Fraction of models with a bulge')\n",
        "plt.ylabel('Probability density');\n",
        "plt.subplot(122)\n",
        "plt.hist(bar_df[bar_df['No bar']]['GZB fraction'], bins='scott',\n",
        "         alpha=0.7, label='No bar', density=True)\n",
        "plt.hist(bar_df[bar_df['Strongly barred']]['GZB fraction'], bins='scott',\n",
        "         alpha=0.7, label='Strongly barred', density=True)\n",
        "plt.title('')\n",
        "plt.legend()\n",
        "plt.xlabel('Fraction of models with a bar')\n",
        "plt.ylabel('Probability density');\n",
        "plt.savefig('method-paper-plots/bulge-bar-population-comparison.pdf',\n",
        "            bbox_inches='tight')"
      ],
      "outputs": [
        {
          "output_type": "display_data",
          "data": {
            "text/plain": [
              "<Figure size 864x360 with 2 Axes>"
            ],
            "image/png": "[encoded data removed]"
          },
          "metadata": {
            "needs_background": "light"
          }
        }
      ],
      "execution_count": 11,
      "metadata": {
        "collapsed": false,
        "outputHidden": false,
        "inputHidden": false
      }
    },
    {
      "cell_type": "markdown",
      "source": [
        "## How does pbar stack up against aggregate bar length?"
      ],
      "metadata": {
        "collapsed": false,
        "outputHidden": false,
        "inputHidden": false
      }
    },
    {
      "cell_type": "code",
      "source": [
        "# bar_length_df.plot.scatter(x='GZ2 bar fraction', y='GZB bar length')\n",
        "print('Spearman correlation:')\n",
        "display(bar_length_df.corr('pearson'))\n",
        "pd.plotting.scatter_matrix(bar_length_df);"
      ],
      "outputs": [
        {
          "output_type": "stream",
          "name": "stdout",
          "text": [
            "Spearman correlation:\n"
          ]
        },
        {
          "output_type": "display_data",
          "data": {
            "text/plain": [
              "                  GZB bar length  GZ2 bar fraction  GZB fraction\n",
              "GZB bar length          1.000000          0.112497      0.054490\n",
              "GZ2 bar fraction        0.112497          1.000000      0.569798\n",
              "GZB fraction            0.054490          0.569798      1.000000"
            ],
            "text/html": [
              "<div>\n",
              "<style scoped>\n",
              "    .dataframe tbody tr th:only-of-type {\n",
              "        vertical-align: middle;\n",
              "    }\n",
              "\n",
              "    .dataframe tbody tr th {\n",
              "        vertical-align: top;\n",
              "    }\n",
              "\n",
              "    .dataframe thead th {\n",
              "        text-align: right;\n",
              "    }\n",
              "</style>\n",
              "<table border=\"1\" class=\"dataframe\">\n",
              "  <thead>\n",
              "    <tr style=\"text-align: right;\">\n",
              "      <th></th>\n",
              "      <th>GZB bar length</th>\n",
              "      <th>GZ2 bar fraction</th>\n",
              "      <th>GZB fraction</th>\n",
              "    </tr>\n",
              "  </thead>\n",
              "  <tbody>\n",
              "    <tr>\n",
              "      <th>GZB bar length</th>\n",
              "      <td>1.000000</td>\n",
              "      <td>0.112497</td>\n",
              "      <td>0.054490</td>\n",
              "    </tr>\n",
              "    <tr>\n",
              "      <th>GZ2 bar fraction</th>\n",
              "      <td>0.112497</td>\n",
              "      <td>1.000000</td>\n",
              "      <td>0.569798</td>\n",
              "    </tr>\n",
              "    <tr>\n",
              "      <th>GZB fraction</th>\n",
              "      <td>0.054490</td>\n",
              "      <td>0.569798</td>\n",
              "      <td>1.000000</td>\n",
              "    </tr>\n",
              "  </tbody>\n",
              "</table>\n",
              "</div>"
            ]
          },
          "metadata": {}
        },
        {
          "output_type": "display_data",
          "data": {
            "text/plain": [
              "<Figure size 432x288 with 9 Axes>"
            ],
            "image/png": "[encoded data removed]"
          },
          "metadata": {
            "needs_background": "light"
          }
        }
      ],
      "execution_count": 12,
      "metadata": {
        "collapsed": false,
        "outputHidden": false,
        "inputHidden": false
      }
    },
    {
      "cell_type": "code",
      "source": [
        "bar_length_df[bar_length_df['GZB bar length'] > 50]"
      ],
      "outputs": [
        {
          "output_type": "execute_result",
          "execution_count": 13,
          "data": {
            "text/plain": [
              "            GZB bar length  GZ2 bar fraction  GZB fraction\n",
              "subject_id                                                \n",
              "21096944         51.000000          0.668341      0.483871\n",
              "21096787         82.999984          0.226558      0.545455"
            ],
            "text/html": [
              "<div>\n",
              "<style scoped>\n",
              "    .dataframe tbody tr th:only-of-type {\n",
              "        vertical-align: middle;\n",
              "    }\n",
              "\n",
              "    .dataframe tbody tr th {\n",
              "        vertical-align: top;\n",
              "    }\n",
              "\n",
              "    .dataframe thead th {\n",
              "        text-align: right;\n",
              "    }\n",
              "</style>\n",
              "<table border=\"1\" class=\"dataframe\">\n",
              "  <thead>\n",
              "    <tr style=\"text-align: right;\">\n",
              "      <th></th>\n",
              "      <th>GZB bar length</th>\n",
              "      <th>GZ2 bar fraction</th>\n",
              "      <th>GZB fraction</th>\n",
              "    </tr>\n",
              "    <tr>\n",
              "      <th>subject_id</th>\n",
              "      <th></th>\n",
              "      <th></th>\n",
              "      <th></th>\n",
              "    </tr>\n",
              "  </thead>\n",
              "  <tbody>\n",
              "    <tr>\n",
              "      <th>21096944</th>\n",
              "      <td>51.000000</td>\n",
              "      <td>0.668341</td>\n",
              "      <td>0.483871</td>\n",
              "    </tr>\n",
              "    <tr>\n",
              "      <th>21096787</th>\n",
              "      <td>82.999984</td>\n",
              "      <td>0.226558</td>\n",
              "      <td>0.545455</td>\n",
              "    </tr>\n",
              "  </tbody>\n",
              "</table>\n",
              "</div>"
            ]
          },
          "metadata": {}
        }
      ],
      "execution_count": 13,
      "metadata": {
        "collapsed": false,
        "outputHidden": false,
        "inputHidden": false
      }
    },
    {
      "cell_type": "code",
      "source": [
        "from sklearn.neighbors import LocalOutlierFactor\n",
        "clf = LocalOutlierFactor()\n",
        "mask = clf.fit_predict(\n",
        "    np.expand_dims(bar_length_df['GZB bar length'].dropna(), 1)\n",
        ") > 0\n",
        "bad_indices = bar_length_df['GZB bar length'].dropna()[~mask].index"
      ],
      "outputs": [
        {
          "output_type": "stream",
          "name": "stderr",
          "text": [
            "/Users/tlingard/anaconda3/lib/python3.6/site-packages/sklearn/neighbors/lof.py:236: FutureWarning: default contamination parameter 0.1 will change in version 0.22 to \"auto\". This will change the predict method behavior.\n",
            "  FutureWarning)\n"
          ]
        }
      ],
      "execution_count": 14,
      "metadata": {
        "collapsed": false,
        "outputHidden": false,
        "inputHidden": false
      }
    },
    {
      "cell_type": "code",
      "source": [
        "bar_length_df_cleaned = bar_length_df.copy()\n",
        "bar_length_df_cleaned['GZB bar length'].loc[bad_indices] = np.nan"
      ],
      "outputs": [],
      "execution_count": 15,
      "metadata": {
        "collapsed": false,
        "outputHidden": false,
        "inputHidden": false
      }
    },
    {
      "cell_type": "code",
      "source": [
        "display(bar_length_df_cleaned.corr('pearson'))\n",
        "pd.plotting.scatter_matrix(bar_length_df_cleaned);"
      ],
      "outputs": [
        {
          "output_type": "display_data",
          "data": {
            "text/plain": [
              "                  GZB bar length  GZ2 bar fraction  GZB fraction\n",
              "GZB bar length          1.000000          0.242748      0.020185\n",
              "GZ2 bar fraction        0.242748          1.000000      0.569798\n",
              "GZB fraction            0.020185          0.569798      1.000000"
            ],
            "text/html": [
              "<div>\n",
              "<style scoped>\n",
              "    .dataframe tbody tr th:only-of-type {\n",
              "        vertical-align: middle;\n",
              "    }\n",
              "\n",
              "    .dataframe tbody tr th {\n",
              "        vertical-align: top;\n",
              "    }\n",
              "\n",
              "    .dataframe thead th {\n",
              "        text-align: right;\n",
              "    }\n",
              "</style>\n",
              "<table border=\"1\" class=\"dataframe\">\n",
              "  <thead>\n",
              "    <tr style=\"text-align: right;\">\n",
              "      <th></th>\n",
              "      <th>GZB bar length</th>\n",
              "      <th>GZ2 bar fraction</th>\n",
              "      <th>GZB fraction</th>\n",
              "    </tr>\n",
              "  </thead>\n",
              "  <tbody>\n",
              "    <tr>\n",
              "      <th>GZB bar length</th>\n",
              "      <td>1.000000</td>\n",
              "      <td>0.242748</td>\n",
              "      <td>0.020185</td>\n",
              "    </tr>\n",
              "    <tr>\n",
              "      <th>GZ2 bar fraction</th>\n",
              "      <td>0.242748</td>\n",
              "      <td>1.000000</td>\n",
              "      <td>0.569798</td>\n",
              "    </tr>\n",
              "    <tr>\n",
              "      <th>GZB fraction</th>\n",
              "      <td>0.020185</td>\n",
              "      <td>0.569798</td>\n",
              "      <td>1.000000</td>\n",
              "    </tr>\n",
              "  </tbody>\n",
              "</table>\n",
              "</div>"
            ]
          },
          "metadata": {}
        },
        {
          "output_type": "display_data",
          "data": {
            "text/plain": [
              "<Figure size 432x288 with 9 Axes>"
            ],
            "image/png": "[encoded data removed]"
          },
          "metadata": {
            "needs_background": "light"
          }
        }
      ],
      "execution_count": 16,
      "metadata": {
        "collapsed": false,
        "outputHidden": false,
        "inputHidden": false
      }
    },
    {
      "cell_type": "code",
      "source": [
        "def get_agg_bulge_reff(subject_id):\n",
        "    diff_data = gu.get_image_data(subject_id)\n",
        "    size_diff = diff_data['width'] / diff_data['imageWidth']\n",
        "    model_file = 'cluster-output/{}.json'.format(subject_id)\n",
        "    try:\n",
        "        with open(model_file) as f:\n",
        "            model = json.load(f)\n",
        "    except IOError:\n",
        "        return np.nan\n",
        "    bulge = pa.parse_aggregate_model(model, size_diff)['bulge']\n",
        "    disk = pa.parse_aggregate_model(model, size_diff)['disk']\n",
        "    if bulge is None or disk is None:\n",
        "        return np.nan\n",
        "    return bulge.get('rEff', np.nan) / disk.get('rEff', np.nan)"
      ],
      "outputs": [],
      "execution_count": 17,
      "metadata": {
        "collapsed": false,
        "outputHidden": false,
        "inputHidden": false
      }
    },
    {
      "cell_type": "code",
      "source": [
        "bulge_df['GZB bulge size'] = pd.Series(bulge_df.index, index=bulge_df.index).apply(get_agg_bulge_reff)"
      ],
      "outputs": [],
      "execution_count": 18,
      "metadata": {
        "collapsed": false,
        "outputHidden": false,
        "inputHidden": false
      }
    },
    {
      "cell_type": "code",
      "source": [
        "plt.figure(figsize=(12, 6))\n",
        "for i, flag in enumerate((False, True)):\n",
        "    mask = bulge_df['GZ2 bulge dominated'] == flag\n",
        "    label = 'Bulge dominated' if flag else 'Disc dominated'\n",
        "    data = bulge_df[mask]['GZB bulge size'].dropna()\n",
        "    outlier_mask = np.abs(st.stats.zscore(data)) < 3\n",
        "    counts, bins, patches = plt.hist(data, density=True, bins='auto', alpha=0.4, label=label, color='C{}'.format(i%10))\n",
        "    params = st.gamma.fit(data[outlier_mask])\n",
        "    x = np.linspace(0, np.max(bins), 500)\n",
        "    rv = st.gamma(params[0], loc=params[1], scale=params[2])\n",
        "    plt.plot(x, rv.pdf(x), c='C{}'.format(i%10), lw=3)\n",
        "    print(label, params)\n",
        "plt.plot([], [], 'k-', label='Gamma PDF fit')\n",
        "plt.ylabel('Probability Density')\n",
        "plt.xlabel('Bulge effective radius relative to Disc')\n",
        "plt.legend()\n",
        "plt.tight_layout()\n",
        "plt.savefig('method-paper-plots/aggregate_bulge_size_comparison.pdf', bbox_inches='tight');"
      ],
      "outputs": [
        {
          "output_type": "stream",
          "name": "stdout",
          "text": [
            "Disc dominated (3.839652037073204, 0.051289325399937996, 0.027384979072298102)\n",
            "Bulge dominated (2.6205253730008233, 0.07953463280766156, 0.043315943899042614)\n"
          ]
        },
        {
          "output_type": "display_data",
          "data": {
            "text/plain": [
              "<Figure size 864x432 with 1 Axes>"
            ],
            "image/png": "[encoded data removed]"
          },
          "metadata": {
            "needs_background": "light"
          }
        }
      ],
      "execution_count": 35,
      "metadata": {
        "collapsed": false,
        "outputHidden": false,
        "inputHidden": false
      }
    }
  ],
  "metadata": {
    "kernel_info": {
      "name": "python3"
    },
    "language_info": {
      "name": "python",
      "version": "3.6.7",
      "mimetype": "text/x-python",
      "codemirror_mode": {
        "name": "ipython",
        "version": 3
      },
      "pygments_lexer": "ipython3",
      "nbconvert_exporter": "python",
      "file_extension": ".py"
    },
    "kernelspec": {
      "name": "python3",
      "language": "python",
      "display_name": "Python 3"
    },
    "nteract": {
      "version": "0.14.3"
    }
  },
  "nbformat": 4,
  "nbformat_minor": 4
}