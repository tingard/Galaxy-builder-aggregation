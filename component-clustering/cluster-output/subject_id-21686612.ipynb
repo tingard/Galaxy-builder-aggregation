{
 "cells": [
  {
   "cell_type": "markdown",
   "metadata": {
    "collapsed": false,
    "inputHidden": false,
    "outputHidden": false,
    "papermill": {
     "duration": 0.040282,
     "end_time": "2018-11-23T14:14:50.705897",
     "exception": false,
     "start_time": "2018-11-23T14:14:50.665615",
     "status": "completed"
    },
    "tags": []
   },
   "source": [
    "# Clustering of drawn components in galaxy builder"
   ]
  },
  {
   "cell_type": "markdown",
   "metadata": {
    "papermill": {
     "duration": 0.026342,
     "end_time": "2018-11-23T14:14:50.764211",
     "exception": false,
     "start_time": "2018-11-23T14:14:50.737869",
     "status": "completed"
    },
    "tags": []
   },
   "source": [
    "First, say the jupyter magic words 🧙‍"
   ]
  },
  {
   "cell_type": "code",
   "execution_count": 1,
   "metadata": {
    "collapsed": false,
    "inputHidden": false,
    "outputHidden": false,
    "papermill": {
     "duration": 1.163162,
     "end_time": "2018-11-23T14:14:51.959478",
     "exception": false,
     "start_time": "2018-11-23T14:14:50.796316",
     "status": "completed"
    },
    "tags": []
   },
   "outputs": [],
   "source": [
    "%matplotlib inline\n",
    "%load_ext autoreload\n",
    "%autoreload 2"
   ]
  },
  {
   "cell_type": "markdown",
   "metadata": {
    "papermill": {
     "duration": null,
     "end_time": null,
     "exception": null,
     "start_time": null,
     "status": "completed"
    },
    "tags": []
   },
   "source": [
    "Import the plethora of useful modules we'll need (including some we probably don't)"
   ]
  },
  {
   "cell_type": "code",
   "execution_count": null,
   "metadata": {
    "collapsed": false,
    "inputHidden": false,
    "outputHidden": false,
    "papermill": {
     "duration": null,
     "end_time": null,
     "exception": null,
     "start_time": null,
     "status": "completed"
    },
    "tags": []
   },
   "outputs": [],
   "source": [
    "import numpy as np\n",
    "import pandas as pd\n",
    "import matplotlib.pyplot as plt\n",
    "from matplotlib.patches import Ellipse, Rectangle\n",
    "from matplotlib.patches import Rectangle as R2\n",
    "import matplotlib.transforms as transforms\n",
    "import matplotlib.lines as mlines\n",
    "import json\n",
    "from pprint import pprint\n",
    "from sklearn.feature_extraction import DictVectorizer\n",
    "from panoptes_aggregation.extractors.shape_extractor import shape_extractor\n",
    "from panoptes_aggregation.extractors.utilities import annotation_by_task\n",
    "from panoptes_aggregation.reducers.shape_reducer_dbscan import shape_reducer_dbscan\n",
    "from panoptes_aggregation.reducers.shape_reducer_hdbscan import shape_reducer_hdbscan\n",
    "import lib.galaxy_utilities as gu\n",
    "import wrangle_classifications as wc\n",
    "import lib.python_model_renderer.render_galaxy as rg\n",
    "import papermill as pm"
   ]
  },
  {
   "cell_type": "code",
   "execution_count": null,
   "metadata": {
    "collapsed": false,
    "inputHidden": false,
    "outputHidden": false,
    "papermill": {
     "duration": null,
     "end_time": null,
     "exception": null,
     "start_time": null,
     "status": "completed"
    },
    "tags": []
   },
   "outputs": [],
   "source": [
    "def _update_patch_transfrom_about_center(self):\n",
    "    x = self.convert_xunits(self._x0)\n",
    "    y = self.convert_yunits(self._y0)\n",
    "    width = self.convert_xunits(self._width)\n",
    "    height = self.convert_yunits(self._height)\n",
    "    bbox = transforms.Bbox.from_bounds(x, y, width, height)\n",
    "    rot_trans = transforms.Affine2D()\n",
    "    rot_trans.rotate_deg_around(x + 0.5 * width, y + 0.5 * height, self.angle)\n",
    "    self._rect_transform = transforms.BboxTransformTo(bbox)\n",
    "    self._rect_transform += rot_trans\n",
    "\n",
    "Rectangle._update_patch_transform = _update_patch_transfrom_about_center"
   ]
  },
  {
   "cell_type": "markdown",
   "metadata": {
    "collapsed": false,
    "inputHidden": false,
    "outputHidden": false,
    "papermill": {
     "duration": null,
     "end_time": null,
     "exception": null,
     "start_time": null,
     "status": "completed"
    },
    "tags": []
   },
   "source": [
    "Which subject should we work on? (parametrised to allow batch running at a later date)"
   ]
  },
  {
   "cell_type": "code",
   "execution_count": null,
   "metadata": {
    "collapsed": false,
    "inputHidden": false,
    "outputHidden": false,
    "papermill": {
     "duration": null,
     "end_time": null,
     "exception": null,
     "start_time": null,
     "status": "completed"
    },
    "tags": [
     "parameters"
    ]
   },
   "outputs": [],
   "source": [
    "subject_id = 20902041"
   ]
  },
  {
   "cell_type": "code",
   "execution_count": null,
   "metadata": {
    "papermill": {
     "duration": null,
     "end_time": null,
     "exception": null,
     "start_time": null,
     "status": "completed"
    },
    "tags": [
     "injected-parameters"
    ]
   },
   "outputs": [],
   "source": [
    "# Parameters\n",
    "subject_id = 21686612\n"
   ]
  },
  {
   "cell_type": "markdown",
   "metadata": {
    "collapsed": false,
    "inputHidden": false,
    "outputHidden": false,
    "papermill": {
     "duration": null,
     "end_time": null,
     "exception": null,
     "start_time": null,
     "status": "completed"
    },
    "tags": []
   },
   "source": [
    "Implement a temporary way of reading in data till the zooniverse CSV export is fixed:"
   ]
  },
  {
   "cell_type": "code",
   "execution_count": null,
   "metadata": {
    "collapsed": false,
    "inputHidden": false,
    "outputHidden": false,
    "papermill": {
     "duration": null,
     "end_time": null,
     "exception": null,
     "start_time": null,
     "status": "completed"
    },
    "tags": []
   },
   "outputs": [],
   "source": [
    "with open('tmp_cls_dump.json') as f:\n",
    "    classifications = json.load(f)\n",
    "classifications_for_subject = [\n",
    "    c for c in classifications\n",
    "    if c['links']['subjects'][0] == str(subject_id)\n",
    "]\n",
    "print('Found {} classifications for subject_id {}'.format(\n",
    "    len(classifications_for_subject),\n",
    "    subject_id,\n",
    "))\n",
    "annotations_for_subject = [i['annotations'] for i in classifications_for_subject]"
   ]
  },
  {
   "cell_type": "markdown",
   "metadata": {
    "papermill": {
     "duration": null,
     "end_time": null,
     "exception": null,
     "start_time": null,
     "status": "completed"
    },
    "tags": []
   },
   "source": [
    "Grab the galaxy data (and classification data) for this galaxy"
   ]
  },
  {
   "cell_type": "code",
   "execution_count": null,
   "metadata": {
    "collapsed": false,
    "inputHidden": false,
    "outputHidden": false,
    "papermill": {
     "duration": null,
     "end_time": null,
     "exception": null,
     "start_time": null,
     "status": "completed"
    },
    "tags": []
   },
   "outputs": [],
   "source": [
    "print('Getting galaxy data')\n",
    "gal, angle = gu.get_galaxy_and_angle(subject_id)\n",
    "url = gu.getUrl(subject_id)\n",
    "pic_array, deprojected_image = gu.get_image(gal, subject_id, angle)\n",
    "# classifications = gu.classifications\n",
    "# classifications_for_subject = classifications['subject_ids'] == subject_id\n",
    "# annotations_for_subject = [\n",
    "#     eval(foo) for foo in\n",
    "#     classifications_for_subject\n",
    "# ]"
   ]
  },
  {
   "cell_type": "markdown",
   "metadata": {
    "collapsed": false,
    "inputHidden": false,
    "outputHidden": false,
    "papermill": {
     "duration": null,
     "end_time": null,
     "exception": null,
     "start_time": null,
     "status": "completed"
    },
    "tags": []
   },
   "source": [
    "Grab the galaxy's PSF (from the data used in online model rendering)"
   ]
  },
  {
   "cell_type": "code",
   "execution_count": null,
   "metadata": {
    "collapsed": false,
    "inputHidden": false,
    "outputHidden": false,
    "papermill": {
     "duration": null,
     "end_time": null,
     "exception": null,
     "start_time": null,
     "status": "completed"
    },
    "tags": []
   },
   "outputs": [],
   "source": [
    "psf = gu.get_psf(subject_id)\n",
    "plt.imshow(psf); None"
   ]
  },
  {
   "cell_type": "markdown",
   "metadata": {
    "collapsed": false,
    "inputHidden": false,
    "outputHidden": false,
    "papermill": {
     "duration": null,
     "end_time": null,
     "exception": null,
     "start_time": null,
     "status": "completed"
    },
    "tags": []
   },
   "source": [
    "Grab the difference JSON data for this subject (used later for rendering)"
   ]
  },
  {
   "cell_type": "code",
   "execution_count": null,
   "metadata": {
    "collapsed": false,
    "inputHidden": false,
    "outputHidden": false,
    "papermill": {
     "duration": null,
     "end_time": null,
     "exception": null,
     "start_time": null,
     "status": "completed"
    },
    "tags": []
   },
   "outputs": [],
   "source": [
    "diff_data = gu.get_image_data(subject_id)"
   ]
  },
  {
   "cell_type": "markdown",
   "metadata": {
    "collapsed": false,
    "inputHidden": false,
    "outputHidden": false,
    "papermill": {
     "duration": null,
     "end_time": null,
     "exception": null,
     "start_time": null,
     "status": "completed"
    },
    "tags": []
   },
   "source": [
    "Iterate through the annotations and grab the classifications for disks, bulges and bars:"
   ]
  },
  {
   "cell_type": "code",
   "execution_count": null,
   "metadata": {
    "collapsed": false,
    "inputHidden": false,
    "outputHidden": false,
    "papermill": {
     "duration": null,
     "end_time": null,
     "exception": null,
     "start_time": null,
     "status": "completed"
    },
    "tags": []
   },
   "outputs": [],
   "source": [
    "disks = [a[0] for a in annotations_for_subject if len(a) == 4]\n",
    "bulges = [a[1] for a in annotations_for_subject if len(a) == 4]\n",
    "bars = [a[2] for a in annotations_for_subject if len(a) == 4]"
   ]
  },
  {
   "cell_type": "markdown",
   "metadata": {
    "collapsed": false,
    "inputHidden": false,
    "outputHidden": false,
    "papermill": {
     "duration": null,
     "end_time": null,
     "exception": null,
     "start_time": null,
     "status": "completed"
    },
    "tags": []
   },
   "source": [
    "Let's have a look at these classifications!"
   ]
  },
  {
   "cell_type": "code",
   "execution_count": null,
   "metadata": {
    "collapsed": false,
    "inputHidden": false,
    "outputHidden": false,
    "papermill": {
     "duration": null,
     "end_time": null,
     "exception": null,
     "start_time": null,
     "status": "completed"
    },
    "tags": []
   },
   "outputs": [],
   "source": [
    "def plot_config(n):\n",
    "    plt.subplot(n)\n",
    "    plt.imshow(pic_array, origin='lower', cmap='gray')\n",
    "    return plt.gca()\n",
    "\n",
    "plt.figure(figsize=(21, 8))\n",
    "for i, comp in enumerate((disks, bulges)):\n",
    "    ax = plot_config(131 + i)\n",
    "    for c_ in comp:\n",
    "        try:\n",
    "            c = c_['value'][0]['value'][0]\n",
    "            ax.add_artist(Ellipse(\n",
    "                xy=(c['x'], c['y']),\n",
    "                width=c['rx'], height=c['ry'], angle=-c['angle'],\n",
    "                ec='C{}'.format(i), fc='none', lw=2\n",
    "            ))\n",
    "        except IndexError: pass\n",
    "plt.xlim(200, 300); plt.ylim(200, 300)\n",
    "\n",
    "ax = plot_config(133)\n",
    "c = 0\n",
    "for bar in bars:\n",
    "    try:\n",
    "        b = bar['value'][0]['value'][0]\n",
    "        r = Rectangle(\n",
    "            xy=(b['x'], b['y']),\n",
    "            width=b['width'], height=b['height'],\n",
    "            angle=b['angle'],\n",
    "            ec='C2', fc='none', lw=2\n",
    "        )\n",
    "        ax.add_patch(r)\n",
    "        c += 1\n",
    "    except IndexError: pass\n",
    "plt.xlim(150, 350); plt.ylim(150, 350)\n",
    "print(c)"
   ]
  },
  {
   "cell_type": "markdown",
   "metadata": {
    "collapsed": false,
    "inputHidden": false,
    "outputHidden": false,
    "papermill": {
     "duration": null,
     "end_time": null,
     "exception": null,
     "start_time": null,
     "status": "completed"
    },
    "tags": []
   },
   "source": [
    "We need to wrangle the classifications into a form the aggregation code accepts. This involves\n",
    "- moving sliders to drawing sub-tasks\n",
    "- move all shapes to the zero-th frame\n",
    "- scale the radius according to the radius slider\n",
    "- move the drawn shape out of the combo task, so it's on its own\n",
    "\n",
    "This is all done using the `convert_shape` function inside `wrangle_classifications.py`"
   ]
  },
  {
   "cell_type": "code",
   "execution_count": null,
   "metadata": {
    "collapsed": false,
    "inputHidden": false,
    "outputHidden": false,
    "papermill": {
     "duration": null,
     "end_time": null,
     "exception": null,
     "start_time": null,
     "status": "completed"
    },
    "tags": []
   },
   "outputs": [],
   "source": [
    "converted_disks = [wc.convert_shape(d) for d in disks]\n",
    "converted_bulges = [wc.convert_shape(d) for d in bulges]\n",
    "converted_bars = [wc.convert_shape(d, bar=True) for d in bars]"
   ]
  },
  {
   "cell_type": "markdown",
   "metadata": {
    "collapsed": false,
    "inputHidden": false,
    "outputHidden": false,
    "papermill": {
     "duration": null,
     "end_time": null,
     "exception": null,
     "start_time": null,
     "status": "completed"
    },
    "tags": []
   },
   "source": [
    "Let's have a look at what this transformation did:"
   ]
  },
  {
   "cell_type": "code",
   "execution_count": null,
   "metadata": {
    "collapsed": false,
    "inputHidden": false,
    "outputHidden": false,
    "papermill": {
     "duration": null,
     "end_time": null,
     "exception": null,
     "start_time": null,
     "status": "completed"
    },
    "tags": []
   },
   "outputs": [],
   "source": [
    "plt.figure(figsize=(15, 7))\n",
    "ax = plot_config(121)\n",
    "for d_ in disks:\n",
    "    try:\n",
    "        d = d_['value'][0]['value'][0]\n",
    "        e = Ellipse(\n",
    "            xy=(d['x'], d['y']),\n",
    "            width=d['rx'], height=d['ry'], angle=-d['angle'],\n",
    "            ec='C0', fc='none',\n",
    "        )\n",
    "        ax.add_artist(e)\n",
    "    except IndexError: pass\n",
    "\n",
    "ax = plot_config(122)\n",
    "for d_ in converted_disks:\n",
    "    try:\n",
    "        d = d_['value'][0]\n",
    "        e = Ellipse(\n",
    "            xy=(d['x'], d['y']),\n",
    "            width=d['rx'], height=d['ry'], angle=-d['angle'],\n",
    "            ec='C0', fc='none',\n",
    "        )\n",
    "        ax.add_artist(e)\n",
    "    except IndexError: pass"
   ]
  },
  {
   "cell_type": "markdown",
   "metadata": {
    "collapsed": false,
    "inputHidden": false,
    "outputHidden": false,
    "papermill": {
     "duration": null,
     "end_time": null,
     "exception": null,
     "start_time": null,
     "status": "completed"
    },
    "tags": []
   },
   "source": [
    "Define keyword arguments to be used by the aggregation extractor, and perform the reduction. More info can be found [here](https://aggregation-caesar.zooniverse.org/README.html)"
   ]
  },
  {
   "cell_type": "code",
   "execution_count": null,
   "metadata": {
    "collapsed": false,
    "inputHidden": false,
    "outputHidden": false,
    "papermill": {
     "duration": null,
     "end_time": null,
     "exception": null,
     "start_time": null,
     "status": "completed"
    },
    "tags": []
   },
   "outputs": [],
   "source": [
    "kwargs_extractor = {\n",
    "    'task': 'disk', 'shape': 'ellipse',\n",
    "    'details': {'disk_tool0': [None, 'slider_extractor']},\n",
    "}\n",
    "extracted_disks = [\n",
    "    shape_extractor(\n",
    "        annotation_by_task({ 'annotations': [d] }),\n",
    "        **kwargs_extractor\n",
    "    )\n",
    "    for d in converted_disks\n",
    "]"
   ]
  },
  {
   "cell_type": "markdown",
   "metadata": {
    "collapsed": false,
    "inputHidden": false,
    "outputHidden": false,
    "papermill": {
     "duration": null,
     "end_time": null,
     "exception": null,
     "start_time": null,
     "status": "completed"
    },
    "tags": []
   },
   "source": [
    "Perform the aggregation reduction!"
   ]
  },
  {
   "cell_type": "code",
   "execution_count": null,
   "metadata": {
    "collapsed": false,
    "inputHidden": false,
    "outputExpanded": false,
    "outputHidden": false,
    "papermill": {
     "duration": null,
     "end_time": null,
     "exception": null,
     "start_time": null,
     "status": "completed"
    },
    "tags": []
   },
   "outputs": [],
   "source": [
    "kwargs_reducer = {\n",
    "    'shape': 'ellipse',\n",
    "    'details': {'disk_tool0': [None, 'slider_reducer']},\n",
    "    'eps': 70, 'symmetric': True, 'min_samples': 5,\n",
    "}\n",
    "disk_clustering_result = shape_reducer_dbscan(\n",
    "    extracted_disks,\n",
    "    **kwargs_reducer,\n",
    ")['frame0']"
   ]
  },
  {
   "cell_type": "markdown",
   "metadata": {
    "collapsed": false,
    "inputHidden": false,
    "outputHidden": false,
    "papermill": {
     "duration": null,
     "end_time": null,
     "exception": null,
     "start_time": null,
     "status": "completed"
    },
    "tags": []
   },
   "source": [
    "And plot the output clusters!"
   ]
  },
  {
   "cell_type": "code",
   "execution_count": null,
   "metadata": {
    "collapsed": false,
    "inputHidden": false,
    "outputHidden": false,
    "papermill": {
     "duration": null,
     "end_time": null,
     "exception": null,
     "start_time": null,
     "status": "completed"
    },
    "tags": []
   },
   "outputs": [],
   "source": [
    "plt.figure(figsize=(10, 10))\n",
    "ax = plt.gca()\n",
    "plt.imshow(pic_array, origin='lower', cmap='gray_r')\n",
    "for i in range(len(disk_clustering_result['disk_tool0_ellipse_rx'])):\n",
    "    label = disk_clustering_result['disk_tool0_cluster_labels'][i]\n",
    "    # ignore outliers\n",
    "    if label < 0:\n",
    "        continue\n",
    "    try:\n",
    "        e = Ellipse(\n",
    "            xy=(\n",
    "                disk_clustering_result['disk_tool0_ellipse_x'][i],\n",
    "                disk_clustering_result['disk_tool0_ellipse_x'][i]\n",
    "            ),\n",
    "            width=disk_clustering_result['disk_tool0_ellipse_rx'][i],\n",
    "            height=disk_clustering_result['disk_tool0_ellipse_ry'][i],\n",
    "            angle=-disk_clustering_result['disk_tool0_ellipse_angle'][i],\n",
    "            fc='none', ec='C{}'.format((label) % 10),\n",
    "            alpha=0.5,\n",
    "        )\n",
    "        ax.add_artist(e)\n",
    "    except IndexError:\n",
    "        pass\n",
    "    except KeyError as e:\n",
    "        print(d)\n",
    "        raise(e)\n",
    "\n",
    "for label in np.unique(disk_clustering_result['disk_tool0_cluster_labels']):\n",
    "    if label > -1:\n",
    "        final_disk = Ellipse(\n",
    "            xy=(disk_clustering_result['disk_tool0_clusters_x'][label], disk_clustering_result['disk_tool0_clusters_y'][label]),\n",
    "            width=disk_clustering_result['disk_tool0_clusters_rx'][label],\n",
    "            height=disk_clustering_result['disk_tool0_clusters_ry'][label],\n",
    "            angle=-disk_clustering_result['disk_tool0_clusters_angle'][label],\n",
    "            ec='C{}'.format(label),\n",
    "            linewidth=3,\n",
    "            fc='none',\n",
    "        )\n",
    "\n",
    "        ax.add_artist(final_disk)"
   ]
  },
  {
   "cell_type": "code",
   "execution_count": null,
   "metadata": {
    "collapsed": false,
    "inputHidden": false,
    "outputHidden": false,
    "papermill": {
     "duration": null,
     "end_time": null,
     "exception": null,
     "start_time": null,
     "status": "completed"
    },
    "tags": []
   },
   "outputs": [],
   "source": [
    "kwargs_extractor = {\n",
    "    'task': 'bulge', 'shape': 'ellipse',\n",
    "    'details': {'bulge_tool0': [None, 'slider_extractor', 'slider_extractor']},\n",
    "}\n",
    "kwargs_reducer = {\n",
    "    'shape': 'ellipse',\n",
    "    'details': {'bulge_tool0': [None, 'slider_reducer', 'slider_reducer']},\n",
    "    'eps': 30, 'symmetric': True, 'min_samples': 5,\n",
    "}\n",
    "bulge_clustering_result = shape_reducer_dbscan(\n",
    "    [\n",
    "        shape_extractor(\n",
    "            annotation_by_task({ 'annotations': [b] }),\n",
    "            **kwargs_extractor\n",
    "        )\n",
    "        for b in converted_bulges\n",
    "    ],\n",
    "    **kwargs_reducer,\n",
    ")['frame0']"
   ]
  },
  {
   "cell_type": "code",
   "execution_count": null,
   "metadata": {
    "collapsed": false,
    "inputHidden": false,
    "outputHidden": false,
    "papermill": {
     "duration": null,
     "end_time": null,
     "exception": null,
     "start_time": null,
     "status": "completed"
    },
    "tags": []
   },
   "outputs": [],
   "source": [
    "plt.figure(figsize=(10, 10))\n",
    "ax = plt.gca()\n",
    "plt.imshow(pic_array, origin='lower', cmap='gray_r')\n",
    "for i in range(len(bulge_clustering_result['bulge_tool0_ellipse_rx'])):\n",
    "    label = bulge_clustering_result['bulge_tool0_cluster_labels'][i]\n",
    "    # ignore outliers\n",
    "    if label < 0:\n",
    "        continue\n",
    "    try:\n",
    "        e = Ellipse(\n",
    "            xy=(\n",
    "                bulge_clustering_result['bulge_tool0_ellipse_x'][i],\n",
    "                bulge_clustering_result['bulge_tool0_ellipse_x'][i]\n",
    "            ),\n",
    "            width=bulge_clustering_result['bulge_tool0_ellipse_rx'][i],\n",
    "            height=bulge_clustering_result['bulge_tool0_ellipse_ry'][i],\n",
    "            angle=-bulge_clustering_result['bulge_tool0_ellipse_angle'][i],\n",
    "            fc='none', ec='C{}'.format((label) % 10),\n",
    "            alpha=0.5,\n",
    "        )\n",
    "        ax.add_artist(e)\n",
    "    except IndexError:\n",
    "        pass\n",
    "    except KeyError as e:\n",
    "        print(d)\n",
    "        raise(e)\n",
    "\n",
    "for label in np.unique(bulge_clustering_result['bulge_tool0_cluster_labels']):\n",
    "    if label > -1:\n",
    "        final_bulge = Ellipse(\n",
    "            xy=(bulge_clustering_result['bulge_tool0_clusters_x'][label], bulge_clustering_result['bulge_tool0_clusters_y'][label]),\n",
    "            width=bulge_clustering_result['bulge_tool0_clusters_rx'][label],\n",
    "            height=bulge_clustering_result['bulge_tool0_clusters_ry'][label],\n",
    "            angle=-bulge_clustering_result['bulge_tool0_clusters_angle'][label],\n",
    "            ec='C{}'.format(label),\n",
    "            linewidth=3,\n",
    "            fc='none',\n",
    "        )\n",
    "\n",
    "        ax.add_artist(final_bulge)"
   ]
  },
  {
   "cell_type": "code",
   "execution_count": null,
   "metadata": {
    "collapsed": false,
    "inputHidden": false,
    "outputHidden": false,
    "papermill": {
     "duration": null,
     "end_time": null,
     "exception": null,
     "start_time": null,
     "status": "completed"
    },
    "tags": []
   },
   "outputs": [],
   "source": [
    "kwargs_extractor = {\n",
    "    'task': 'bar', 'shape': 'rotateRectangle',\n",
    "    'details': {'bar_tool0': [None, 'slider_extractor', 'slider_extractor', 'slider_extractor']},\n",
    "}\n",
    "kwargs_reducer = {\n",
    "    'shape': 'rotateRectangle',\n",
    "    'details': {'bar_tool0': [None, 'slider_reducer', 'slider_reducer', 'slider_reducer']},\n",
    "    'eps': 50, 'symmetric': True, 'min_samples': 5,\n",
    "}\n",
    "bar_clustering_result = shape_reducer_dbscan(\n",
    "    [\n",
    "        shape_extractor(\n",
    "            annotation_by_task({ 'annotations': [b] }),\n",
    "            **kwargs_extractor\n",
    "        )\n",
    "        for b in converted_bars\n",
    "    ],\n",
    "    **kwargs_reducer,\n",
    ")['frame0']"
   ]
  },
  {
   "cell_type": "code",
   "execution_count": null,
   "metadata": {
    "collapsed": false,
    "inputHidden": false,
    "outputHidden": false,
    "papermill": {
     "duration": null,
     "end_time": null,
     "exception": null,
     "start_time": null,
     "status": "completed"
    },
    "tags": []
   },
   "outputs": [],
   "source": [
    "# bar_clustering_result"
   ]
  },
  {
   "cell_type": "code",
   "execution_count": null,
   "metadata": {
    "collapsed": false,
    "inputHidden": false,
    "outputHidden": false,
    "papermill": {
     "duration": null,
     "end_time": null,
     "exception": null,
     "start_time": null,
     "status": "completed"
    },
    "tags": []
   },
   "outputs": [],
   "source": [
    "plt.figure(figsize=(10, 10))\n",
    "ax = plt.gca()\n",
    "plt.imshow(pic_array, origin='lower', cmap='gray_r')\n",
    "for i in range(len(bar_clustering_result['bar_tool0_rotateRectangle_x'])):\n",
    "    label = bar_clustering_result['bar_tool0_cluster_labels'][i]\n",
    "    # ignore outliers\n",
    "    if label < 0:\n",
    "        continue\n",
    "    try:\n",
    "        r = Rectangle(\n",
    "            xy=(\n",
    "                bar_clustering_result['bar_tool0_rotateRectangle_x'][i],\n",
    "                bar_clustering_result['bar_tool0_rotateRectangle_x'][i]\n",
    "            ),\n",
    "            width=bar_clustering_result['bar_tool0_rotateRectangle_width'][i],\n",
    "            height=bar_clustering_result['bar_tool0_rotateRectangle_height'][i],\n",
    "            angle=bar_clustering_result['bar_tool0_rotateRectangle_angle'][i],\n",
    "            fc='none', ec='C{}'.format((label) % 10),\n",
    "            alpha=0.9,\n",
    "        )\n",
    "        ax.add_patch(r)\n",
    "    except IndexError:\n",
    "        pass\n",
    "    except KeyError as e:\n",
    "        print(d)\n",
    "        raise(e)\n",
    "\n",
    "for label in np.unique(bar_clustering_result['bar_tool0_cluster_labels']):\n",
    "    if label > -1:\n",
    "        print('adding final bar')\n",
    "        final_bar = Rectangle(\n",
    "            xy=(\n",
    "                bar_clustering_result['bar_tool0_clusters_x'][label],\n",
    "                bar_clustering_result['bar_tool0_clusters_x'][label]\n",
    "            ),\n",
    "            width=bar_clustering_result['bar_tool0_clusters_width'][label],\n",
    "            height=bar_clustering_result['bar_tool0_clusters_height'][label],\n",
    "            angle=bar_clustering_result['bar_tool0_clusters_angle'][label],\n",
    "            ec='C{}'.format(label),\n",
    "            linewidth=3,\n",
    "            fc='none',\n",
    "        )\n",
    "        ax.add_patch(final_bar)"
   ]
  },
  {
   "cell_type": "markdown",
   "metadata": {
    "collapsed": false,
    "inputHidden": false,
    "outputHidden": false,
    "papermill": {
     "duration": null,
     "end_time": null,
     "exception": null,
     "start_time": null,
     "status": "completed"
    },
    "tags": []
   },
   "source": [
    "## Model Rendering\n",
    "\n",
    "For simplicity, we'll only care about the \"zeroth\" cluster label."
   ]
  },
  {
   "cell_type": "markdown",
   "metadata": {
    "collapsed": false,
    "inputHidden": false,
    "outputHidden": false,
    "papermill": {
     "duration": null,
     "end_time": null,
     "exception": null,
     "start_time": null,
     "status": "completed"
    },
    "tags": []
   },
   "source": [
    "Let's render the resulting galaxy and see what it looks like!\n",
    "\n",
    "First, we need to transform our object back from Zooniverse image space to the original data space (512x512 image to 141x141)"
   ]
  },
  {
   "cell_type": "code",
   "execution_count": null,
   "metadata": {
    "collapsed": false,
    "inputHidden": false,
    "outputHidden": false,
    "papermill": {
     "duration": null,
     "end_time": null,
     "exception": null,
     "start_time": null,
     "status": "completed"
    },
    "tags": []
   },
   "outputs": [],
   "source": [
    "diff_data = gu.get_image_data(subject_id)\n",
    "galaxy_data_flipped = np.array(diff_data['imageData'])\n",
    "_ = plt.imshow(galaxy_data_flipped, cmap='gray_r', origin='lower')"
   ]
  },
  {
   "cell_type": "markdown",
   "metadata": {
    "collapsed": false,
    "inputHidden": false,
    "outputHidden": false,
    "papermill": {
     "duration": null,
     "end_time": null,
     "exception": null,
     "start_time": null,
     "status": "completed"
    },
    "tags": []
   },
   "source": [
    "It's worth noting that the y-axis is flipped from the image used before (which is the image shown to volunteers)."
   ]
  },
  {
   "cell_type": "code",
   "execution_count": null,
   "metadata": {
    "collapsed": false,
    "inputHidden": false,
    "outputHidden": false,
    "papermill": {
     "duration": null,
     "end_time": null,
     "exception": null,
     "start_time": null,
     "status": "completed"
    },
    "tags": []
   },
   "outputs": [],
   "source": [
    "galaxy_data = galaxy_data_flipped[::-1]\n",
    "size_diff = diff_data['width'] / diff_data['imageWidth']"
   ]
  },
  {
   "cell_type": "markdown",
   "metadata": {
    "collapsed": false,
    "inputHidden": false,
    "outputHidden": false,
    "papermill": {
     "duration": null,
     "end_time": null,
     "exception": null,
     "start_time": null,
     "status": "completed"
    },
    "tags": []
   },
   "source": [
    "Now we'll compile some parameters needed for model rendering:\n",
    "\n",
    "First the Disk component"
   ]
  },
  {
   "cell_type": "code",
   "execution_count": null,
   "metadata": {
    "collapsed": false,
    "inputHidden": false,
    "outputHidden": false,
    "papermill": {
     "duration": null,
     "end_time": null,
     "exception": null,
     "start_time": null,
     "status": "completed"
    },
    "tags": []
   },
   "outputs": [],
   "source": [
    "rEff_disk = max(\n",
    "    disk_clustering_result['disk_tool0_clusters_rx'][0],\n",
    "    disk_clustering_result['disk_tool0_clusters_ry'][0],\n",
    ")\n",
    "axRatio_disk = disk_clustering_result['disk_tool0_clusters_rx'][0] \\\n",
    "    / disk_clustering_result['disk_tool0_clusters_ry'][0]\n",
    "\n",
    "roll_disk = disk_clustering_result['disk_tool0_clusters_angle'][0] \\\n",
    "    + (0 if axRatio_disk > 1 else 90)\n",
    "axRatio_disk = (1 / axRatio_disk if axRatio_disk > 1 else axRatio_disk)"
   ]
  },
  {
   "cell_type": "code",
   "execution_count": null,
   "metadata": {
    "collapsed": false,
    "inputHidden": false,
    "outputHidden": false,
    "papermill": {
     "duration": null,
     "end_time": null,
     "exception": null,
     "start_time": null,
     "status": "completed"
    },
    "tags": []
   },
   "outputs": [],
   "source": [
    "disk_to_render = {\n",
    "    'mu': np.array((\n",
    "        disk_clustering_result['disk_tool0_clusters_x'][0], disk_clustering_result['disk_tool0_clusters_y'][0]\n",
    "    )) * size_diff,\n",
    "    'roll': np.deg2rad(roll_disk),\n",
    "    'rEff': rEff_disk * size_diff,\n",
    "    'axRatio': axRatio_disk,\n",
    "    'c': 2,\n",
    "    'i0': disk_clustering_result['disk_tool0_clusters_details'][0][1]['slider_mean'],\n",
    "    'n': 1\n",
    "}\n",
    "print('Disk parameters:')\n",
    "pprint(disk_to_render)"
   ]
  },
  {
   "cell_type": "markdown",
   "metadata": {
    "collapsed": false,
    "inputHidden": false,
    "outputHidden": false,
    "papermill": {
     "duration": null,
     "end_time": null,
     "exception": null,
     "start_time": null,
     "status": "completed"
    },
    "tags": []
   },
   "source": [
    "Then the bulge component"
   ]
  },
  {
   "cell_type": "code",
   "execution_count": null,
   "metadata": {
    "collapsed": false,
    "inputHidden": false,
    "outputHidden": false,
    "papermill": {
     "duration": null,
     "end_time": null,
     "exception": null,
     "start_time": null,
     "status": "completed"
    },
    "tags": []
   },
   "outputs": [],
   "source": [
    "rEff_bulge = max(\n",
    "    bulge_clustering_result['bulge_tool0_clusters_rx'][0],\n",
    "    bulge_clustering_result['bulge_tool0_clusters_ry'][0],\n",
    ")\n",
    "axRatio_bulge = bulge_clustering_result['bulge_tool0_clusters_rx'][0] \\\n",
    "    / bulge_clustering_result['bulge_tool0_clusters_ry'][0]\n",
    "\n",
    "roll_bulge = bulge_clustering_result['bulge_tool0_clusters_angle'][0] \\\n",
    "    + (0 if axRatio_bulge > 1 else 90)\n",
    "axRatio_bulge = (1 / axRatio_bulge if axRatio_bulge > 1 else axRatio_bulge)"
   ]
  },
  {
   "cell_type": "code",
   "execution_count": null,
   "metadata": {
    "collapsed": false,
    "inputHidden": false,
    "outputHidden": false,
    "papermill": {
     "duration": null,
     "end_time": null,
     "exception": null,
     "start_time": null,
     "status": "completed"
    },
    "tags": []
   },
   "outputs": [],
   "source": [
    "bulge_to_render = {\n",
    "    'mu': np.array((\n",
    "        bulge_clustering_result['bulge_tool0_clusters_x'][0], bulge_clustering_result['bulge_tool0_clusters_y'][0]\n",
    "    )) * size_diff,\n",
    "    'roll': np.deg2rad(roll_bulge),\n",
    "    'rEff': rEff_bulge * size_diff,\n",
    "    'axRatio': axRatio_bulge,\n",
    "    'c': 2,\n",
    "    'i0': bulge_clustering_result['bulge_tool0_clusters_details'][0][1]['slider_mean'],\n",
    "    'n': bulge_clustering_result['bulge_tool0_clusters_details'][0][2]['slider_mean'],\n",
    "}\n",
    "print('Bulge parameters:')\n",
    "pprint(bulge_to_render)"
   ]
  },
  {
   "cell_type": "code",
   "execution_count": null,
   "metadata": {
    "collapsed": false,
    "inputHidden": false,
    "outputHidden": false,
    "papermill": {
     "duration": null,
     "end_time": null,
     "exception": null,
     "start_time": null,
     "status": "completed"
    },
    "tags": []
   },
   "outputs": [],
   "source": [
    "disk_arr = rg.sersic_comp(disk_to_render, image_size=diff_data['width'],\n",
    "                          oversample_n=5)\n",
    "final_disk_kwargs = {\n",
    "    'xy': disk_to_render['mu'],\n",
    "    'width': disk_to_render['rEff'] * disk_to_render['axRatio'],\n",
    "    'height': disk_to_render['rEff'],\n",
    "    'angle': 90 - np.rad2deg(disk_to_render['roll']),\n",
    "    'ec': 'C0',\n",
    "    'linewidth': 3,\n",
    "    'fc': 'none',\n",
    "}"
   ]
  },
  {
   "cell_type": "code",
   "execution_count": null,
   "metadata": {
    "collapsed": false,
    "inputHidden": false,
    "outputHidden": false,
    "papermill": {
     "duration": null,
     "end_time": null,
     "exception": null,
     "start_time": null,
     "status": "completed"
    },
    "tags": []
   },
   "outputs": [],
   "source": [
    "bulge_arr = rg.sersic_comp(bulge_to_render, image_size=diff_data['width'],\n",
    "                          oversample_n=5)\n",
    "final_bulge_kwargs = {\n",
    "    'xy': bulge_to_render['mu'],\n",
    "    'width': bulge_to_render['rEff'] * bulge_to_render['axRatio'],\n",
    "    'height': bulge_to_render['rEff'],\n",
    "    'angle': 90 - np.rad2deg(bulge_to_render['roll']),\n",
    "    'ec': 'C1',\n",
    "    'linewidth': 3,\n",
    "    'fc': 'none',\n",
    "}"
   ]
  },
  {
   "cell_type": "code",
   "execution_count": null,
   "metadata": {
    "collapsed": false,
    "inputHidden": false,
    "outputHidden": false,
    "papermill": {
     "duration": null,
     "end_time": null,
     "exception": null,
     "start_time": null,
     "status": "completed"
    },
    "tags": []
   },
   "outputs": [],
   "source": [
    "rg.plot_model(disk_arr, psf, galaxy_data)\n",
    "_ = plt.gca().add_artist(Ellipse(**final_disk_kwargs))"
   ]
  },
  {
   "cell_type": "code",
   "execution_count": null,
   "metadata": {
    "collapsed": false,
    "inputHidden": false,
    "outputHidden": false,
    "papermill": {
     "duration": null,
     "end_time": null,
     "exception": null,
     "start_time": null,
     "status": "completed"
    },
    "tags": []
   },
   "outputs": [],
   "source": [
    "_, a0, a1, a2 = rg.plot_model(bulge_arr, psf, galaxy_data, return_ax=True)\n",
    "_ = a2.add_artist(Ellipse(**final_bulge_kwargs))"
   ]
  },
  {
   "cell_type": "code",
   "execution_count": null,
   "metadata": {
    "collapsed": false,
    "inputHidden": false,
    "outputHidden": false,
    "papermill": {
     "duration": null,
     "end_time": null,
     "exception": null,
     "start_time": null,
     "status": "completed"
    },
    "tags": []
   },
   "outputs": [],
   "source": [
    "difference_data = rg.plot_model(disk_arr + bulge_arr, psf, galaxy_data)"
   ]
  },
  {
   "cell_type": "code",
   "execution_count": null,
   "metadata": {
    "collapsed": false,
    "inputHidden": false,
    "outputHidden": false,
    "papermill": {
     "duration": null,
     "end_time": null,
     "exception": null,
     "start_time": null,
     "status": "completed"
    },
    "tags": []
   },
   "outputs": [],
   "source": [
    "galaxy_object = gu.get_galaxy_spirals(\n",
    "    gal, angle, int(subject_id), gu.classifications\n",
    ")"
   ]
  },
  {
   "cell_type": "code",
   "execution_count": null,
   "metadata": {
    "collapsed": false,
    "inputHidden": false,
    "outputHidden": false,
    "papermill": {
     "duration": null,
     "end_time": null,
     "exception": null,
     "start_time": null,
     "status": "completed"
    },
    "tags": []
   },
   "outputs": [],
   "source": [
    "arm_fits = galaxy_object.fit_arms()"
   ]
  },
  {
   "cell_type": "code",
   "execution_count": null,
   "metadata": {
    "collapsed": false,
    "inputHidden": false,
    "outputHidden": false,
    "papermill": {
     "duration": null,
     "end_time": null,
     "exception": null,
     "start_time": null,
     "status": "completed"
    },
    "tags": []
   },
   "outputs": [],
   "source": [
    "# turn off interactive plotting to avoid double plotting\n",
    "plt.ioff()"
   ]
  },
  {
   "cell_type": "code",
   "execution_count": null,
   "metadata": {
    "collapsed": false,
    "inputHidden": false,
    "outputHidden": false,
    "papermill": {
     "duration": null,
     "end_time": null,
     "exception": null,
     "start_time": null,
     "status": "completed"
    },
    "tags": []
   },
   "outputs": [],
   "source": [
    "log_fits = [a['log_spiral'] for a in arm_fits]\n",
    "polynomial_fits = [a['polynomial'] for a in arm_fits]\n",
    "\n",
    "fig = plt.figure(figsize=(10, 10))\n",
    "plt.imshow(rg.asinh_stretch(galaxy_data, 0.1), origin='lower', cmap='gray_r')\n",
    "for i in range(len(log_fits)):\n",
    "    plt.plot(*log_fits[i].T * size_diff, c='C3', linewidth=2)\n",
    "    plt.plot(*polynomial_fits[i].T * size_diff, '--', c='C4', linewidth=2)\n",
    "\n",
    "_ = plt.gca().add_artist(Ellipse(**final_disk_kwargs))\n",
    "_ = plt.gca().add_artist(Ellipse(**final_bulge_kwargs))\n",
    "\n",
    "solid_line = mlines.Line2D([], [], color='C3', label=r'Log spiral fits of $\\theta(\\ln(r))$')\n",
    "dashed_line = mlines.Line2D([], [], ls='--', color='C4', label=r'Polynomial fits of $\\theta(r)$')\n",
    "plt.legend(handles=[solid_line, dashed_line])\n",
    "plt.savefig('clustered-components-images/subject-{}'.format(subject_id))\n",
    "_ = pm.display('clustered_components', f)"
   ]
  },
  {
   "cell_type": "code",
   "execution_count": null,
   "metadata": {
    "collapsed": false,
    "inputHidden": false,
    "outputHidden": false,
    "papermill": {
     "duration": null,
     "end_time": null,
     "exception": null,
     "start_time": null,
     "status": "completed"
    },
    "tags": []
   },
   "outputs": [],
   "source": [
    "# v = DictVectorizer(sparse=False)\n",
    "# flattened_disks = wc.sklearn_flatten([c['value'][0] for c in converted_disks if len(c['value'])])\n",
    "# X = v.fit_transform(flattened_disks)\n",
    "# df_disk = pd.DataFrame(X, columns=v.get_feature_names()).drop(['frame', 'scaleSlider', 'tool'], axis=1)"
   ]
  },
  {
   "cell_type": "code",
   "execution_count": null,
   "metadata": {
    "collapsed": false,
    "inputHidden": false,
    "outputHidden": false,
    "papermill": {
     "duration": null,
     "end_time": null,
     "exception": null,
     "start_time": null,
     "status": "completed"
    },
    "tags": []
   },
   "outputs": [],
   "source": [
    "# from scipy.special import gamma\n",
    "# from scipy.optimize import curve_fit\n",
    "# def gd(x, A, alpha, beta):\n",
    "#     return A * beta**alpha / gamma(alpha) * x**(alpha-1) * np.exp(-beta * x) \n",
    "\n",
    "# all_annotations = [c['annotations'] for c in classifications]\n",
    "# def grab_slider_spread(annotation):\n",
    "#     try:\n",
    "#         return [float(j['details'][1]['value']) for j in annotation[3]['value'][0]['value']]\n",
    "#     except (KeyError, IndexError):\n",
    "#         return []\n",
    "# width_sliders = np.array([j for i in all_annotations for j in grab_slider_spread(i)])\n",
    "# default_mask = width_sliders == 1.0\n",
    "# min_max_mask = (width_sliders == 0.0) ^ (width_sliders == 2.0)\n",
    "# width_sliders_filtered = width_sliders[~(default_mask ^ min_max_mask)]\n",
    "\n",
    "# sigmas = np.sqrt(5 * width_sliders_filtered)"
   ]
  }
 ],
 "metadata": {
  "kernel_info": {
   "name": "python3"
  },
  "kernelspec": {
   "display_name": "Python 3",
   "language": "python",
   "name": "python3"
  },
  "language_info": {
   "codemirror_mode": {
    "name": "ipython",
    "version": 3
   },
   "file_extension": ".py",
   "mimetype": "text/x-python",
   "name": "python",
   "nbconvert_exporter": "python",
   "pygments_lexer": "ipython3",
   "version": "3.7.0"
  },
  "nteract": {
   "version": "0.12.3"
  },
  "papermill": {
   "duration": 5.425333,
   "end_time": "2018-11-23T14:14:53.141560",
   "environment_variables": {},
   "exception": null,
   "input_path": "cluster-bulge-disk.ipynb",
   "output_path": "./cluster-output/subject_id-21686612.ipynb",
   "parameters": {
    "subject_id": 21686612
   },
   "start_time": "2018-11-23T14:14:47.716227",
   "version": "0.16.1"
  }
 },
 "nbformat": 4,
 "nbformat_minor": 4
}