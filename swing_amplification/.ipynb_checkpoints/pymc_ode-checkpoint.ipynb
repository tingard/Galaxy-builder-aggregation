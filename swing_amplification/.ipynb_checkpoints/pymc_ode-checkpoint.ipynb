{
  "cells": [
    {
      "cell_type": "markdown",
      "source": [
        "# Swing-amplification spiral ODE-solver\n",
        "\n",
        "## Problem\n",
        "Swing-amplification as a spiral-arm formation mechanism makes predictions about the shape of spiral arms (at least using linear density wave theory).\n",
        "Can we test those predictions against \n",
        "\n",
        "## Method\n",
        "Assume the galaxy has a flat roation curve. The equation for a flat rotation curve is\n",
        "$$\\Omega = \\frac{a}{2\\pi r}\\tanh{br}.$$\n",
        "\n",
        "Thus the rotational shear of a flat rotation curve is given by\n",
        "$$\\Gamma = -\\frac{d\\log\\Omega}{d\\log{r}} = -r\\frac{d\\ln\\Omega}{dr} = 1 - \\frac{4 b r e^{2br}}{e^{4br} - 1}.$$\n",
        "\n",
        "Swing-amplification predicts that the spiral arm's pitch angle $\\phi$ is approximately\n",
        "$$\\tan\\phi \\approx \\frac{2}{7}\\frac{\\sqrt{4 - 2\\Gamma}}{\\Gamma}.$$\n",
        "\n",
        "Combining this with the definition of pitch angle (note that constant $\\phi$ results in log spiral $r=ae^{\\theta\\tan{\\phi}}$) gives\n",
        "$$\\frac{r'}{r} = \\tan\\phi \\approx \\frac{2}{7}\\frac{\\sqrt{4 - 2\\Gamma}}{\\Gamma}.$$\n",
        "\n",
        "Define $R := 2br$, we then have that\n",
        "$$\\Gamma = 1 - \\frac{2 R e^{R}}{e^{R} - 1} = 1 - \\frac{R}{\\sinh{R}}.$$\n",
        "$$\\frac{\\mathrm{d}R}{\\mathrm{d}\\theta} = R' = \\frac{2\\sqrt{2}}{7}R\\frac{\\sqrt{1 + \\frac{R}{\\sinh{R}}}}{1 - \\frac{R}{\\sinh{R}}}.$$\n",
        "\n",
        "Given \n",
        "$$\\frac{\\mathrm{d}R}{\\mathrm{d}\\theta} = \\frac{\\mathrm{d}R}{\\mathrm{d}r}\\frac{\\mathrm{d}r}{\\mathrm{d}\\theta} = 2br',$$\n",
        "\n",
        "We obtain the differential equation\n",
        "$$r' = \\frac{2\\sqrt{2}}{7}r\\frac{\\sqrt{1 + \\frac{2br}{\\sinh{2br}}}}{1 - \\frac{2br}{\\sinh{2br}}}.$$\n"
      ],
      "metadata": {}
    },
    {
      "cell_type": "code",
      "source": [
        "import numpy as np\n",
        "import scipy as sp\n",
        "from scipy.integrate import odeint\n",
        "from sklearn.metrics import r2_score\n",
        "import matplotlib.pyplot as plt\n",
        "import pymc3 as pm\n",
        "import theano\n",
        "import theano.tensor as tt\n",
        "from scipy import optimize\n",
        "from IPython.display import display\n",
        "from numba import jit\n",
        "from gzbuilderspirals import fitting\n",
        "from gzbuilderspirals import xy_from_r_theta\n",
        "from IPython.display import display"
      ],
      "outputs": [],
      "execution_count": null,
      "metadata": {
        "id": "F3EZY3P6u3sT",
        "colab_type": "code",
        "colab": {}
      }
    },
    {
      "cell_type": "code",
      "source": [
        "theano.__version__"
      ],
      "outputs": [],
      "execution_count": null,
      "metadata": {
        "collapsed": false,
        "outputHidden": false,
        "inputHidden": false
      }
    },
    {
      "cell_type": "code",
      "source": [
        "plt.style.use('seaborn')"
      ],
      "outputs": [],
      "execution_count": null,
      "metadata": {
        "id": "xDpIYzN_yqXf",
        "colab_type": "code",
        "colab": {}
      }
    },
    {
      "cell_type": "code",
      "source": [
        "N = 500\n",
        "theta = np.linspace(1, 2* np.pi, N)\n",
        "\n",
        "@jit(nopython=True)\n",
        "def dydt(r, theta, b):\n",
        "    R = 2 * b * r\n",
        "    s = np.sinh(R)\n",
        "    return (\n",
        "        2*np.sqrt(2) / 7 * r\n",
        "        * np.sqrt(1 + R / s) / (1 - R / s)\n",
        "    )\n",
        "# call to trigger a numba compilation (use odeint to ensure \n",
        "# consistent function signature)\n",
        "%timeit _ = odeint(dydt, 1, theta, args=(1,))[:, 0]"
      ],
      "outputs": [],
      "execution_count": null,
      "metadata": {
        "id": "oaq2NOUCu9FJ",
        "colab_type": "code",
        "outputId": "5dde7f0b-1973-492c-b2c9-a979d11db298",
        "colab": {
          "base_uri": "https://localhost:8080/",
          "height": 364
        }
      }
    },
    {
      "cell_type": "code",
      "source": [
        "true_b = 0.1\n",
        "true_r0 = 10\n",
        "true_sigma = 3\n",
        "y = odeint(dydt, true_r0, theta, args=(true_b,))[:, 0]\n",
        "noise = np.random.normal(size=theta.size, scale=true_sigma)\n",
        "y_obs = y + noise\n",
        "plt.plot(theta, y_obs, 'k.', alpha=0.3)\n",
        "plt.plot(theta, y, 'C0')\n",
        "plt.title(r'$b = {}$, $r_0 = {}$, $\\sigma = {}$'.format(true_b, true_r0, true_sigma));"
      ],
      "outputs": [],
      "execution_count": null,
      "metadata": {
        "collapsed": false,
        "outputHidden": false,
        "inputHidden": false
      }
    },
    {
      "cell_type": "markdown",
      "source": [
        "This is a difficult-to-solve problem, as combinations of parameters very different from the true values can create realistic outputs, for example:"
      ],
      "metadata": {
        "id": "XCYvX9Vk_J__",
        "colab_type": "text"
      }
    },
    {
      "cell_type": "code",
      "source": [
        "bad_b = 10\n",
        "bad_r0 = 13.8\n",
        "bad_y = odeint(dydt, bad_r0, theta, args=(bad_b,))[:, 0]\n",
        "plt.plot(theta, y_obs, 'k.', alpha=0.3)\n",
        "plt.plot(theta, y, 'C0', linewidth=8, alpha=0.6, label='True: $b = {}$, $r_0 = {}$'.format(true_b, true_r0))\n",
        "plt.plot(theta, bad_y, 'r', label='$b = {}$, $r_0 = {}$'.format(bad_b, bad_r0))\n",
        "plt.legend();"
      ],
      "outputs": [],
      "execution_count": null,
      "metadata": {
        "id": "82PS9YYBC_YR",
        "colab_type": "code",
        "outputId": "ba8d525b-1b20-4518-bb2a-d32e72d4158f",
        "colab": {
          "base_uri": "https://localhost:8080/",
          "height": 364
        }
      }
    },
    {
      "cell_type": "markdown",
      "source": [
        "A log spiral would also be an acceptable profile!"
      ],
      "metadata": {}
    },
    {
      "cell_type": "code",
      "source": [
        "logsp_model = fitting.get_log_spiral_pipeline()\n",
        "logsp_model.fit(theta[y_obs > 0].reshape(-1, 1), y_obs[y_obs > 0])\n",
        "t_predict = np.linspace(min(theta), max(theta), 500)\n",
        "y_logsp = logsp_model.predict(t_predict.reshape(-1, 1))\n",
        "plt.plot(theta, y_obs, 'k.', alpha=0.3)\n",
        "plt.plot(theta, y, 'C0', linewidth=8, alpha=0.6, label='True: $b = {}$, $r_0 = {}$'.format(true_b, true_r0))\n",
        "plt.plot(t_predict, y_logsp, 'C1', linewidth=3, label='Log spiral')\n",
        "plt.legend();"
      ],
      "outputs": [],
      "execution_count": null,
      "metadata": {
        "collapsed": false,
        "outputHidden": false,
        "inputHidden": false
      }
    },
    {
      "cell_type": "markdown",
      "source": [
        "Let's get some sensible starting guesses, optimize the absolute error of the odeint"
      ],
      "metadata": {}
    },
    {
      "cell_type": "code",
      "source": [
        "def f(p, score_func=r2_score):\n",
        "    # p = (b, r0)\n",
        "    y = odeint(dydt, p[1], theta, args=(p[0],))[:, 0]\n",
        "    return score_func(y, y_obs)\n",
        "\n",
        "res = optimize.minimize(f, (0.1, 0.1))\n",
        "guess_b, guess_r0 = res['x']\n",
        "y_guess = odeint(dydt, guess_r0, theta, args=(guess_b,))[:, 0]\n",
        "guess_sigma = (y_obs - y_guess).std()\n",
        "print('Guesses from regression:')\n",
        "print('\\tb: {:.4f}, r_0: {:.4f}, sigma: {:.4f}'.format(\n",
        "    guess_b, guess_r0, guess_sigma\n",
        "))\n",
        "print('Errors on guesses:')\n",
        "print('\\tb: {:.2%}, r_0: {:.2%}, sigma: {:.2%}'.format(\n",
        "    abs(true_b - guess_b) / true_b,\n",
        "  abs(true_r0 - guess_r0) / true_r0,\n",
        "  abs(true_sigma - guess_sigma) / true_sigma\n",
        "))\n",
        "plt.plot(theta, y_obs, 'k.', alpha=0.3)\n",
        "plt.plot(theta, y, 'C0', linewidth=8, alpha=0.6)\n",
        "plt.plot(theta, y_guess, 'g', linewidth=3);"
      ],
      "outputs": [],
      "execution_count": null,
      "metadata": {
        "collapsed": false,
        "outputHidden": false,
        "inputHidden": false
      }
    },
    {
      "cell_type": "markdown",
      "source": [
        "Okay, that's a pretty good starting point! Compare the possible fits using their r2 score:"
      ],
      "metadata": {}
    },
    {
      "cell_type": "code",
      "source": [
        "from sklearn.metrics import r2_score\n",
        "print('{:<30} {:.4f}'.format('True value:', r2_score(y_obs, y)))\n",
        "print('{:<30} {:.4f}'.format('Swing amplified spiral:', r2_score(y_obs, y_guess)))\n",
        "print('{:<30} {:.4f}'.format('Bad swing amplified spiral:', r2_score(y_obs, bad_y)))\n",
        "print('{:<30} {:.4f}'.format('Log spiral:', r2_score(y_obs, y_logsp)))"
      ],
      "outputs": [],
      "execution_count": null,
      "metadata": {
        "collapsed": false,
        "outputHidden": false,
        "inputHidden": false
      }
    },
    {
      "cell_type": "markdown",
      "source": [
        "It's a pretty close race..."
      ],
      "metadata": {}
    },
    {
      "cell_type": "markdown",
      "source": [
        "## Monte Carlo solving\n",
        "\n",
        "Let's feed this into a `pymc3` solver which makes use of the RK4 algorithm coded in theano (thanks Coleman!).\n",
        "\n",
        "Priors can be seen in the diagram below. All distributions have their test value set to the result from the fit. "
      ],
      "metadata": {}
    },
    {
      "cell_type": "code",
      "source": [
        "# C = 2 * np.sqrt(2) / 7\n",
        "\n",
        "# def theano_dydt(r, theta, b):\n",
        "#     R = 2 * b * r\n",
        "#     s = tt.sinh(R)\n",
        "#     return C * r * tt.sqrt(1 + R / s) / (1 - R / s)\n",
        "\n",
        "# def theano_rk4(t, t_m1, y, *args):\n",
        "#     dt = t - t_m1\n",
        "#     k1 = dt * theano_dydt(y, t, *args)\n",
        "#     k2 = dt * theano_dydt(y + 0.5 * k1, t, *args)\n",
        "#     k3 = dt * theano_dydt(y + 0.5 * k2, t, *args)\n",
        "#     k4 = dt * theano_dydt(y + k3, t, *args)\n",
        "#     y_np1 = y + (1./6.)*k1 + (1./3.)*k2 + (1./3.)*k3 + (1./6.)*k4\n",
        "#     return y_np1\n",
        "\n",
        "# with pm.Model() as mdl_ode:\n",
        "#     logB = pm.Normal('logB', mu=0, sd=10, testval=np.log(guess_b))\n",
        "#     B = tt.exp(logB)\n",
        "#     r_0 = pm.Uniform('r_0', lower=0, upper=100, testval=guess_r0)\n",
        "#     sigma = pm.Exponential('sigma', lam=0.05, testval=guess_sigma)\n",
        "    \n",
        "#     y_est, updates = theano.scan(\n",
        "#         fn=theano_rk4,\n",
        "#         sequences=[\n",
        "#             {'input': tt.as_tensor(theta), 'taps': [0, -1]}\n",
        "#         ],\n",
        "#         outputs_info=r_0,\n",
        "#         non_sequences=[\n",
        "#             B,\n",
        "#         ]\n",
        "#     )\n",
        "\n",
        "#     y_est = tt.concatenate([[r_0], y_est])\n",
        "#     likelihood = pm.Normal('likelihood', mu=y_est, sd=sigma, observed=y_obs)"
      ],
      "outputs": [],
      "execution_count": null,
      "metadata": {
        "id": "q7wbGcg4u-tw",
        "colab_type": "code",
        "colab": {}
      }
    },
    {
      "cell_type": "code",
      "source": [
        "# display(pm.model_to_graphviz(mdl_ode))"
      ],
      "outputs": [],
      "execution_count": null,
      "metadata": {
        "id": "XUzmsMJ5C9uw",
        "colab_type": "code",
        "outputId": "bb45805e-77b8-4609-a985-c0d35ce6be90",
        "colab": {
          "base_uri": "https://localhost:8080/",
          "height": 228
        }
      }
    },
    {
      "cell_type": "code",
      "source": [
        "# with mdl_ode:\n",
        "#     traces_ols = pm.sample(500, tune=500)\n",
        "\n",
        "# display(pm.summary(traces_ols))"
      ],
      "outputs": [],
      "execution_count": null,
      "metadata": {
        "id": "cfsLn1cUC-zM",
        "colab_type": "code",
        "outputId": "a2ba261d-85ad-4785-823e-6156599e7e87",
        "colab": {
          "base_uri": "https://localhost:8080/",
          "height": 102
        }
      }
    },
    {
      "cell_type": "markdown",
      "source": [
        "How have our chains behaved relative to the true values?"
      ],
      "metadata": {}
    },
    {
      "cell_type": "code",
      "source": [
        "# pm.traceplot(traces_ols, lines={'logB': np.log(true_b), 'sigma': true_sigma, 'r_0': true_r0},\n",
        "#              combined=False);"
      ],
      "outputs": [],
      "execution_count": null,
      "metadata": {
        "collapsed": false,
        "outputHidden": false,
        "inputHidden": false
      }
    },
    {
      "cell_type": "markdown",
      "source": [
        "Our posterior KDEs look like:"
      ],
      "metadata": {}
    },
    {
      "cell_type": "code",
      "source": [
        "# pm.plots.plot_posterior(traces_ols);"
      ],
      "outputs": [],
      "execution_count": null,
      "metadata": {
        "collapsed": false,
        "outputHidden": false,
        "inputHidden": false
      }
    },
    {
      "cell_type": "markdown",
      "source": [
        "# Real data\n",
        "\n",
        "Okay, so it works in principle. What about for galaxy builder classifications?"
      ],
      "metadata": {}
    },
    {
      "cell_type": "code",
      "source": [
        "from gzbuilderspirals.oo import Arm\n",
        "a = Arm.load('lib/spiral_arms/20902001-0.pickle')\n",
        "arm = Arm(a.get_parent(), a.arms)\n",
        "arm"
      ],
      "outputs": [],
      "execution_count": null,
      "metadata": {
        "collapsed": false,
        "outputHidden": false,
        "inputHidden": false
      }
    },
    {
      "cell_type": "code",
      "source": [
        "print('Log spiral pitch angle: {:.2f} ± {:.3f}˚'.format(arm.pa, arm.sigma_pa))"
      ],
      "outputs": [],
      "execution_count": null,
      "metadata": {
        "collapsed": false,
        "outputHidden": false,
        "inputHidden": false
      }
    },
    {
      "cell_type": "code",
      "source": [
        "t_gal = arm.t[np.argsort(arm.t)]\n",
        "R_gal = arm.R[np.argsort(arm.t)] * 512\n",
        "groups_gal = arm.groups[np.argsort(arm.t)]\n",
        "R_logsp = arm.logsp_model.predict(t_gal.reshape(-1, 1)) * 512\n",
        "if arm.chirality < 1:\n",
        "    t_gal = np.flip(-t_gal)\n",
        "    R_gal = np.flip(R_gal)\n",
        "    R_logsp = np.flip(R_logsp)"
      ],
      "outputs": [],
      "execution_count": null,
      "metadata": {
        "collapsed": false,
        "outputHidden": false,
        "inputHidden": false
      }
    },
    {
      "cell_type": "code",
      "source": [
        "from sklearn.metrics import mean_squared_error\n",
        "from sklearn.model_selection import GroupKFold"
      ],
      "outputs": [],
      "execution_count": null,
      "metadata": {
        "collapsed": false,
        "outputHidden": false,
        "inputHidden": false
      }
    },
    {
      "cell_type": "code",
      "source": [
        "def f_gal(p, X=t_gal, y=R_gal, point_weights=arm.point_weights):\n",
        "    # p = (b, r0)\n",
        "    yp = odeint(dydt, p[1], X, args=(p[0],))[:, 0]\n",
        "    return mean_squared_error(yp, y, sample_weight=point_weights)\n",
        "\n",
        "def sa_weighted_group_cross_val(X, y, cv, groups, weights, p0=(0.1, 20)):\n",
        "    scores = np.zeros(cv.get_n_splits(X, y, groups=groups))\n",
        "    for i, (train, test) in enumerate(cv.split(X, y, groups=groups)):\n",
        "        X_train, y_train = X[train], y[train]\n",
        "        X_test, y_test = X[test], y[test]\n",
        "        group_weights = weights[train] / weights[train].mean()\n",
        "\n",
        "        _f = lambda p: f_gal(p, X=X_train, y=y_train, point_weights=group_weights)\n",
        "        res = optimize.minimize(_f, p0)\n",
        "        guess_b, guess_r0 = res['x']\n",
        "\n",
        "        y_pred = odeint(dydt, guess_r0, X_test, args=(guess_b,))[:, 0]\n",
        "        score = r2_score(y_pred, y_test)\n",
        "        \n",
        "        plt.plot(X_train, y_train, '.', alpha=0.4)\n",
        "        plt.plot(X_test, y_pred)\n",
        "        scores[i] = score\n",
        "    return scores"
      ],
      "outputs": [],
      "execution_count": null,
      "metadata": {
        "collapsed": false,
        "outputHidden": false,
        "inputHidden": false
      }
    },
    {
      "cell_type": "code",
      "source": [
        "gkf = GroupKFold(n_splits=2)\n",
        "sa_weighted_group_cross_val(t_gal, R_gal, gkf, groups_gal, arm.point_weights)"
      ],
      "outputs": [],
      "execution_count": null,
      "metadata": {
        "collapsed": false,
        "outputHidden": false,
        "inputHidden": false
      }
    },
    {
      "cell_type": "code",
      "source": [
        "%time res = optimize.minimize(f_gal, (0.1, 20))\n",
        "guess_b, guess_r0 = res['x']\n",
        "y_guess = odeint(dydt, guess_r0, t_gal, args=(guess_b,))[:, 0]\n",
        "guess_sigma = (R_gal - y_guess).std()"
      ],
      "outputs": [],
      "execution_count": null,
      "metadata": {
        "collapsed": false,
        "outputHidden": false,
        "inputHidden": false
      }
    },
    {
      "cell_type": "code",
      "source": [
        "plt.plot(t_gal, R_gal, '.', markersize=10, alpha=0.2)\n",
        "plt.plot(t_gal, R_logsp)\n",
        "plt.plot(t_gal, y_guess)\n",
        "plt.title(r'$b = {:.2f}$, $r_0 = {:.2f}$'.format(guess_b, guess_r0));\n",
        "# plt.yscale('log')\n",
        "print('{:<25} {:.4f}'.format('Swing amplified spiral:', r2_score(R_gal, y_guess)))\n",
        "print('{:<25} {:.4f}'.format('Log spiral:', r2_score(R_gal, R_logsp)))"
      ],
      "outputs": [],
      "execution_count": null,
      "metadata": {
        "collapsed": false,
        "outputHidden": false,
        "inputHidden": false
      }
    },
    {
      "cell_type": "code",
      "source": [
        "# with pm.Model() as mdl_ode_gal:\n",
        "#     logB = pm.Normal('logB', mu=0, sd=20, testval=np.log(guess_b))\n",
        "#     B = tt.exp(logB)\n",
        "#     r_0 = pm.Uniform('r_0', lower=0, upper=100, testval=guess_r0)\n",
        "#     sigma = pm.Exponential('sigma', lam=0.05, testval=guess_sigma)\n",
        "    \n",
        "#     y_est, updates = theano.scan(\n",
        "#         fn=theano_rk4,\n",
        "#         sequences=[\n",
        "#             {'input': tt.as_tensor(t_gal), 'taps': [0, -1]}\n",
        "#         ],\n",
        "#         outputs_info=r_0,\n",
        "#         non_sequences=[\n",
        "#             B,\n",
        "#         ]\n",
        "#     )\n",
        "\n",
        "#     y_est = tt.concatenate([[r_0], y_est])\n",
        "#     likelihood = pm.Normal('likelihood', mu=y_est, sd=sigma, observed=R_gal)\n",
        "\n",
        "# with mdl_ode_gal:\n",
        "#     traces_ols_gal = pm.sample(1000, tune=500, n_jobs=4)\n",
        "\n",
        "# df_gal = pm.summary(traces_ols_gal)\n",
        "# display(df_gal)"
      ],
      "outputs": [],
      "execution_count": null,
      "metadata": {
        "collapsed": false,
        "outputHidden": false,
        "inputHidden": false
      }
    },
    {
      "cell_type": "code",
      "source": [
        "# df_gal = pm.summary(traces_ols_gal)"
      ],
      "outputs": [],
      "execution_count": null,
      "metadata": {
        "collapsed": false,
        "outputHidden": false,
        "inputHidden": false
      }
    },
    {
      "cell_type": "code",
      "source": [
        "# pm.traceplot(traces_ols_gal, lines={'logB': np.log(guess_b), 'sigma': guess_sigma, 'r_0': guess_r0},\n",
        "#              combined=False);"
      ],
      "outputs": [],
      "execution_count": null,
      "metadata": {
        "collapsed": false,
        "outputHidden": false,
        "inputHidden": false
      }
    },
    {
      "cell_type": "code",
      "source": [
        "# y_guess_mc = odeint(dydt, df_gal['mean'].loc['r_0'], t_gal, args=(np.exp(df_gal['mean'].loc['logB']),))[:, 0]\n",
        "\n",
        "# plt.plot(t_gal, R_gal, '.', markersize=10, alpha=0.2)\n",
        "# plt.plot(t_gal, R_logsp, label='Log spiral')\n",
        "# plt.plot(t_gal, y_guess, label='Least-squares result')\n",
        "# plt.plot(t_gal, y_guess_mc, label='PYMC result')\n",
        "# plt.title(r'$b = {:.2f}$, $r_0 = {:.2f}$'.format(guess_b, guess_r0));\n",
        "# plt.legend();\n",
        "# # plt.yscale('log')\n",
        "# print('{:<25} {:.4f}'.format('Swing amplified spiral:', r2_score(R_gal, y_guess)))\n",
        "# print('{:<25} {:.4f}'.format('Log spiral:', r2_score(R_gal, R_logsp)))"
      ],
      "outputs": [],
      "execution_count": null,
      "metadata": {
        "collapsed": false,
        "outputHidden": false,
        "inputHidden": false
      }
    },
    {
      "cell_type": "code",
      "source": [
        "# plt.figure(figsize=(10, 5))\n",
        "# plt.subplot(121)\n",
        "# plt.plot(t_gal, R_gal, '.', markersize=10, alpha=0.2)\n",
        "# plt.plot(t_gal, R_logsp, label='Log spiral')\n",
        "# plt.plot(t_gal, y_guess, label='Least-squares result')\n",
        "# plt.plot(t_gal, y_guess_mc, label='PYMC result')\n",
        "# plt.suptitle(r'$b = {:.2f}$, $r_0 = {:.2f}$'.format(guess_b, guess_r0));\n",
        "# plt.legend()\n",
        "\n",
        "# plt.subplot(122)\n",
        "# plt.plot(*xy_from_r_theta(R_gal, t_gal), '.', markersize=10, alpha=0.2)\n",
        "# plt.plot(*xy_from_r_theta(R_logsp, t_gal), label='Log spiral')\n",
        "# plt.plot(*xy_from_r_theta(y_guess, t_gal), label='Least-squares result')\n",
        "# plt.plot(*xy_from_r_theta(y_guess_mc, t_gal), label='PYMC result')\n",
        "# plt.axis('equal');"
      ],
      "outputs": [],
      "execution_count": null,
      "metadata": {
        "collapsed": false,
        "outputHidden": false,
        "inputHidden": false
      }
    },
    {
      "cell_type": "markdown",
      "source": [
        "What do the r2 scores of the different models look like?"
      ],
      "metadata": {}
    },
    {
      "cell_type": "code",
      "source": [
        "# print('{:<25} {:.4f}'.format('Swing amplified spiral:', r2_score(R_gal, y_guess)))\n",
        "# print('{:<25} {:.4f}'.format('Log spiral:', r2_score(R_gal, R_logsp)))"
      ],
      "outputs": [],
      "execution_count": null,
      "metadata": {
        "collapsed": false,
        "outputHidden": false,
        "inputHidden": false
      }
    },
    {
      "cell_type": "code",
      "source": [],
      "outputs": [],
      "execution_count": null,
      "metadata": {
        "collapsed": false,
        "outputHidden": false,
        "inputHidden": false
      }
    }
  ],
  "metadata": {
    "colab": {
      "name": "pymc_ode.ipynb",
      "version": "0.3.2",
      "provenance": [],
      "collapsed_sections": []
    },
    "kernelspec": {
      "name": "python3",
      "language": "python",
      "display_name": "Python 3"
    },
    "accelerator": "GPU",
    "kernel_info": {
      "name": "python3"
    },
    "language_info": {
      "name": "python",
      "version": "3.6.7",
      "mimetype": "text/x-python",
      "codemirror_mode": {
        "name": "ipython",
        "version": 3
      },
      "pygments_lexer": "ipython3",
      "nbconvert_exporter": "python",
      "file_extension": ".py"
    },
    "nteract": {
      "version": "0.14.3"
    }
  },
  "nbformat": 4,
  "nbformat_minor": 0
}