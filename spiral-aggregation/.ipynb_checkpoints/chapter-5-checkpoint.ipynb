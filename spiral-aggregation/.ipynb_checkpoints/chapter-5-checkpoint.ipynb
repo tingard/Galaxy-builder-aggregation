{
 "cells": [
  {
   "cell_type": "code",
   "execution_count": 1,
   "metadata": {
    "collapsed": true
   },
   "outputs": [],
   "source": [
    "import pandas\n",
    "import json\n",
    "import matplotlib.pyplot as plt\n",
    "import matplotlib.image as mpimg\n",
    "import matplotlib.transforms as transforms\n",
    "import numpy as np"
   ]
  },
  {
   "cell_type": "code",
   "execution_count": 2,
   "metadata": {
    "collapsed": false
   },
   "outputs": [
    {
     "name": "stdout",
     "output_type": "stream",
     "text": [
      "\u001b[31mI\u001b[0m \u001b[32mreally\u001b[0m \u001b[33mreally\u001b[0m \u001b[34mlike\u001b[0m \u001b[35mrainbows\u001b[0m\n"
     ]
    }
   ],
   "source": [
    "wrapColor = lambda color, s: '{}{}\\033[0m'.format(color, s)\n",
    "red = lambda s: wrapColor('\\033[31m', s)\n",
    "green = lambda s: wrapColor('\\033[32m', s)\n",
    "yellow = lambda s: wrapColor('\\033[33m', s)\n",
    "blue = lambda s: wrapColor('\\033[34m', s)\n",
    "purple = lambda s: wrapColor('\\033[35m', s)\n",
    "print(red('I'), green('really'), yellow('really'), blue('like'), purple('rainbows'))"
   ]
  },
  {
   "cell_type": "code",
   "execution_count": 3,
   "metadata": {
    "collapsed": false
   },
   "outputs": [
    {
     "name": "stdout",
     "output_type": "stream",
     "text": [
      "<class 'pandas.core.frame.DataFrame'>\n",
      "RangeIndex: 5638 entries, 0 to 5637\n",
      "Data columns (total 14 columns):\n",
      "classification_id    5638 non-null int64\n",
      "user_name            5638 non-null object\n",
      "user_id              4041 non-null float64\n",
      "user_ip              5638 non-null object\n",
      "workflow_id          5638 non-null int64\n",
      "workflow_name        5638 non-null object\n",
      "workflow_version     5638 non-null float64\n",
      "created_at           5638 non-null object\n",
      "gold_standard        0 non-null float64\n",
      "expert               0 non-null float64\n",
      "metadata             5638 non-null object\n",
      "annotations          5638 non-null object\n",
      "subject_data         5638 non-null object\n",
      "subject_ids          5638 non-null int64\n",
      "dtypes: float64(4), int64(3), object(7)\n",
      "memory usage: 616.7+ KB\n",
      "None\n",
      "\n",
      "<class 'pandas.core.frame.DataFrame'>\n",
      "RangeIndex: 391 entries, 0 to 390\n",
      "Data columns (total 9 columns):\n",
      "subject_id               391 non-null int64\n",
      "project_id               391 non-null int64\n",
      "workflow_id              342 non-null float64\n",
      "subject_set_id           391 non-null int64\n",
      "metadata                 391 non-null object\n",
      "locations                391 non-null object\n",
      "classifications_count    391 non-null int64\n",
      "retired_at               342 non-null object\n",
      "retirement_reason        342 non-null object\n",
      "dtypes: float64(1), int64(4), object(4)\n",
      "memory usage: 27.6+ KB\n",
      "None\n"
     ]
    }
   ],
   "source": [
    "classifications = pandas.read_csv('../classifications/galaxy-builder-classifications_24-7-18.csv')\n",
    "subjects = pandas.read_csv('../classifications/galaxy-builder-subjects_24-7-18.csv')\n",
    "print(classifications.info())\n",
    "print()\n",
    "print(subjects.info())"
   ]
  },
  {
   "cell_type": "code",
   "execution_count": 4,
   "metadata": {
    "collapsed": false
   },
   "outputs": [],
   "source": [
    "getUrl = lambda id: eval(subjects[subjects['subject_id'] == id]['locations'].iloc[0])['1']"
   ]
  },
  {
   "cell_type": "code",
   "execution_count": 5,
   "metadata": {
    "collapsed": false
   },
   "outputs": [
    {
     "name": "stdout",
     "output_type": "stream",
     "text": [
      "Identified \u001b[35m56\u001b[0m subjects with more than 25 classifications\n"
     ]
    }
   ],
   "source": [
    "most_recent_workflow = classifications.workflow_version == 61.107\n",
    "classifications[most_recent_workflow].groupby('subject_ids')\n",
    "classificationsCounts = classifications[most_recent_workflow]['subject_ids'].value_counts()\n",
    "\n",
    "mask = classificationsCounts > 25\n",
    "\n",
    "subjIds = np.array(classificationsCounts[mask].index)\n",
    "print('Identified {} subjects with more than 25 classifications'.format(purple(subjIds.shape[0])))"
   ]
  },
  {
   "cell_type": "code",
   "execution_count": 7,
   "metadata": {
    "collapsed": false
   },
   "outputs": [
    {
     "data": {
      "text/plain": [
       "{'#isModelling': True,\n",
       " '#models': [{'frame': 0, 'model': 'GALAXY_BUILDER_DIFFERENCE'},\n",
       "  {'frame': 2, 'model': 'GALAXY_BUILDER_MODEL'}],\n",
       " 'Camcol': '5',\n",
       " 'Common name': 'Unknown',\n",
       " 'Estimated distance': '0.051351044327020645 * c / H_0',\n",
       " 'Field': '289',\n",
       " 'NSA id': '387594',\n",
       " 'Petrosian radius (degrees)': '13.067802',\n",
       " 'Rerun': '301',\n",
       " 'Run': '3909',\n",
       " 'SDSS dr7 id': '587736543102304705',\n",
       " 'Sersic axis ratio': '0.851708',\n",
       " 'Url to view': '[skyserver link](+tab+http://skyserver.sdss.org/dr14/en/tools/chart/navi.aspx?ra=238.89666748046875&dec=6.463514804840088&opt=F)',\n",
       " 'dec': '6.463515',\n",
       " 'ra': '238.896667',\n",
       " 'redshift': '0.051418',\n",
       " 'retired': {'classifications_count': 35,\n",
       "  'created_at': '2018-04-26T16:12:39.938Z',\n",
       "  'id': 14228378,\n",
       "  'retired_at': '2018-05-04T14:52:35.663Z',\n",
       "  'retirement_reason': 'classification_count',\n",
       "  'subject_id': 20902081,\n",
       "  'updated_at': '2018-05-04T14:52:35.673Z',\n",
       "  'workflow_id': 5366}}"
      ]
     },
     "execution_count": 7,
     "metadata": {},
     "output_type": "execute_result"
    }
   ],
   "source": [
    "null = None\n",
    "true = True\n",
    "false = False\n",
    "\n",
    "foo = eval(classifications['subject_data'].iloc[5636])\n",
    "list(foo.values())[0]"
   ]
  },
  {
   "cell_type": "code",
   "execution_count": null,
   "metadata": {
    "collapsed": true
   },
   "outputs": [],
   "source": []
  }
 ],
 "metadata": {
  "kernelspec": {
   "display_name": "Python [default]",
   "language": "python",
   "name": "python3"
  },
  "language_info": {
   "codemirror_mode": {
    "name": "ipython",
    "version": 3
   },
   "file_extension": ".py",
   "mimetype": "text/x-python",
   "name": "python",
   "nbconvert_exporter": "python",
   "pygments_lexer": "ipython3",
   "version": "3.5.2"
  }
 },
 "nbformat": 4,
 "nbformat_minor": 1
}
