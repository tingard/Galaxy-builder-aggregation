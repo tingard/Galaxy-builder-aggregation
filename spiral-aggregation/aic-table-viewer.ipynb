{
  "cells": [
    {
      "cell_type": "markdown",
      "source": [
        "# Information criterion measurements:"
      ],
      "metadata": {
        "collapsed": false,
        "outputHidden": false,
        "inputHidden": false
      }
    },
    {
      "cell_type": "markdown",
      "source": [
        "Peform imports and initial setup:"
      ],
      "metadata": {
        "collapsed": false,
        "outputHidden": false,
        "inputHidden": false
      }
    },
    {
      "cell_type": "code",
      "source": [
        "%load_ext autoreload\n",
        "%autoreload 2\n",
        "%matplotlib inline"
      ],
      "outputs": [],
      "execution_count": 1,
      "metadata": {
        "collapsed": false,
        "outputHidden": false,
        "inputHidden": false
      }
    },
    {
      "cell_type": "code",
      "source": [
        "import pandas as pd\n",
        "import numpy as np\n",
        "import matplotlib.pyplot as plt\n",
        "from sklearn.linear_model import BayesianRidge, ARDRegression\n",
        "import spiral_model_comparison as smc\n",
        "from gzbuilderspirals import fitting\n",
        "from gzbuilderspirals import rThetaFromXY, xyFromRTheta"
      ],
      "outputs": [
        {
          "output_type": "stream",
          "name": "stdout",
          "text": [
            "Loading NSA catalog\n",
            "Loading Zooniverse classification dump\n",
            "Obtaining available frame montages\n"
          ]
        }
      ],
      "execution_count": 2,
      "metadata": {
        "collapsed": false,
        "outputHidden": false,
        "inputHidden": false
      }
    },
    {
      "cell_type": "markdown",
      "source": [
        "Load the list of subject IDs"
      ],
      "metadata": {
        "collapsed": false,
        "outputHidden": false,
        "inputHidden": false
      }
    },
    {
      "cell_type": "code",
      "source": [
        "with open('subject-id-list.csv', 'r') as f:\n",
        "        subjectIds = np.array([int(n) for n in f.read().split('\\n')])"
      ],
      "outputs": [],
      "execution_count": 3,
      "metadata": {
        "collapsed": false,
        "outputHidden": false,
        "inputHidden": false
      }
    },
    {
      "cell_type": "markdown",
      "source": [
        "Perform initial setup for the test galaxy"
      ],
      "metadata": {}
    },
    {
      "cell_type": "code",
      "source": [
        "chosenId = subjectIds[0]\n",
        "gal, angle = smc.get_galaxy_and_angle(chosenId)\n",
        "classifications, picArray, deprojectedImage = smc.get_image(\n",
        "    gal, chosenId, angle\n",
        ")\n",
        "galaxy_object = smc.get_galaxy_spirals(\n",
        "    gal, angle, chosenId, classifications\n",
        ")\n",
        "\n",
        "deprojectedArm = galaxy_object.deprojectArms()[1]\n",
        "\n",
        "getInfo = lambda f: (\n",
        "    f['clf']['spline'].scores_[-1],\n",
        "    f['clf']['spline_degree'] + 2,\n",
        "    f['params']['r_ordered'].shape[0]\n",
        ")"
      ],
      "outputs": [
        {
          "output_type": "stream",
          "name": "stdout",
          "text": [
            "Working on galaxy 21096909\n",
            "\t- USING MONTAGED IMAGE\n",
            "\t- Getting galaxy rotation\n",
            "\t- Clustering arms\n",
            "\t- Using saved distances\n",
            "\t- Fitting arms and errors\n"
          ]
        },
        {
          "output_type": "stream",
          "name": "stderr",
          "text": [
            "/Users/tlingard/anaconda3/lib/python3.7/site-packages/skimage/transform/_warps.py:110: UserWarning: Anti-aliasing will be enabled by default in skimage 0.15 to avoid aliasing artifacts when down-sampling images.\n",
            "  warn(\"Anti-aliasing will be enabled by default in skimage 0.15 to \"\n"
          ]
        }
      ],
      "execution_count": 4,
      "metadata": {
        "collapsed": false,
        "outputHidden": false,
        "inputHidden": false
      }
    },
    {
      "cell_type": "code",
      "source": [
        "r, theta = rThetaFromXY(*deprojectedArm.normalise(deprojectedArm.cleanedCloud).T)\n",
        "a = np.argsort(r)\n",
        "plt.plot(np.unwrap(theta[a]), r[a])\n",
        "b = np.argsort(np.unwrap(theta[a]))\n",
        "plt.plot(np.unwrap(theta[a])[b], r[a][b])\n",
        "\n",
        "T = np.unwrap(theta[a])[b]\n",
        "R = r[a][b]"
      ],
      "outputs": [
        {
          "output_type": "display_data",
          "data": {
            "text/plain": [
              "<Figure size 432x288 with 1 Axes>"
            ],
            "image/png": "[encoded data removed]"
          },
          "metadata": {
            "needs_background": "light"
          }
        }
      ],
      "execution_count": 5,
      "metadata": {
        "collapsed": false,
        "outputHidden": false,
        "inputHidden": false
      }
    },
    {
      "cell_type": "code",
      "source": [
        "br_clf_poly = BayesianRidge(\n",
        "    normalize=True,\n",
        "    compute_score=True,\n",
        "    fit_intercept=True\n",
        ")\n",
        "# T += 2*np.pi\n",
        "T_predict = np.linspace(min(T), max(T), 1000)\n",
        "\n",
        "degree = 5\n",
        "X = np.vander(T, degree+1)\n",
        "X_predict = np.vander(T_predict, degree + 1)\n",
        "br_clf_poly.fit(X, R)\n",
        "r_br, r_br_std = br_clf_poly.predict(\n",
        "    X_predict,\n",
        "    return_std=True\n",
        ")"
      ],
      "outputs": [],
      "execution_count": 62,
      "metadata": {
        "collapsed": false,
        "outputHidden": false,
        "inputHidden": false
      }
    },
    {
      "cell_type": "code",
      "source": [
        "br_clf_logsp = ARDRegression(\n",
        "    normalize=False,\n",
        "    compute_score=True,\n",
        "    fit_intercept=True\n",
        ")\n",
        "X_Theta = np.vander(T, 2)\n",
        "br_clf_logsp.fit(X_Theta, np.log(R))\n",
        "r_br_log_spiral_logged, r_br_log_spiral_std = br_clf_logsp.predict(\n",
        "    X_Theta,\n",
        "    return_std=True\n",
        ")"
      ],
      "outputs": [],
      "execution_count": 63,
      "metadata": {
        "collapsed": false,
        "outputHidden": false,
        "inputHidden": false
      }
    },
    {
      "cell_type": "code",
      "source": [
        "br_clf_poly.coef_"
      ],
      "outputs": [
        {
          "output_type": "execute_result",
          "execution_count": 64,
          "data": {
            "text/plain": [
              "array([-1.55127748e-04, -1.94152610e-03, -1.97122101e-03,  6.35563834e-02,\n",
              "        2.61602877e-01,  0.00000000e+00])"
            ]
          },
          "metadata": {}
        }
      ],
      "execution_count": 64,
      "metadata": {
        "collapsed": false,
        "outputHidden": false,
        "inputHidden": false
      }
    },
    {
      "cell_type": "code",
      "source": [
        "plt.plot(T, R, '.')\n",
        "plt.plot(T_predict, r_br)\n",
        "plt.plot(T, np.exp(r_br_log_spiral_logged))\n",
        "k = sum(br_clf_poly.coef_ != 0)"
      ],
      "outputs": [
        {
          "output_type": "display_data",
          "data": {
            "text/plain": [
              "<Figure size 432x288 with 1 Axes>"
            ],
            "image/png": "[encoded data removed]"
          },
          "metadata": {
            "needs_background": "light"
          }
        }
      ],
      "execution_count": 65,
      "metadata": {
        "collapsed": false,
        "outputHidden": false,
        "inputHidden": false
      }
    },
    {
      "cell_type": "code",
      "source": [
        "print('Polynomial:\\n\\tAIC:', smc.AIC(br_clf_poly.scores_[-1], k + 1, T.shape[0]),\n",
        "    '\\n\\tBIC:', smc.BIC(br_clf_poly.scores_[-1], k + 1, T.shape[0]))\n",
        "print('Log spiral:\\n\\tAIC:', smc.AIC(br_clf_logsp.scores_[-1], k + 1, T.shape[0], log_transform=True, y=R),\n",
        "    '\\n\\tBIC:', smc.BIC(br_clf_logsp.scores_[-1], k + 1, T.shape[0], log_transform=True, y=R)\n",
        ")"
      ],
      "outputs": [
        {
          "output_type": "stream",
          "name": "stdout",
          "text": [
            "Polynomial:\n",
            "\tAIC: -5258.199339648277 \n",
            "\tBIC: -5228.126646897963\n",
            "Log spiral:\n",
            "\tAIC: -6621.785293461067 \n",
            "\tBIC: -6591.712600710754\n"
          ]
        }
      ],
      "execution_count": 57,
      "metadata": {
        "collapsed": false,
        "outputHidden": false,
        "inputHidden": false
      }
    },
    {
      "cell_type": "code",
      "source": [
        "def polyFit(T, r):\n",
        "    \"\"\"Given the (unwrapped and ordered) theta and r values of\n",
        "    cleaned points in a spiral, fit a low-order polynomial using\n",
        "    ARDRegression\n",
        "    \"\"\"\n",
        "    T_center = T - np.average(T, axis=0)\n",
        "    r_center = r - np.average(r, axis=0)\n",
        "    \n",
        "    clf = ARDRegression(\n",
        "        compute_score=True,\n",
        "        fit_intercept=False,\n",
        "        copy_X=True\n",
        "    )\n",
        "\n",
        "    T_predict = np.linspace(min(T), max(T), 1000)\n",
        "\n",
        "    X = np.vander(T_center, N=50)\n",
        "    X_predict = np.vander(T_predict, N=50)\n",
        "\n",
        "    clf.fit(X, r_center)\n",
        "    r_br, r_br_std = clf.predict(\n",
        "        X_predict,\n",
        "        return_std=True\n",
        "    )\n",
        "    return {\n",
        "        'AIC': smc.AIC(clf.scores_[-1], sum(clf.coef_ != 0), T.shape[0]),\n",
        "        'BIC': smc.BIC(clf.scores_[-1], sum(clf.coef_ != 0), T.shape[0]),\n",
        "        'clf': clf,\n",
        "        't': T_predict + T_center,\n",
        "        'r': r_br + r_center,\n",
        "        'r_std': r_br_std,\n",
        "    }"
      ],
      "outputs": [],
      "execution_count": null,
      "metadata": {
        "collapsed": false,
        "outputHidden": false,
        "inputHidden": false
      }
    }
  ],
  "metadata": {
    "kernel_info": {
      "name": "python3"
    },
    "language_info": {
      "name": "python",
      "version": "3.7.0",
      "mimetype": "text/x-python",
      "codemirror_mode": {
        "name": "ipython",
        "version": 3
      },
      "pygments_lexer": "ipython3",
      "nbconvert_exporter": "python",
      "file_extension": ".py"
    },
    "kernelspec": {
      "name": "python3",
      "language": "python",
      "display_name": "Python 3"
    },
    "nteract": {
      "version": "0.12.2"
    }
  },
  "nbformat": 4,
  "nbformat_minor": 4
}