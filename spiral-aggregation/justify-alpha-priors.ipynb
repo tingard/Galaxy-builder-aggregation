{
  "cells": [
    {
      "cell_type": "markdown",
      "source": [
        "# How do we choose hyperpriors on our BayesianRidge fitting code?\n",
        "\n",
        "## Background\n",
        "When fitting a prior\n",
        "We need to choose $\\alpha_1$ and $\\alpha_2$ to represent our underlying assumption about the intrinsic width of a spiral arm"
      ],
      "metadata": {
        "collapsed": false,
        "outputHidden": false,
        "inputHidden": false
      }
    },
    {
      "cell_type": "code",
      "source": [
        "import numpy as np\n",
        "import pandas as pd\n",
        "import matplotlib.pyplot as plt\n",
        "import json\n",
        "from astropy.visualization import hist\n",
        "from scipy.special import gamma\n",
        "from scipy.optimize import curve_fit\n",
        "import scipy.special as sc\n",
        "import lib.galaxy_utilities as gu"
      ],
      "outputs": [],
      "execution_count": 2,
      "metadata": {
        "collapsed": false,
        "outputHidden": false,
        "inputHidden": false
      }
    },
    {
      "cell_type": "code",
      "source": [
        "all_annotations = [c['annotations'] for c in classifications]"
      ],
      "outputs": [],
      "execution_count": null,
      "metadata": {
        "collapsed": false,
        "outputHidden": false,
        "inputHidden": false
      }
    },
    {
      "cell_type": "code",
      "source": [
        "def gd(x, alpha, beta):\n",
        "    return beta**alpha / gamma(alpha) * x**(alpha-1) * np.exp(-beta * x) * 1 / sc.gammaincc(alpha, beta * 0.1)"
      ],
      "outputs": [],
      "execution_count": null,
      "metadata": {
        "collapsed": false,
        "outputHidden": false,
        "inputHidden": false
      }
    },
    {
      "cell_type": "code",
      "source": [
        "all_annotations = [c['annotations'] for c in classifications]\n",
        "def grab_slider_spread(annotation):\n",
        "    try:\n",
        "        return [float(j['details'][1]['value']) for j in annotation[3]['value'][0]['value']]\n",
        "    except (KeyError, IndexError):\n",
        "        return []\n",
        "width_sliders = np.array([j for i in all_annotations for j in grab_slider_spread(i)])\n",
        "default_mask = width_sliders == 1.0\n",
        "min_max_mask = (width_sliders == 0.0) ^ (width_sliders == 2.0)\n",
        "width_sliders_filtered = width_sliders[~(default_mask ^ min_max_mask)]\n",
        "\n",
        "sigmas = 1 / (1**2 * 5 * width_sliders_filtered)\n",
        "print(min(sigmas), max(sigmas))\n",
        "\n",
        "y, X_, _ = hist(sigmas, bins='knuth', alpha=1, histtype='step', density=True)\n",
        "X = (X_[1:] + X_[:-1])/2\n",
        "\n",
        "popt, _ = curve_fit(gd, X, y, (1, 1))\n",
        "plt.plot(X, gd(X, *popt))\n",
        "print('Semi-truncated gamma parameters', popt)"
      ],
      "outputs": [],
      "execution_count": null,
      "metadata": {
        "collapsed": false,
        "outputHidden": false,
        "inputHidden": false
      }
    }
  ],
  "metadata": {
    "kernel_info": {
      "name": "python3"
    },
    "language_info": {
      "name": "python",
      "version": "3.7.0",
      "mimetype": "text/x-python",
      "codemirror_mode": {
        "name": "ipython",
        "version": 3
      },
      "pygments_lexer": "ipython3",
      "nbconvert_exporter": "python",
      "file_extension": ".py"
    },
    "kernelspec": {
      "name": "python3",
      "language": "python",
      "display_name": "Python 3"
    },
    "nteract": {
      "version": "0.12.3"
    }
  },
  "nbformat": 4,
  "nbformat_minor": 4
}